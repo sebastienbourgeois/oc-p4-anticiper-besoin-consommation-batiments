{
 "cells": [
  {
   "cell_type": "markdown",
   "metadata": {},
   "source": [
    "# Introduction\n",
    "\n",
    "Afin d'atteindre son objectif de ville neutre en émissions carbonnées en 2050, la ville de Seattle s'intéresse aux émissions des bâtiments non résidentiels.\n",
    "\n",
    "Les agents municipaux ont donc effectué des relevés coûteux et minutieux en 2015 et 2016. À partir de ces relevés, je vais chercher à prédire les émissions de $CO_{2}$ et la consommation totale d'énergie des bâtiments pour lesquels les mesures n'ont pas encore été faites.\n",
    "\n",
    "La prédiction se basera sur les données déclaratives du permis d'exploitation commerciale (taille et usage des bâtiments, mention de travaux récents, date de construction, etc.)\n",
    "\n",
    "De plus, l'**[ENERGY STAR Score](https://www.energystar.gov/buildings/benchmark/analyze_benchmarking_results)** étant fastidieux à calculer avec l'approche actuellement utilisée par les équipes, son intérêt pour la prédiction des émissions sera alors évalué.\n",
    "\n",
    "Ce notebook a pour objectif de présenter l'analyse exploratoire des **[données](https://www.kaggle.com/city-of-seattle/sea-building-energy-benchmarking#2015-building-energy-benchmarking.csv)**."
   ]
  },
  {
   "cell_type": "markdown",
   "metadata": {},
   "source": [
    "# Import des librairies et chargement des données"
   ]
  },
  {
   "cell_type": "code",
   "execution_count": 4,
   "metadata": {},
   "outputs": [],
   "source": [
    "import os\n",
    "\n",
    "# grammaire abstraite de l'arbre syntaxique de Python\n",
    "import ast\n",
    "\n",
    "import numpy as np\n",
    "import pandas as pd\n",
    "\n",
    "%matplotlib inline\n",
    "import matplotlib.pyplot as plt\n",
    "import seaborn as sns\n",
    "\n",
    "from pandas.api.types import is_string_dtype, is_numeric_dtype"
   ]
  },
  {
   "cell_type": "markdown",
   "metadata": {},
   "source": [
    "Import des données de 2015"
   ]
  },
  {
   "cell_type": "code",
   "execution_count": 5,
   "metadata": {},
   "outputs": [],
   "source": [
    "dossier_data = \"data/\"\n",
    "nom_fichier = \"2015-building-energy-benchmarking.csv\"\n",
    "batiments_2015_data = pd.read_csv(dossier_data+nom_fichier)"
   ]
  },
  {
   "cell_type": "code",
   "execution_count": 4,
   "metadata": {},
   "outputs": [
    {
     "data": {
      "text/html": [
       "<div>\n",
       "<style scoped>\n",
       "    .dataframe tbody tr th:only-of-type {\n",
       "        vertical-align: middle;\n",
       "    }\n",
       "\n",
       "    .dataframe tbody tr th {\n",
       "        vertical-align: top;\n",
       "    }\n",
       "\n",
       "    .dataframe thead th {\n",
       "        text-align: right;\n",
       "    }\n",
       "</style>\n",
       "<table border=\"1\" class=\"dataframe\">\n",
       "  <thead>\n",
       "    <tr style=\"text-align: right;\">\n",
       "      <th></th>\n",
       "      <th>OSEBuildingID</th>\n",
       "      <th>DataYear</th>\n",
       "      <th>BuildingType</th>\n",
       "      <th>PrimaryPropertyType</th>\n",
       "      <th>PropertyName</th>\n",
       "      <th>TaxParcelIdentificationNumber</th>\n",
       "      <th>Location</th>\n",
       "      <th>CouncilDistrictCode</th>\n",
       "      <th>Neighborhood</th>\n",
       "      <th>YearBuilt</th>\n",
       "      <th>...</th>\n",
       "      <th>GHGEmissionsIntensity(kgCO2e/ft2)</th>\n",
       "      <th>DefaultData</th>\n",
       "      <th>Comment</th>\n",
       "      <th>ComplianceStatus</th>\n",
       "      <th>Outlier</th>\n",
       "      <th>2010 Census Tracts</th>\n",
       "      <th>Seattle Police Department Micro Community Policing Plan Areas</th>\n",
       "      <th>City Council Districts</th>\n",
       "      <th>SPD Beats</th>\n",
       "      <th>Zip Codes</th>\n",
       "    </tr>\n",
       "  </thead>\n",
       "  <tbody>\n",
       "    <tr>\n",
       "      <th>0</th>\n",
       "      <td>1</td>\n",
       "      <td>2015</td>\n",
       "      <td>NonResidential</td>\n",
       "      <td>Hotel</td>\n",
       "      <td>MAYFLOWER PARK HOTEL</td>\n",
       "      <td>659000030</td>\n",
       "      <td>{'latitude': '47.61219025', 'longitude': '-122...</td>\n",
       "      <td>7</td>\n",
       "      <td>DOWNTOWN</td>\n",
       "      <td>1927</td>\n",
       "      <td>...</td>\n",
       "      <td>2.64</td>\n",
       "      <td>No</td>\n",
       "      <td>NaN</td>\n",
       "      <td>Compliant</td>\n",
       "      <td>NaN</td>\n",
       "      <td>NaN</td>\n",
       "      <td>14.0</td>\n",
       "      <td>NaN</td>\n",
       "      <td>31.0</td>\n",
       "      <td>18081</td>\n",
       "    </tr>\n",
       "    <tr>\n",
       "      <th>1</th>\n",
       "      <td>2</td>\n",
       "      <td>2015</td>\n",
       "      <td>NonResidential</td>\n",
       "      <td>Hotel</td>\n",
       "      <td>PARAMOUNT HOTEL</td>\n",
       "      <td>659000220</td>\n",
       "      <td>{'latitude': '47.61310583', 'longitude': '-122...</td>\n",
       "      <td>7</td>\n",
       "      <td>DOWNTOWN</td>\n",
       "      <td>1996</td>\n",
       "      <td>...</td>\n",
       "      <td>2.38</td>\n",
       "      <td>No</td>\n",
       "      <td>NaN</td>\n",
       "      <td>Compliant</td>\n",
       "      <td>NaN</td>\n",
       "      <td>NaN</td>\n",
       "      <td>14.0</td>\n",
       "      <td>NaN</td>\n",
       "      <td>31.0</td>\n",
       "      <td>18081</td>\n",
       "    </tr>\n",
       "    <tr>\n",
       "      <th>2</th>\n",
       "      <td>3</td>\n",
       "      <td>2015</td>\n",
       "      <td>NonResidential</td>\n",
       "      <td>Hotel</td>\n",
       "      <td>WESTIN HOTEL</td>\n",
       "      <td>659000475</td>\n",
       "      <td>{'latitude': '47.61334897', 'longitude': '-122...</td>\n",
       "      <td>7</td>\n",
       "      <td>DOWNTOWN</td>\n",
       "      <td>1969</td>\n",
       "      <td>...</td>\n",
       "      <td>1.92</td>\n",
       "      <td>Yes</td>\n",
       "      <td>NaN</td>\n",
       "      <td>Compliant</td>\n",
       "      <td>NaN</td>\n",
       "      <td>NaN</td>\n",
       "      <td>56.0</td>\n",
       "      <td>NaN</td>\n",
       "      <td>31.0</td>\n",
       "      <td>18081</td>\n",
       "    </tr>\n",
       "    <tr>\n",
       "      <th>3</th>\n",
       "      <td>5</td>\n",
       "      <td>2015</td>\n",
       "      <td>NonResidential</td>\n",
       "      <td>Hotel</td>\n",
       "      <td>HOTEL MAX</td>\n",
       "      <td>659000640</td>\n",
       "      <td>{'latitude': '47.61421585', 'longitude': '-122...</td>\n",
       "      <td>7</td>\n",
       "      <td>DOWNTOWN</td>\n",
       "      <td>1926</td>\n",
       "      <td>...</td>\n",
       "      <td>31.38</td>\n",
       "      <td>No</td>\n",
       "      <td>NaN</td>\n",
       "      <td>Compliant</td>\n",
       "      <td>High Outlier</td>\n",
       "      <td>NaN</td>\n",
       "      <td>56.0</td>\n",
       "      <td>NaN</td>\n",
       "      <td>31.0</td>\n",
       "      <td>18081</td>\n",
       "    </tr>\n",
       "    <tr>\n",
       "      <th>4</th>\n",
       "      <td>8</td>\n",
       "      <td>2015</td>\n",
       "      <td>NonResidential</td>\n",
       "      <td>Hotel</td>\n",
       "      <td>WARWICK SEATTLE HOTEL</td>\n",
       "      <td>659000970</td>\n",
       "      <td>{'latitude': '47.6137544', 'longitude': '-122....</td>\n",
       "      <td>7</td>\n",
       "      <td>DOWNTOWN</td>\n",
       "      <td>1980</td>\n",
       "      <td>...</td>\n",
       "      <td>4.02</td>\n",
       "      <td>No</td>\n",
       "      <td>NaN</td>\n",
       "      <td>Compliant</td>\n",
       "      <td>NaN</td>\n",
       "      <td>NaN</td>\n",
       "      <td>56.0</td>\n",
       "      <td>NaN</td>\n",
       "      <td>31.0</td>\n",
       "      <td>19576</td>\n",
       "    </tr>\n",
       "  </tbody>\n",
       "</table>\n",
       "<p>5 rows × 47 columns</p>\n",
       "</div>"
      ],
      "text/plain": [
       "   OSEBuildingID  DataYear    BuildingType PrimaryPropertyType  \\\n",
       "0              1      2015  NonResidential               Hotel   \n",
       "1              2      2015  NonResidential               Hotel   \n",
       "2              3      2015  NonResidential               Hotel   \n",
       "3              5      2015  NonResidential               Hotel   \n",
       "4              8      2015  NonResidential               Hotel   \n",
       "\n",
       "            PropertyName TaxParcelIdentificationNumber  \\\n",
       "0   MAYFLOWER PARK HOTEL                     659000030   \n",
       "1        PARAMOUNT HOTEL                     659000220   \n",
       "2           WESTIN HOTEL                     659000475   \n",
       "3              HOTEL MAX                     659000640   \n",
       "4  WARWICK SEATTLE HOTEL                     659000970   \n",
       "\n",
       "                                            Location  CouncilDistrictCode  \\\n",
       "0  {'latitude': '47.61219025', 'longitude': '-122...                    7   \n",
       "1  {'latitude': '47.61310583', 'longitude': '-122...                    7   \n",
       "2  {'latitude': '47.61334897', 'longitude': '-122...                    7   \n",
       "3  {'latitude': '47.61421585', 'longitude': '-122...                    7   \n",
       "4  {'latitude': '47.6137544', 'longitude': '-122....                    7   \n",
       "\n",
       "  Neighborhood  YearBuilt  ...  GHGEmissionsIntensity(kgCO2e/ft2)  \\\n",
       "0     DOWNTOWN       1927  ...                               2.64   \n",
       "1     DOWNTOWN       1996  ...                               2.38   \n",
       "2     DOWNTOWN       1969  ...                               1.92   \n",
       "3     DOWNTOWN       1926  ...                              31.38   \n",
       "4     DOWNTOWN       1980  ...                               4.02   \n",
       "\n",
       "   DefaultData  Comment  ComplianceStatus       Outlier 2010 Census Tracts  \\\n",
       "0           No      NaN         Compliant           NaN                NaN   \n",
       "1           No      NaN         Compliant           NaN                NaN   \n",
       "2          Yes      NaN         Compliant           NaN                NaN   \n",
       "3           No      NaN         Compliant  High Outlier                NaN   \n",
       "4           No      NaN         Compliant           NaN                NaN   \n",
       "\n",
       "  Seattle Police Department Micro Community Policing Plan Areas  \\\n",
       "0                                               14.0              \n",
       "1                                               14.0              \n",
       "2                                               56.0              \n",
       "3                                               56.0              \n",
       "4                                               56.0              \n",
       "\n",
       "   City Council Districts SPD Beats  Zip Codes  \n",
       "0                     NaN      31.0      18081  \n",
       "1                     NaN      31.0      18081  \n",
       "2                     NaN      31.0      18081  \n",
       "3                     NaN      31.0      18081  \n",
       "4                     NaN      31.0      19576  \n",
       "\n",
       "[5 rows x 47 columns]"
      ]
     },
     "execution_count": 4,
     "metadata": {},
     "output_type": "execute_result"
    }
   ],
   "source": [
    "batiments_2015_data.head()"
   ]
  },
  {
   "cell_type": "code",
   "execution_count": 5,
   "metadata": {},
   "outputs": [
    {
     "name": "stdout",
     "output_type": "stream",
     "text": [
      "<class 'pandas.core.frame.DataFrame'>\n",
      "RangeIndex: 3340 entries, 0 to 3339\n",
      "Data columns (total 47 columns):\n",
      " #   Column                                                         Non-Null Count  Dtype  \n",
      "---  ------                                                         --------------  -----  \n",
      " 0   OSEBuildingID                                                  3340 non-null   int64  \n",
      " 1   DataYear                                                       3340 non-null   int64  \n",
      " 2   BuildingType                                                   3340 non-null   object \n",
      " 3   PrimaryPropertyType                                            3340 non-null   object \n",
      " 4   PropertyName                                                   3340 non-null   object \n",
      " 5   TaxParcelIdentificationNumber                                  3338 non-null   object \n",
      " 6   Location                                                       3340 non-null   object \n",
      " 7   CouncilDistrictCode                                            3340 non-null   int64  \n",
      " 8   Neighborhood                                                   3340 non-null   object \n",
      " 9   YearBuilt                                                      3340 non-null   int64  \n",
      " 10  NumberofBuildings                                              3340 non-null   int64  \n",
      " 11  NumberofFloors                                                 3332 non-null   float64\n",
      " 12  PropertyGFATotal                                               3340 non-null   int64  \n",
      " 13  PropertyGFAParking                                             3340 non-null   int64  \n",
      " 14  PropertyGFABuilding(s)                                         3340 non-null   int64  \n",
      " 15  ListOfAllPropertyUseTypes                                      3213 non-null   object \n",
      " 16  LargestPropertyUseType                                         3204 non-null   object \n",
      " 17  LargestPropertyUseTypeGFA                                      3204 non-null   float64\n",
      " 18  SecondLargestPropertyUseType                                   1559 non-null   object \n",
      " 19  SecondLargestPropertyUseTypeGFA                                1559 non-null   float64\n",
      " 20  ThirdLargestPropertyUseType                                    560 non-null    object \n",
      " 21  ThirdLargestPropertyUseTypeGFA                                 560 non-null    float64\n",
      " 22  YearsENERGYSTARCertified                                       110 non-null    object \n",
      " 23  ENERGYSTARScore                                                2560 non-null   float64\n",
      " 24  SiteEUI(kBtu/sf)                                               3330 non-null   float64\n",
      " 25  SiteEUIWN(kBtu/sf)                                             3330 non-null   float64\n",
      " 26  SourceEUI(kBtu/sf)                                             3330 non-null   float64\n",
      " 27  SourceEUIWN(kBtu/sf)                                           3330 non-null   float64\n",
      " 28  SiteEnergyUse(kBtu)                                            3330 non-null   float64\n",
      " 29  SiteEnergyUseWN(kBtu)                                          3330 non-null   float64\n",
      " 30  SteamUse(kBtu)                                                 3330 non-null   float64\n",
      " 31  Electricity(kWh)                                               3330 non-null   float64\n",
      " 32  Electricity(kBtu)                                              3330 non-null   float64\n",
      " 33  NaturalGas(therms)                                             3330 non-null   float64\n",
      " 34  NaturalGas(kBtu)                                               3330 non-null   float64\n",
      " 35  OtherFuelUse(kBtu)                                             3330 non-null   float64\n",
      " 36  GHGEmissions(MetricTonsCO2e)                                   3330 non-null   float64\n",
      " 37  GHGEmissionsIntensity(kgCO2e/ft2)                              3330 non-null   float64\n",
      " 38  DefaultData                                                    3339 non-null   object \n",
      " 39  Comment                                                        13 non-null     object \n",
      " 40  ComplianceStatus                                               3340 non-null   object \n",
      " 41  Outlier                                                        84 non-null     object \n",
      " 42  2010 Census Tracts                                             224 non-null    float64\n",
      " 43  Seattle Police Department Micro Community Policing Plan Areas  3338 non-null   float64\n",
      " 44  City Council Districts                                         213 non-null    float64\n",
      " 45  SPD Beats                                                      3338 non-null   float64\n",
      " 46  Zip Codes                                                      3340 non-null   int64  \n",
      "dtypes: float64(23), int64(9), object(15)\n",
      "memory usage: 1.2+ MB\n"
     ]
    }
   ],
   "source": [
    "batiments_2015_data.info()"
   ]
  },
  {
   "cell_type": "markdown",
   "metadata": {},
   "source": [
    "Import des données de 2016"
   ]
  },
  {
   "cell_type": "code",
   "execution_count": 6,
   "metadata": {},
   "outputs": [],
   "source": [
    "dossier_data = \"data/\"\n",
    "nom_fichier = \"2016-building-energy-benchmarking.csv\"\n",
    "batiments_2016_data = pd.read_csv(dossier_data+nom_fichier)"
   ]
  },
  {
   "cell_type": "code",
   "execution_count": 7,
   "metadata": {},
   "outputs": [
    {
     "data": {
      "text/html": [
       "<div>\n",
       "<style scoped>\n",
       "    .dataframe tbody tr th:only-of-type {\n",
       "        vertical-align: middle;\n",
       "    }\n",
       "\n",
       "    .dataframe tbody tr th {\n",
       "        vertical-align: top;\n",
       "    }\n",
       "\n",
       "    .dataframe thead th {\n",
       "        text-align: right;\n",
       "    }\n",
       "</style>\n",
       "<table border=\"1\" class=\"dataframe\">\n",
       "  <thead>\n",
       "    <tr style=\"text-align: right;\">\n",
       "      <th></th>\n",
       "      <th>OSEBuildingID</th>\n",
       "      <th>DataYear</th>\n",
       "      <th>BuildingType</th>\n",
       "      <th>PrimaryPropertyType</th>\n",
       "      <th>PropertyName</th>\n",
       "      <th>Address</th>\n",
       "      <th>City</th>\n",
       "      <th>State</th>\n",
       "      <th>ZipCode</th>\n",
       "      <th>TaxParcelIdentificationNumber</th>\n",
       "      <th>...</th>\n",
       "      <th>Electricity(kWh)</th>\n",
       "      <th>Electricity(kBtu)</th>\n",
       "      <th>NaturalGas(therms)</th>\n",
       "      <th>NaturalGas(kBtu)</th>\n",
       "      <th>DefaultData</th>\n",
       "      <th>Comments</th>\n",
       "      <th>ComplianceStatus</th>\n",
       "      <th>Outlier</th>\n",
       "      <th>TotalGHGEmissions</th>\n",
       "      <th>GHGEmissionsIntensity</th>\n",
       "    </tr>\n",
       "  </thead>\n",
       "  <tbody>\n",
       "    <tr>\n",
       "      <th>0</th>\n",
       "      <td>1</td>\n",
       "      <td>2016</td>\n",
       "      <td>NonResidential</td>\n",
       "      <td>Hotel</td>\n",
       "      <td>Mayflower park hotel</td>\n",
       "      <td>405 Olive way</td>\n",
       "      <td>Seattle</td>\n",
       "      <td>WA</td>\n",
       "      <td>98101.0</td>\n",
       "      <td>0659000030</td>\n",
       "      <td>...</td>\n",
       "      <td>1.156514e+06</td>\n",
       "      <td>3946027.0</td>\n",
       "      <td>12764.52930</td>\n",
       "      <td>1276453.0</td>\n",
       "      <td>False</td>\n",
       "      <td>NaN</td>\n",
       "      <td>Compliant</td>\n",
       "      <td>NaN</td>\n",
       "      <td>249.98</td>\n",
       "      <td>2.83</td>\n",
       "    </tr>\n",
       "    <tr>\n",
       "      <th>1</th>\n",
       "      <td>2</td>\n",
       "      <td>2016</td>\n",
       "      <td>NonResidential</td>\n",
       "      <td>Hotel</td>\n",
       "      <td>Paramount Hotel</td>\n",
       "      <td>724 Pine street</td>\n",
       "      <td>Seattle</td>\n",
       "      <td>WA</td>\n",
       "      <td>98101.0</td>\n",
       "      <td>0659000220</td>\n",
       "      <td>...</td>\n",
       "      <td>9.504252e+05</td>\n",
       "      <td>3242851.0</td>\n",
       "      <td>51450.81641</td>\n",
       "      <td>5145082.0</td>\n",
       "      <td>False</td>\n",
       "      <td>NaN</td>\n",
       "      <td>Compliant</td>\n",
       "      <td>NaN</td>\n",
       "      <td>295.86</td>\n",
       "      <td>2.86</td>\n",
       "    </tr>\n",
       "    <tr>\n",
       "      <th>2</th>\n",
       "      <td>3</td>\n",
       "      <td>2016</td>\n",
       "      <td>NonResidential</td>\n",
       "      <td>Hotel</td>\n",
       "      <td>5673-The Westin Seattle</td>\n",
       "      <td>1900 5th Avenue</td>\n",
       "      <td>Seattle</td>\n",
       "      <td>WA</td>\n",
       "      <td>98101.0</td>\n",
       "      <td>0659000475</td>\n",
       "      <td>...</td>\n",
       "      <td>1.451544e+07</td>\n",
       "      <td>49526664.0</td>\n",
       "      <td>14938.00000</td>\n",
       "      <td>1493800.0</td>\n",
       "      <td>False</td>\n",
       "      <td>NaN</td>\n",
       "      <td>Compliant</td>\n",
       "      <td>NaN</td>\n",
       "      <td>2089.28</td>\n",
       "      <td>2.19</td>\n",
       "    </tr>\n",
       "    <tr>\n",
       "      <th>3</th>\n",
       "      <td>5</td>\n",
       "      <td>2016</td>\n",
       "      <td>NonResidential</td>\n",
       "      <td>Hotel</td>\n",
       "      <td>HOTEL MAX</td>\n",
       "      <td>620 STEWART ST</td>\n",
       "      <td>Seattle</td>\n",
       "      <td>WA</td>\n",
       "      <td>98101.0</td>\n",
       "      <td>0659000640</td>\n",
       "      <td>...</td>\n",
       "      <td>8.115253e+05</td>\n",
       "      <td>2768924.0</td>\n",
       "      <td>18112.13086</td>\n",
       "      <td>1811213.0</td>\n",
       "      <td>False</td>\n",
       "      <td>NaN</td>\n",
       "      <td>Compliant</td>\n",
       "      <td>NaN</td>\n",
       "      <td>286.43</td>\n",
       "      <td>4.67</td>\n",
       "    </tr>\n",
       "    <tr>\n",
       "      <th>4</th>\n",
       "      <td>8</td>\n",
       "      <td>2016</td>\n",
       "      <td>NonResidential</td>\n",
       "      <td>Hotel</td>\n",
       "      <td>WARWICK SEATTLE HOTEL (ID8)</td>\n",
       "      <td>401 LENORA ST</td>\n",
       "      <td>Seattle</td>\n",
       "      <td>WA</td>\n",
       "      <td>98121.0</td>\n",
       "      <td>0659000970</td>\n",
       "      <td>...</td>\n",
       "      <td>1.573449e+06</td>\n",
       "      <td>5368607.0</td>\n",
       "      <td>88039.98438</td>\n",
       "      <td>8803998.0</td>\n",
       "      <td>False</td>\n",
       "      <td>NaN</td>\n",
       "      <td>Compliant</td>\n",
       "      <td>NaN</td>\n",
       "      <td>505.01</td>\n",
       "      <td>2.88</td>\n",
       "    </tr>\n",
       "  </tbody>\n",
       "</table>\n",
       "<p>5 rows × 46 columns</p>\n",
       "</div>"
      ],
      "text/plain": [
       "   OSEBuildingID  DataYear    BuildingType PrimaryPropertyType  \\\n",
       "0              1      2016  NonResidential               Hotel   \n",
       "1              2      2016  NonResidential               Hotel   \n",
       "2              3      2016  NonResidential               Hotel   \n",
       "3              5      2016  NonResidential               Hotel   \n",
       "4              8      2016  NonResidential               Hotel   \n",
       "\n",
       "                  PropertyName          Address     City State  ZipCode  \\\n",
       "0         Mayflower park hotel    405 Olive way  Seattle    WA  98101.0   \n",
       "1              Paramount Hotel  724 Pine street  Seattle    WA  98101.0   \n",
       "2      5673-The Westin Seattle  1900 5th Avenue  Seattle    WA  98101.0   \n",
       "3                    HOTEL MAX   620 STEWART ST  Seattle    WA  98101.0   \n",
       "4  WARWICK SEATTLE HOTEL (ID8)    401 LENORA ST  Seattle    WA  98121.0   \n",
       "\n",
       "  TaxParcelIdentificationNumber  ...  Electricity(kWh) Electricity(kBtu)  \\\n",
       "0                    0659000030  ...      1.156514e+06         3946027.0   \n",
       "1                    0659000220  ...      9.504252e+05         3242851.0   \n",
       "2                    0659000475  ...      1.451544e+07        49526664.0   \n",
       "3                    0659000640  ...      8.115253e+05         2768924.0   \n",
       "4                    0659000970  ...      1.573449e+06         5368607.0   \n",
       "\n",
       "   NaturalGas(therms)  NaturalGas(kBtu)  DefaultData  Comments  \\\n",
       "0         12764.52930         1276453.0        False       NaN   \n",
       "1         51450.81641         5145082.0        False       NaN   \n",
       "2         14938.00000         1493800.0        False       NaN   \n",
       "3         18112.13086         1811213.0        False       NaN   \n",
       "4         88039.98438         8803998.0        False       NaN   \n",
       "\n",
       "   ComplianceStatus  Outlier  TotalGHGEmissions  GHGEmissionsIntensity  \n",
       "0         Compliant      NaN             249.98                   2.83  \n",
       "1         Compliant      NaN             295.86                   2.86  \n",
       "2         Compliant      NaN            2089.28                   2.19  \n",
       "3         Compliant      NaN             286.43                   4.67  \n",
       "4         Compliant      NaN             505.01                   2.88  \n",
       "\n",
       "[5 rows x 46 columns]"
      ]
     },
     "execution_count": 7,
     "metadata": {},
     "output_type": "execute_result"
    }
   ],
   "source": [
    "batiments_2016_data.head()"
   ]
  },
  {
   "cell_type": "code",
   "execution_count": 8,
   "metadata": {},
   "outputs": [
    {
     "name": "stdout",
     "output_type": "stream",
     "text": [
      "<class 'pandas.core.frame.DataFrame'>\n",
      "RangeIndex: 3376 entries, 0 to 3375\n",
      "Data columns (total 46 columns):\n",
      " #   Column                           Non-Null Count  Dtype  \n",
      "---  ------                           --------------  -----  \n",
      " 0   OSEBuildingID                    3376 non-null   int64  \n",
      " 1   DataYear                         3376 non-null   int64  \n",
      " 2   BuildingType                     3376 non-null   object \n",
      " 3   PrimaryPropertyType              3376 non-null   object \n",
      " 4   PropertyName                     3376 non-null   object \n",
      " 5   Address                          3376 non-null   object \n",
      " 6   City                             3376 non-null   object \n",
      " 7   State                            3376 non-null   object \n",
      " 8   ZipCode                          3360 non-null   float64\n",
      " 9   TaxParcelIdentificationNumber    3376 non-null   object \n",
      " 10  CouncilDistrictCode              3376 non-null   int64  \n",
      " 11  Neighborhood                     3376 non-null   object \n",
      " 12  Latitude                         3376 non-null   float64\n",
      " 13  Longitude                        3376 non-null   float64\n",
      " 14  YearBuilt                        3376 non-null   int64  \n",
      " 15  NumberofBuildings                3368 non-null   float64\n",
      " 16  NumberofFloors                   3376 non-null   int64  \n",
      " 17  PropertyGFATotal                 3376 non-null   int64  \n",
      " 18  PropertyGFAParking               3376 non-null   int64  \n",
      " 19  PropertyGFABuilding(s)           3376 non-null   int64  \n",
      " 20  ListOfAllPropertyUseTypes        3367 non-null   object \n",
      " 21  LargestPropertyUseType           3356 non-null   object \n",
      " 22  LargestPropertyUseTypeGFA        3356 non-null   float64\n",
      " 23  SecondLargestPropertyUseType     1679 non-null   object \n",
      " 24  SecondLargestPropertyUseTypeGFA  1679 non-null   float64\n",
      " 25  ThirdLargestPropertyUseType      596 non-null    object \n",
      " 26  ThirdLargestPropertyUseTypeGFA   596 non-null    float64\n",
      " 27  YearsENERGYSTARCertified         119 non-null    object \n",
      " 28  ENERGYSTARScore                  2533 non-null   float64\n",
      " 29  SiteEUI(kBtu/sf)                 3369 non-null   float64\n",
      " 30  SiteEUIWN(kBtu/sf)               3370 non-null   float64\n",
      " 31  SourceEUI(kBtu/sf)               3367 non-null   float64\n",
      " 32  SourceEUIWN(kBtu/sf)             3367 non-null   float64\n",
      " 33  SiteEnergyUse(kBtu)              3371 non-null   float64\n",
      " 34  SiteEnergyUseWN(kBtu)            3370 non-null   float64\n",
      " 35  SteamUse(kBtu)                   3367 non-null   float64\n",
      " 36  Electricity(kWh)                 3367 non-null   float64\n",
      " 37  Electricity(kBtu)                3367 non-null   float64\n",
      " 38  NaturalGas(therms)               3367 non-null   float64\n",
      " 39  NaturalGas(kBtu)                 3367 non-null   float64\n",
      " 40  DefaultData                      3376 non-null   bool   \n",
      " 41  Comments                         0 non-null      float64\n",
      " 42  ComplianceStatus                 3376 non-null   object \n",
      " 43  Outlier                          32 non-null     object \n",
      " 44  TotalGHGEmissions                3367 non-null   float64\n",
      " 45  GHGEmissionsIntensity            3367 non-null   float64\n",
      "dtypes: bool(1), float64(22), int64(8), object(15)\n",
      "memory usage: 1.2+ MB\n"
     ]
    }
   ],
   "source": [
    "batiments_2016_data.info()"
   ]
  },
  {
   "cell_type": "markdown",
   "metadata": {},
   "source": [
    "# Choix des variables\n",
    "\n",
    "Pour rappel, je cherche à prédire les émissions de $CO_{2}$ (plus précisément les GES) et la consommation totale d'énergie des bâtiments non résidentiels et dont les mesures n'ont pas été effectuées. \n",
    "\n",
    "Les variables à prédire sont les suivantes :\n",
    "- *GHGEmissions (2015)* et *TotalGHGEmissions (2016)* pour les émissions de GES\n",
    "- *SiteEnergyUse(kBtu)* et *SiteEnergyUseWN(kBtu)* pour la consommation totale d'énergie, le choix devrait se porter sur la première variable car il s'agit de la consommation réelle\n",
    "\n",
    "Note : *SiteEnergyUseWN(kBtu)* correspond à l'énergie annuelle consommée par le bâtiment ajustée à ce que le bâtiment aurait consommé pendant des conditions météorologiques moyennes de 30 ans. Je ne comprends pas tout à fait ce que cela signifie.\n",
    "\n",
    "D'après cette **[source](https://www.statistiques.developpement-durable.gouv.fr/sites/default/files/2019-05/datalab-46-chiffres-cles-du-climat-edition-2019-novembre2018.pdf)**, l'énergie consommée par les bâtiments résidentiels est destinée aux usages suivants : chauffage, eau chaude sanitaire et la cuisson. Je vais donc me référer à ces usages pour les bâtiments non résidentiels en prenant en compte en plus les usages liés à l'activité réalisée dans le bâtiment. Par exemple, un café va utiliser de l'électricité pour faire du café ou d'autres boissons, de ce fait, le bâtiment consomme de l'électricité suite à l'activité de l'entreprise.\n",
    "\n",
    "Les facteurs qui influencent la consommation d'énergie et les émissions de GES des bâtiments non-résidentiels sont les suivants : la taille du bâtiment, la façon dont le bâtiment et l'eau courante sont chauffés (gaz, électricité, fioul, etc.), l'isolation du bâtiment, le type de bâtiment (batîment individuel ou collectif), l'année de construction du bâtiment et l'activité du bâtiment (une boulangerie va consommer de l'électricité pour produire du pain). \n",
    "\n",
    "La localisation du bâtiment peut également jouer un rôle dans la consommation d'énergie. En effet, un quartier exposé à un vent froid régulièrement dans l'année verra ses bâtiments consommer plus d'énergie liée au chauffage.\n",
    "\n",
    "Par conséquent, les variables conservées sont :\n",
    "- *OSEBuildingID* : ID de la propriété\n",
    "- *DataYear* : année du relevé pour différencier les données\n",
    "- *BuildingType* : type de bâtiment selon la classification de Seattle\n",
    "- *PrimaryPropertyType* : utilisation principale de la propriété (bureaux, université, etc.)\n",
    "- *Location* : adresse complète de la propriété (uniquement pour 2015)\n",
    "- *Address* : adresse postale (voie) de la propriété (uniquement pour 2016)\n",
    "- *City* : ville où est située la propriété (uniquement pour 2016)\n",
    "- *State* : état où est située la propriété (uniquement pour 2016)\n",
    "- *ZipCode* : code postal de la propriété (uniquement pour 2016)\n",
    "- *Neighborhood* : quartier où est située la propriété\n",
    "- *YearBuilt* : année de construction ou de dernière rénovation complète de la propriété\n",
    "- *NumberofBuildings* : nombre de bâtiments inclus dans la propriété\n",
    "- *NumberofFloors* : nombre d'étages\n",
    "- *PropertyGFABuilding(s)* : surface totale des bâtiments (en $ft^{2}$)\n",
    "- *SecondLargestPropertyUseType* : utilisation secondaire de la propriété (utilisée pour analyser les données)\n",
    "- *ENERGYSTARScore* : évalue la performance énergétique des bâtiments de la propriété, il permet de la comparer avec l'ensemble des bâtiments sur le territoire national US. Un score de 50 représente la médiane, un score plus élevé signifie qu'un bâtiment a de meilleures performances énergétiques que les autres (moins de consommation) et un score plus faible représente le contraire. Voir **[lien](https://www.energystar.gov/buildings/benchmark/analyze_benchmarking_results)** pour plus d'informations.\n",
    "- *SiteEnergyUse(kBtu)* : énergie totale consommée par la propriété sur l'année reportée, en prenant en compte toutes les sources d'énergie\n",
    "- *SteamUse(kBtu)* : énergie consommée par la propriété sur l'année reportée avec de la vapeur\n",
    "- *Electricity(kBtu)* : énergie consommée par la propriété sur l'année reportée avec de l'électricité\n",
    "- *NaturalGas(kBtu)* : énergie consommée par la propriété sur l'année reportée avec du gaz naturel\n",
    "- *OtherFuelUse(kBtu)* : énergie consommée par la propriété sur l'année reportée avec d'autres combustibles (2015 seulement)\n",
    "- *ComplianceStatus* : statut de la propriété si elle rencontre toutes les conformités du benchmarking réalisé l'année du relevé\n",
    "- *Outlier* : définit si une propriété est un outlier (Y/N)\n",
    "- *GHGEmissions(MetricTonsCO2e)* : émissions totales de GES relatives à la consommation énergétique de la propriété (en $t$ $CO_{2}$ $eq$, 2015 uniquement) \n",
    "- *TotalGHGEmissions* : émissions totales de GES relatives à la consommation énergétique de la propriété (en $t$ $CO_{2}$ $eq$, 2016 uniquement)\n",
    "\n",
    "On observe les relations suivantes :\n",
    "- *SiteEnergyUse(kBtu)* est la somme des variables *SteamUse(kBtu)*, *Electricity(kBtu)*, *NaturalGas(kBtu)* et *OtherFuelUse(kBtu)*\n",
    "- *GHGEmissions(MetricTonsCO2e)* et *TotalGHGEmissions* sont le résultat d'une combinaison linéaire des mêmes variables citées ci-avant\n",
    "\n",
    "Notes : \n",
    "- le choix de retenir *SourceEUI* a été envisagé car l'*ENERGYSTARScore* utilise cette variable dans ses calculs. Cependant, étant donné les relations décrites ci-dessus, elle ne sera pas retenue.\n",
    "- l'*ENERGYSTARScore* est calculé grâce à la taille du bâtiment, sa localisation, son nombre d'occupants, son nombre de PC et les données énergétiques relevées.\n",
    "\n",
    "Attention à bien utiliser les variables relatives aux données déclaratives du permis d'exploitation commerciale et pas les autres.\n"
   ]
  },
  {
   "cell_type": "code",
   "execution_count": 7,
   "metadata": {},
   "outputs": [],
   "source": [
    "variables_conservees = ['OSEBuildingID', 'DataYear', 'BuildingType', 'PrimaryPropertyType', 'Neighborhood', \n",
    "                        'YearBuilt', 'NumberofBuildings', 'NumberofFloors', 'PropertyGFABuilding(s)', \n",
    "                        'SecondLargestPropertyUseType', 'ENERGYSTARScore', 'SiteEnergyUse(kBtu)', 'SteamUse(kBtu)', \n",
    "                        'Electricity(kBtu)', 'NaturalGas(kBtu)', 'ComplianceStatus', 'Outlier']\n",
    "\n",
    "variables_specifiques_2015 = ['Location', 'OtherFuelUse(kBtu)', 'GHGEmissions(MetricTonsCO2e)']\n",
    "variables_specifiques_2016 = ['Address', 'City', 'State', 'ZipCode', 'TotalGHGEmissions']\n",
    "\n",
    "variables_conservees_2015 = variables_conservees + variables_specifiques_2015\n",
    "variables_conservees_2016 = variables_conservees + variables_specifiques_2016"
   ]
  },
  {
   "cell_type": "code",
   "execution_count": 8,
   "metadata": {},
   "outputs": [],
   "source": [
    "batiments_2015_data = batiments_2015_data[variables_conservees_2015]\n",
    "batiments_2016_data = batiments_2016_data[variables_conservees_2016]"
   ]
  },
  {
   "cell_type": "code",
   "execution_count": 9,
   "metadata": {},
   "outputs": [
    {
     "name": "stdout",
     "output_type": "stream",
     "text": [
      "<class 'pandas.core.frame.DataFrame'>\n",
      "RangeIndex: 3340 entries, 0 to 3339\n",
      "Data columns (total 20 columns):\n",
      " #   Column                        Non-Null Count  Dtype  \n",
      "---  ------                        --------------  -----  \n",
      " 0   OSEBuildingID                 3340 non-null   int64  \n",
      " 1   DataYear                      3340 non-null   int64  \n",
      " 2   BuildingType                  3340 non-null   object \n",
      " 3   PrimaryPropertyType           3340 non-null   object \n",
      " 4   Neighborhood                  3340 non-null   object \n",
      " 5   YearBuilt                     3340 non-null   int64  \n",
      " 6   NumberofBuildings             3340 non-null   int64  \n",
      " 7   NumberofFloors                3332 non-null   float64\n",
      " 8   PropertyGFABuilding(s)        3340 non-null   int64  \n",
      " 9   SecondLargestPropertyUseType  1559 non-null   object \n",
      " 10  ENERGYSTARScore               2560 non-null   float64\n",
      " 11  SiteEnergyUse(kBtu)           3330 non-null   float64\n",
      " 12  SteamUse(kBtu)                3330 non-null   float64\n",
      " 13  Electricity(kBtu)             3330 non-null   float64\n",
      " 14  NaturalGas(kBtu)              3330 non-null   float64\n",
      " 15  ComplianceStatus              3340 non-null   object \n",
      " 16  Outlier                       84 non-null     object \n",
      " 17  Location                      3340 non-null   object \n",
      " 18  OtherFuelUse(kBtu)            3330 non-null   float64\n",
      " 19  GHGEmissions(MetricTonsCO2e)  3330 non-null   float64\n",
      "dtypes: float64(8), int64(5), object(7)\n",
      "memory usage: 522.0+ KB\n"
     ]
    }
   ],
   "source": [
    "batiments_2015_data.info()"
   ]
  },
  {
   "cell_type": "code",
   "execution_count": 10,
   "metadata": {},
   "outputs": [
    {
     "name": "stdout",
     "output_type": "stream",
     "text": [
      "<class 'pandas.core.frame.DataFrame'>\n",
      "RangeIndex: 3376 entries, 0 to 3375\n",
      "Data columns (total 22 columns):\n",
      " #   Column                        Non-Null Count  Dtype  \n",
      "---  ------                        --------------  -----  \n",
      " 0   OSEBuildingID                 3376 non-null   int64  \n",
      " 1   DataYear                      3376 non-null   int64  \n",
      " 2   BuildingType                  3376 non-null   object \n",
      " 3   PrimaryPropertyType           3376 non-null   object \n",
      " 4   Neighborhood                  3376 non-null   object \n",
      " 5   YearBuilt                     3376 non-null   int64  \n",
      " 6   NumberofBuildings             3368 non-null   float64\n",
      " 7   NumberofFloors                3376 non-null   int64  \n",
      " 8   PropertyGFABuilding(s)        3376 non-null   int64  \n",
      " 9   SecondLargestPropertyUseType  1679 non-null   object \n",
      " 10  ENERGYSTARScore               2533 non-null   float64\n",
      " 11  SiteEnergyUse(kBtu)           3371 non-null   float64\n",
      " 12  SteamUse(kBtu)                3367 non-null   float64\n",
      " 13  Electricity(kBtu)             3367 non-null   float64\n",
      " 14  NaturalGas(kBtu)              3367 non-null   float64\n",
      " 15  ComplianceStatus              3376 non-null   object \n",
      " 16  Outlier                       32 non-null     object \n",
      " 17  Address                       3376 non-null   object \n",
      " 18  City                          3376 non-null   object \n",
      " 19  State                         3376 non-null   object \n",
      " 20  ZipCode                       3360 non-null   float64\n",
      " 21  TotalGHGEmissions             3367 non-null   float64\n",
      "dtypes: float64(8), int64(5), object(9)\n",
      "memory usage: 580.4+ KB\n"
     ]
    }
   ],
   "source": [
    "batiments_2016_data.info()"
   ]
  },
  {
   "cell_type": "markdown",
   "metadata": {},
   "source": [
    "# Analyses exploratoires"
   ]
  },
  {
   "cell_type": "markdown",
   "metadata": {},
   "source": [
    "## Analyses préliminaires"
   ]
  },
  {
   "cell_type": "markdown",
   "metadata": {},
   "source": [
    "### Y a-t-il les mêmes propriétés (bâtiments) dans les deux datasets ?"
   ]
  },
  {
   "cell_type": "code",
   "execution_count": 11,
   "metadata": {},
   "outputs": [],
   "source": [
    "liste_ID_proprietes_communes = batiments_2015_data.merge(batiments_2016_data, on='OSEBuildingID')['OSEBuildingID']"
   ]
  },
  {
   "cell_type": "code",
   "execution_count": 7,
   "metadata": {},
   "outputs": [
    {
     "data": {
      "text/plain": [
       "3284"
      ]
     },
     "execution_count": 7,
     "metadata": {},
     "output_type": "execute_result"
    }
   ],
   "source": [
    "len(liste_ID_proprietes_communes)"
   ]
  },
  {
   "cell_type": "markdown",
   "metadata": {},
   "source": [
    "Il y a 3284 propriétés présentes dans chacun des deux datasets. Je garderai donc les données de 2016 pour ces propriétés, je les supprime donc du dataset de 2015."
   ]
  },
  {
   "cell_type": "code",
   "execution_count": 12,
   "metadata": {
    "scrolled": true
   },
   "outputs": [],
   "source": [
    "batiments_2015_data = batiments_2015_data[~batiments_2015_data.OSEBuildingID.isin(liste_ID_proprietes_communes)]\n",
    "batiments_2015_data.reset_index(drop=True, inplace=True)"
   ]
  },
  {
   "cell_type": "code",
   "execution_count": 9,
   "metadata": {},
   "outputs": [
    {
     "data": {
      "text/html": [
       "<div>\n",
       "<style scoped>\n",
       "    .dataframe tbody tr th:only-of-type {\n",
       "        vertical-align: middle;\n",
       "    }\n",
       "\n",
       "    .dataframe tbody tr th {\n",
       "        vertical-align: top;\n",
       "    }\n",
       "\n",
       "    .dataframe thead th {\n",
       "        text-align: right;\n",
       "    }\n",
       "</style>\n",
       "<table border=\"1\" class=\"dataframe\">\n",
       "  <thead>\n",
       "    <tr style=\"text-align: right;\">\n",
       "      <th></th>\n",
       "      <th>OSEBuildingID</th>\n",
       "      <th>DataYear</th>\n",
       "      <th>BuildingType</th>\n",
       "      <th>PrimaryPropertyType</th>\n",
       "      <th>Neighborhood</th>\n",
       "      <th>YearBuilt</th>\n",
       "      <th>NumberofBuildings</th>\n",
       "      <th>NumberofFloors</th>\n",
       "      <th>PropertyGFABuilding(s)</th>\n",
       "      <th>SecondLargestPropertyUseType</th>\n",
       "      <th>ENERGYSTARScore</th>\n",
       "      <th>SiteEnergyUse(kBtu)</th>\n",
       "      <th>SteamUse(kBtu)</th>\n",
       "      <th>Electricity(kBtu)</th>\n",
       "      <th>NaturalGas(kBtu)</th>\n",
       "      <th>ComplianceStatus</th>\n",
       "      <th>Outlier</th>\n",
       "      <th>Location</th>\n",
       "      <th>OtherFuelUse(kBtu)</th>\n",
       "      <th>GHGEmissions(MetricTonsCO2e)</th>\n",
       "    </tr>\n",
       "  </thead>\n",
       "  <tbody>\n",
       "    <tr>\n",
       "      <th>0</th>\n",
       "      <td>61</td>\n",
       "      <td>2015</td>\n",
       "      <td>Multifamily LR (1-4)</td>\n",
       "      <td>Low-Rise Multifamily</td>\n",
       "      <td>DOWNTOWN</td>\n",
       "      <td>1900</td>\n",
       "      <td>1</td>\n",
       "      <td>4.0</td>\n",
       "      <td>48383</td>\n",
       "      <td>Retail Store</td>\n",
       "      <td>75.0</td>\n",
       "      <td>2953338.0</td>\n",
       "      <td>915977.0</td>\n",
       "      <td>1448859.0</td>\n",
       "      <td>588563.0</td>\n",
       "      <td>Compliant</td>\n",
       "      <td>NaN</td>\n",
       "      <td>{'latitude': '47.60973588', 'longitude': '-122...</td>\n",
       "      <td>0.0</td>\n",
       "      <td>112.06</td>\n",
       "    </tr>\n",
       "    <tr>\n",
       "      <th>1</th>\n",
       "      <td>266</td>\n",
       "      <td>2015</td>\n",
       "      <td>Multifamily LR (1-4)</td>\n",
       "      <td>Low-Rise Multifamily</td>\n",
       "      <td>DELRIDGE</td>\n",
       "      <td>2007</td>\n",
       "      <td>1</td>\n",
       "      <td>4.0</td>\n",
       "      <td>52134</td>\n",
       "      <td>NaN</td>\n",
       "      <td>85.0</td>\n",
       "      <td>1212551.0</td>\n",
       "      <td>0.0</td>\n",
       "      <td>1212601.0</td>\n",
       "      <td>0.0</td>\n",
       "      <td>Compliant</td>\n",
       "      <td>NaN</td>\n",
       "      <td>{'latitude': '47.54423839', 'longitude': '-122...</td>\n",
       "      <td>0.0</td>\n",
       "      <td>8.45</td>\n",
       "    </tr>\n",
       "    <tr>\n",
       "      <th>2</th>\n",
       "      <td>325</td>\n",
       "      <td>2015</td>\n",
       "      <td>NonResidential</td>\n",
       "      <td>Retail Store</td>\n",
       "      <td>DOWNTOWN</td>\n",
       "      <td>1989</td>\n",
       "      <td>1</td>\n",
       "      <td>4.0</td>\n",
       "      <td>111077</td>\n",
       "      <td>NaN</td>\n",
       "      <td>91.0</td>\n",
       "      <td>9898724.0</td>\n",
       "      <td>0.0</td>\n",
       "      <td>9899135.0</td>\n",
       "      <td>0.0</td>\n",
       "      <td>Compliant</td>\n",
       "      <td>NaN</td>\n",
       "      <td>{'latitude': '47.61171108', 'longitude': '-122...</td>\n",
       "      <td>0.0</td>\n",
       "      <td>69.01</td>\n",
       "    </tr>\n",
       "    <tr>\n",
       "      <th>3</th>\n",
       "      <td>400</td>\n",
       "      <td>2015</td>\n",
       "      <td>NonResidential</td>\n",
       "      <td>Small- and Mid-Sized Office</td>\n",
       "      <td>DOWNTOWN</td>\n",
       "      <td>1906</td>\n",
       "      <td>1</td>\n",
       "      <td>6.0</td>\n",
       "      <td>72450</td>\n",
       "      <td>NaN</td>\n",
       "      <td>45.0</td>\n",
       "      <td>6525887.0</td>\n",
       "      <td>0.0</td>\n",
       "      <td>6488262.0</td>\n",
       "      <td>37893.0</td>\n",
       "      <td>Compliant</td>\n",
       "      <td>NaN</td>\n",
       "      <td>{'latitude': '47.60679898', 'longitude': '-122...</td>\n",
       "      <td>0.0</td>\n",
       "      <td>47.24</td>\n",
       "    </tr>\n",
       "    <tr>\n",
       "      <th>4</th>\n",
       "      <td>442</td>\n",
       "      <td>2015</td>\n",
       "      <td>NonResidential</td>\n",
       "      <td>Large Office</td>\n",
       "      <td>LAKE UNION</td>\n",
       "      <td>1947</td>\n",
       "      <td>1</td>\n",
       "      <td>4.0</td>\n",
       "      <td>155934</td>\n",
       "      <td>Parking</td>\n",
       "      <td>59.0</td>\n",
       "      <td>16760217.0</td>\n",
       "      <td>0.0</td>\n",
       "      <td>16760914.0</td>\n",
       "      <td>0.0</td>\n",
       "      <td>Compliant</td>\n",
       "      <td>NaN</td>\n",
       "      <td>{'latitude': '47.6214758', 'longitude': '-122....</td>\n",
       "      <td>0.0</td>\n",
       "      <td>116.84</td>\n",
       "    </tr>\n",
       "  </tbody>\n",
       "</table>\n",
       "</div>"
      ],
      "text/plain": [
       "   OSEBuildingID  DataYear          BuildingType          PrimaryPropertyType  \\\n",
       "0             61      2015  Multifamily LR (1-4)         Low-Rise Multifamily   \n",
       "1            266      2015  Multifamily LR (1-4)         Low-Rise Multifamily   \n",
       "2            325      2015        NonResidential                 Retail Store   \n",
       "3            400      2015        NonResidential  Small- and Mid-Sized Office   \n",
       "4            442      2015        NonResidential                 Large Office   \n",
       "\n",
       "  Neighborhood  YearBuilt  NumberofBuildings  NumberofFloors  \\\n",
       "0     DOWNTOWN       1900                  1             4.0   \n",
       "1     DELRIDGE       2007                  1             4.0   \n",
       "2     DOWNTOWN       1989                  1             4.0   \n",
       "3     DOWNTOWN       1906                  1             6.0   \n",
       "4   LAKE UNION       1947                  1             4.0   \n",
       "\n",
       "   PropertyGFABuilding(s) SecondLargestPropertyUseType  ENERGYSTARScore  \\\n",
       "0                   48383                 Retail Store             75.0   \n",
       "1                   52134                          NaN             85.0   \n",
       "2                  111077                          NaN             91.0   \n",
       "3                   72450                          NaN             45.0   \n",
       "4                  155934                      Parking             59.0   \n",
       "\n",
       "   SiteEnergyUse(kBtu)  SteamUse(kBtu)  Electricity(kBtu)  NaturalGas(kBtu)  \\\n",
       "0            2953338.0        915977.0          1448859.0          588563.0   \n",
       "1            1212551.0             0.0          1212601.0               0.0   \n",
       "2            9898724.0             0.0          9899135.0               0.0   \n",
       "3            6525887.0             0.0          6488262.0           37893.0   \n",
       "4           16760217.0             0.0         16760914.0               0.0   \n",
       "\n",
       "  ComplianceStatus Outlier                                           Location  \\\n",
       "0        Compliant     NaN  {'latitude': '47.60973588', 'longitude': '-122...   \n",
       "1        Compliant     NaN  {'latitude': '47.54423839', 'longitude': '-122...   \n",
       "2        Compliant     NaN  {'latitude': '47.61171108', 'longitude': '-122...   \n",
       "3        Compliant     NaN  {'latitude': '47.60679898', 'longitude': '-122...   \n",
       "4        Compliant     NaN  {'latitude': '47.6214758', 'longitude': '-122....   \n",
       "\n",
       "   OtherFuelUse(kBtu)  GHGEmissions(MetricTonsCO2e)  \n",
       "0                 0.0                        112.06  \n",
       "1                 0.0                          8.45  \n",
       "2                 0.0                         69.01  \n",
       "3                 0.0                         47.24  \n",
       "4                 0.0                        116.84  "
      ]
     },
     "execution_count": 9,
     "metadata": {},
     "output_type": "execute_result"
    }
   ],
   "source": [
    "batiments_2015_data.head()"
   ]
  },
  {
   "cell_type": "code",
   "execution_count": 10,
   "metadata": {},
   "outputs": [
    {
     "data": {
      "text/plain": [
       "(56, 20)"
      ]
     },
     "execution_count": 10,
     "metadata": {},
     "output_type": "execute_result"
    }
   ],
   "source": [
    "batiments_2015_data.shape"
   ]
  },
  {
   "cell_type": "markdown",
   "metadata": {},
   "source": [
    "Préparation des données de 2015 pour les concaténer avec celles de 2016 :\n",
    "- création des variables *Address*, *City*, *State* et *ZipCode* avec *Location*\n",
    "- suppression de *Location* et des variables intermédiaires\n",
    "- renommage de *GHGEmissions(MetricTonsCO2e)* en *GHGEmissions*"
   ]
  },
  {
   "cell_type": "code",
   "execution_count": 13,
   "metadata": {},
   "outputs": [],
   "source": [
    "# conversion d'un string en dictionnaire\n",
    "def convertir_string_en_dict(string):\n",
    "    return ast.literal_eval(string)"
   ]
  },
  {
   "cell_type": "code",
   "execution_count": 14,
   "metadata": {},
   "outputs": [],
   "source": [
    "# création des nouvelles variables\n",
    "nb_lignes = len(batiments_2015_data)\n",
    "batiments_2015_data['Location_dict'] = [convertir_string_en_dict(batiments_2015_data.Location[i]) for i in range(nb_lignes)]\n",
    "batiments_2015_data['human_address'] = [convertir_string_en_dict(batiments_2015_data.Location_dict[i]['human_address']) \n",
    "                                            for i in range(nb_lignes)]\n",
    "batiments_2015_data['Address'] = [batiments_2015_data['human_address'][i]['address'] for i in range(nb_lignes)]\n",
    "batiments_2015_data['City'] = [batiments_2015_data['human_address'][i]['city'] for i in range(nb_lignes)]\n",
    "batiments_2015_data['State'] = [batiments_2015_data['human_address'][i]['state'] for i in range(nb_lignes)]\n",
    "batiments_2015_data['ZipCode'] = [batiments_2015_data['human_address'][i]['zip'] for i in range(nb_lignes)]"
   ]
  },
  {
   "cell_type": "code",
   "execution_count": 15,
   "metadata": {},
   "outputs": [],
   "source": [
    "# suppression des variables intermédiaires\n",
    "batiments_2015_data.drop(columns=['Location', 'Location_dict', 'human_address'], inplace=True)"
   ]
  },
  {
   "cell_type": "code",
   "execution_count": 16,
   "metadata": {},
   "outputs": [],
   "source": [
    "# renommage de la variable GHGEmissions(MetricTonsCO2e)\n",
    "batiments_2015_data.rename(columns = {'GHGEmissions(MetricTonsCO2e)':'GHGEmissions'}, inplace=True)"
   ]
  },
  {
   "cell_type": "code",
   "execution_count": 17,
   "metadata": {},
   "outputs": [
    {
     "name": "stdout",
     "output_type": "stream",
     "text": [
      "<class 'pandas.core.frame.DataFrame'>\n",
      "RangeIndex: 56 entries, 0 to 55\n",
      "Data columns (total 23 columns):\n",
      " #   Column                        Non-Null Count  Dtype  \n",
      "---  ------                        --------------  -----  \n",
      " 0   OSEBuildingID                 56 non-null     int64  \n",
      " 1   DataYear                      56 non-null     int64  \n",
      " 2   BuildingType                  56 non-null     object \n",
      " 3   PrimaryPropertyType           56 non-null     object \n",
      " 4   Neighborhood                  56 non-null     object \n",
      " 5   YearBuilt                     56 non-null     int64  \n",
      " 6   NumberofBuildings             56 non-null     int64  \n",
      " 7   NumberofFloors                56 non-null     float64\n",
      " 8   PropertyGFABuilding(s)        56 non-null     int64  \n",
      " 9   SecondLargestPropertyUseType  19 non-null     object \n",
      " 10  ENERGYSTARScore               41 non-null     float64\n",
      " 11  SiteEnergyUse(kBtu)           55 non-null     float64\n",
      " 12  SteamUse(kBtu)                55 non-null     float64\n",
      " 13  Electricity(kBtu)             55 non-null     float64\n",
      " 14  NaturalGas(kBtu)              55 non-null     float64\n",
      " 15  ComplianceStatus              56 non-null     object \n",
      " 16  Outlier                       3 non-null      object \n",
      " 17  OtherFuelUse(kBtu)            55 non-null     float64\n",
      " 18  GHGEmissions                  55 non-null     float64\n",
      " 19  Address                       56 non-null     object \n",
      " 20  City                          56 non-null     object \n",
      " 21  State                         56 non-null     object \n",
      " 22  ZipCode                       56 non-null     object \n",
      "dtypes: float64(8), int64(5), object(10)\n",
      "memory usage: 10.2+ KB\n"
     ]
    }
   ],
   "source": [
    "batiments_2015_data.info()"
   ]
  },
  {
   "cell_type": "markdown",
   "metadata": {},
   "source": [
    "Préparation des données de 2016 pour les concaténer avec celles de 2015 :\n",
    "- création de la variable *OtherFuelUse(kBtu)*\n",
    "- remplissage de cette variable avec des 0\n",
    "- renommage de TotalGHGEmissions en GHGEmissions"
   ]
  },
  {
   "cell_type": "code",
   "execution_count": 18,
   "metadata": {},
   "outputs": [],
   "source": [
    "# création de la variable OtherFuelUse(kBtu) et remplissage avec des 0\n",
    "batiments_2016_data['OtherFuelUse(kBtu)'] = 0"
   ]
  },
  {
   "cell_type": "code",
   "execution_count": 19,
   "metadata": {},
   "outputs": [],
   "source": [
    "# renommage de la variable TotalGHGEmissions\n",
    "batiments_2016_data.rename(columns = {'TotalGHGEmissions':'GHGEmissions'}, inplace=True)"
   ]
  },
  {
   "cell_type": "code",
   "execution_count": 20,
   "metadata": {},
   "outputs": [
    {
     "name": "stdout",
     "output_type": "stream",
     "text": [
      "<class 'pandas.core.frame.DataFrame'>\n",
      "RangeIndex: 3376 entries, 0 to 3375\n",
      "Data columns (total 23 columns):\n",
      " #   Column                        Non-Null Count  Dtype  \n",
      "---  ------                        --------------  -----  \n",
      " 0   OSEBuildingID                 3376 non-null   int64  \n",
      " 1   DataYear                      3376 non-null   int64  \n",
      " 2   BuildingType                  3376 non-null   object \n",
      " 3   PrimaryPropertyType           3376 non-null   object \n",
      " 4   Neighborhood                  3376 non-null   object \n",
      " 5   YearBuilt                     3376 non-null   int64  \n",
      " 6   NumberofBuildings             3368 non-null   float64\n",
      " 7   NumberofFloors                3376 non-null   int64  \n",
      " 8   PropertyGFABuilding(s)        3376 non-null   int64  \n",
      " 9   SecondLargestPropertyUseType  1679 non-null   object \n",
      " 10  ENERGYSTARScore               2533 non-null   float64\n",
      " 11  SiteEnergyUse(kBtu)           3371 non-null   float64\n",
      " 12  SteamUse(kBtu)                3367 non-null   float64\n",
      " 13  Electricity(kBtu)             3367 non-null   float64\n",
      " 14  NaturalGas(kBtu)              3367 non-null   float64\n",
      " 15  ComplianceStatus              3376 non-null   object \n",
      " 16  Outlier                       32 non-null     object \n",
      " 17  Address                       3376 non-null   object \n",
      " 18  City                          3376 non-null   object \n",
      " 19  State                         3376 non-null   object \n",
      " 20  ZipCode                       3360 non-null   float64\n",
      " 21  GHGEmissions                  3367 non-null   float64\n",
      " 22  OtherFuelUse(kBtu)            3376 non-null   int64  \n",
      "dtypes: float64(8), int64(6), object(9)\n",
      "memory usage: 606.8+ KB\n"
     ]
    }
   ],
   "source": [
    "batiments_2016_data.info()"
   ]
  },
  {
   "cell_type": "markdown",
   "metadata": {},
   "source": [
    "Concaténation des deux datasets."
   ]
  },
  {
   "cell_type": "code",
   "execution_count": 21,
   "metadata": {},
   "outputs": [],
   "source": [
    "batiments_data = pd.concat([batiments_2015_data, batiments_2016_data])"
   ]
  },
  {
   "cell_type": "code",
   "execution_count": 22,
   "metadata": {},
   "outputs": [
    {
     "name": "stdout",
     "output_type": "stream",
     "text": [
      "<class 'pandas.core.frame.DataFrame'>\n",
      "Int64Index: 3432 entries, 0 to 3375\n",
      "Data columns (total 23 columns):\n",
      " #   Column                        Non-Null Count  Dtype  \n",
      "---  ------                        --------------  -----  \n",
      " 0   OSEBuildingID                 3432 non-null   int64  \n",
      " 1   DataYear                      3432 non-null   int64  \n",
      " 2   BuildingType                  3432 non-null   object \n",
      " 3   PrimaryPropertyType           3432 non-null   object \n",
      " 4   Neighborhood                  3432 non-null   object \n",
      " 5   YearBuilt                     3432 non-null   int64  \n",
      " 6   NumberofBuildings             3424 non-null   float64\n",
      " 7   NumberofFloors                3432 non-null   float64\n",
      " 8   PropertyGFABuilding(s)        3432 non-null   int64  \n",
      " 9   SecondLargestPropertyUseType  1698 non-null   object \n",
      " 10  ENERGYSTARScore               2574 non-null   float64\n",
      " 11  SiteEnergyUse(kBtu)           3426 non-null   float64\n",
      " 12  SteamUse(kBtu)                3422 non-null   float64\n",
      " 13  Electricity(kBtu)             3422 non-null   float64\n",
      " 14  NaturalGas(kBtu)              3422 non-null   float64\n",
      " 15  ComplianceStatus              3432 non-null   object \n",
      " 16  Outlier                       35 non-null     object \n",
      " 17  OtherFuelUse(kBtu)            3431 non-null   float64\n",
      " 18  GHGEmissions                  3422 non-null   float64\n",
      " 19  Address                       3432 non-null   object \n",
      " 20  City                          3432 non-null   object \n",
      " 21  State                         3432 non-null   object \n",
      " 22  ZipCode                       3416 non-null   object \n",
      "dtypes: float64(9), int64(4), object(10)\n",
      "memory usage: 643.5+ KB\n"
     ]
    }
   ],
   "source": [
    "batiments_data.info()"
   ]
  },
  {
   "cell_type": "code",
   "execution_count": 23,
   "metadata": {},
   "outputs": [
    {
     "data": {
      "text/html": [
       "<div>\n",
       "<style scoped>\n",
       "    .dataframe tbody tr th:only-of-type {\n",
       "        vertical-align: middle;\n",
       "    }\n",
       "\n",
       "    .dataframe tbody tr th {\n",
       "        vertical-align: top;\n",
       "    }\n",
       "\n",
       "    .dataframe thead th {\n",
       "        text-align: right;\n",
       "    }\n",
       "</style>\n",
       "<table border=\"1\" class=\"dataframe\">\n",
       "  <thead>\n",
       "    <tr style=\"text-align: right;\">\n",
       "      <th></th>\n",
       "      <th>OSEBuildingID</th>\n",
       "      <th>DataYear</th>\n",
       "      <th>BuildingType</th>\n",
       "      <th>PrimaryPropertyType</th>\n",
       "      <th>Neighborhood</th>\n",
       "      <th>YearBuilt</th>\n",
       "      <th>NumberofBuildings</th>\n",
       "      <th>NumberofFloors</th>\n",
       "      <th>PropertyGFABuilding(s)</th>\n",
       "      <th>SecondLargestPropertyUseType</th>\n",
       "      <th>ENERGYSTARScore</th>\n",
       "      <th>SiteEnergyUse(kBtu)</th>\n",
       "      <th>SteamUse(kBtu)</th>\n",
       "      <th>Electricity(kBtu)</th>\n",
       "      <th>NaturalGas(kBtu)</th>\n",
       "      <th>ComplianceStatus</th>\n",
       "      <th>Outlier</th>\n",
       "      <th>OtherFuelUse(kBtu)</th>\n",
       "      <th>GHGEmissions</th>\n",
       "      <th>Address</th>\n",
       "      <th>City</th>\n",
       "      <th>State</th>\n",
       "      <th>ZipCode</th>\n",
       "    </tr>\n",
       "  </thead>\n",
       "  <tbody>\n",
       "    <tr>\n",
       "      <th>0</th>\n",
       "      <td>61</td>\n",
       "      <td>2015</td>\n",
       "      <td>Multifamily LR (1-4)</td>\n",
       "      <td>Low-Rise Multifamily</td>\n",
       "      <td>DOWNTOWN</td>\n",
       "      <td>1900</td>\n",
       "      <td>1.0</td>\n",
       "      <td>4.0</td>\n",
       "      <td>48383</td>\n",
       "      <td>Retail Store</td>\n",
       "      <td>75.0</td>\n",
       "      <td>2.953338e+06</td>\n",
       "      <td>915977.0</td>\n",
       "      <td>1.448859e+06</td>\n",
       "      <td>5.885630e+05</td>\n",
       "      <td>Compliant</td>\n",
       "      <td>NaN</td>\n",
       "      <td>0.0</td>\n",
       "      <td>112.06</td>\n",
       "      <td>107 PINE ST</td>\n",
       "      <td>SEATTLE</td>\n",
       "      <td>WA</td>\n",
       "      <td>98101</td>\n",
       "    </tr>\n",
       "    <tr>\n",
       "      <th>1</th>\n",
       "      <td>266</td>\n",
       "      <td>2015</td>\n",
       "      <td>Multifamily LR (1-4)</td>\n",
       "      <td>Low-Rise Multifamily</td>\n",
       "      <td>DELRIDGE</td>\n",
       "      <td>2007</td>\n",
       "      <td>1.0</td>\n",
       "      <td>4.0</td>\n",
       "      <td>52134</td>\n",
       "      <td>NaN</td>\n",
       "      <td>85.0</td>\n",
       "      <td>1.212551e+06</td>\n",
       "      <td>0.0</td>\n",
       "      <td>1.212601e+06</td>\n",
       "      <td>0.000000e+00</td>\n",
       "      <td>Compliant</td>\n",
       "      <td>NaN</td>\n",
       "      <td>0.0</td>\n",
       "      <td>8.45</td>\n",
       "      <td>6500 35TH AVE SW</td>\n",
       "      <td>SEATTLE</td>\n",
       "      <td>WA</td>\n",
       "      <td>98126</td>\n",
       "    </tr>\n",
       "    <tr>\n",
       "      <th>2</th>\n",
       "      <td>325</td>\n",
       "      <td>2015</td>\n",
       "      <td>NonResidential</td>\n",
       "      <td>Retail Store</td>\n",
       "      <td>DOWNTOWN</td>\n",
       "      <td>1989</td>\n",
       "      <td>1.0</td>\n",
       "      <td>4.0</td>\n",
       "      <td>111077</td>\n",
       "      <td>NaN</td>\n",
       "      <td>91.0</td>\n",
       "      <td>9.898724e+06</td>\n",
       "      <td>0.0</td>\n",
       "      <td>9.899135e+06</td>\n",
       "      <td>0.000000e+00</td>\n",
       "      <td>Compliant</td>\n",
       "      <td>NaN</td>\n",
       "      <td>0.0</td>\n",
       "      <td>69.01</td>\n",
       "      <td>400 PINE ST</td>\n",
       "      <td>SEATTLE</td>\n",
       "      <td>WA</td>\n",
       "      <td>98101</td>\n",
       "    </tr>\n",
       "    <tr>\n",
       "      <th>3</th>\n",
       "      <td>400</td>\n",
       "      <td>2015</td>\n",
       "      <td>NonResidential</td>\n",
       "      <td>Small- and Mid-Sized Office</td>\n",
       "      <td>DOWNTOWN</td>\n",
       "      <td>1906</td>\n",
       "      <td>1.0</td>\n",
       "      <td>6.0</td>\n",
       "      <td>72450</td>\n",
       "      <td>NaN</td>\n",
       "      <td>45.0</td>\n",
       "      <td>6.525887e+06</td>\n",
       "      <td>0.0</td>\n",
       "      <td>6.488262e+06</td>\n",
       "      <td>3.789300e+04</td>\n",
       "      <td>Compliant</td>\n",
       "      <td>NaN</td>\n",
       "      <td>0.0</td>\n",
       "      <td>47.24</td>\n",
       "      <td>1201 2ND AVE</td>\n",
       "      <td>SEATTLE</td>\n",
       "      <td>WA</td>\n",
       "      <td>98101</td>\n",
       "    </tr>\n",
       "    <tr>\n",
       "      <th>4</th>\n",
       "      <td>442</td>\n",
       "      <td>2015</td>\n",
       "      <td>NonResidential</td>\n",
       "      <td>Large Office</td>\n",
       "      <td>LAKE UNION</td>\n",
       "      <td>1947</td>\n",
       "      <td>1.0</td>\n",
       "      <td>4.0</td>\n",
       "      <td>155934</td>\n",
       "      <td>Parking</td>\n",
       "      <td>59.0</td>\n",
       "      <td>1.676022e+07</td>\n",
       "      <td>0.0</td>\n",
       "      <td>1.676091e+07</td>\n",
       "      <td>0.000000e+00</td>\n",
       "      <td>Compliant</td>\n",
       "      <td>NaN</td>\n",
       "      <td>0.0</td>\n",
       "      <td>116.84</td>\n",
       "      <td>333 DEXTER AVE N</td>\n",
       "      <td>SEATTLE</td>\n",
       "      <td>WA</td>\n",
       "      <td>98109</td>\n",
       "    </tr>\n",
       "    <tr>\n",
       "      <th>...</th>\n",
       "      <td>...</td>\n",
       "      <td>...</td>\n",
       "      <td>...</td>\n",
       "      <td>...</td>\n",
       "      <td>...</td>\n",
       "      <td>...</td>\n",
       "      <td>...</td>\n",
       "      <td>...</td>\n",
       "      <td>...</td>\n",
       "      <td>...</td>\n",
       "      <td>...</td>\n",
       "      <td>...</td>\n",
       "      <td>...</td>\n",
       "      <td>...</td>\n",
       "      <td>...</td>\n",
       "      <td>...</td>\n",
       "      <td>...</td>\n",
       "      <td>...</td>\n",
       "      <td>...</td>\n",
       "      <td>...</td>\n",
       "      <td>...</td>\n",
       "      <td>...</td>\n",
       "      <td>...</td>\n",
       "    </tr>\n",
       "    <tr>\n",
       "      <th>3371</th>\n",
       "      <td>50222</td>\n",
       "      <td>2016</td>\n",
       "      <td>Nonresidential COS</td>\n",
       "      <td>Office</td>\n",
       "      <td>GREATER DUWAMISH</td>\n",
       "      <td>1990</td>\n",
       "      <td>1.0</td>\n",
       "      <td>1.0</td>\n",
       "      <td>12294</td>\n",
       "      <td>NaN</td>\n",
       "      <td>46.0</td>\n",
       "      <td>8.497457e+05</td>\n",
       "      <td>0.0</td>\n",
       "      <td>5.242709e+05</td>\n",
       "      <td>3.254750e+05</td>\n",
       "      <td>Error - Correct Default Data</td>\n",
       "      <td>NaN</td>\n",
       "      <td>0.0</td>\n",
       "      <td>20.94</td>\n",
       "      <td>1600 S Dakota St</td>\n",
       "      <td>Seattle</td>\n",
       "      <td>WA</td>\n",
       "      <td>NaN</td>\n",
       "    </tr>\n",
       "    <tr>\n",
       "      <th>3372</th>\n",
       "      <td>50223</td>\n",
       "      <td>2016</td>\n",
       "      <td>Nonresidential COS</td>\n",
       "      <td>Other</td>\n",
       "      <td>DOWNTOWN</td>\n",
       "      <td>2004</td>\n",
       "      <td>1.0</td>\n",
       "      <td>1.0</td>\n",
       "      <td>16000</td>\n",
       "      <td>NaN</td>\n",
       "      <td>NaN</td>\n",
       "      <td>9.502762e+05</td>\n",
       "      <td>0.0</td>\n",
       "      <td>3.965461e+05</td>\n",
       "      <td>5.537300e+05</td>\n",
       "      <td>Compliant</td>\n",
       "      <td>NaN</td>\n",
       "      <td>0.0</td>\n",
       "      <td>32.17</td>\n",
       "      <td>719 8th Ave S</td>\n",
       "      <td>Seattle</td>\n",
       "      <td>WA</td>\n",
       "      <td>NaN</td>\n",
       "    </tr>\n",
       "    <tr>\n",
       "      <th>3373</th>\n",
       "      <td>50224</td>\n",
       "      <td>2016</td>\n",
       "      <td>Nonresidential COS</td>\n",
       "      <td>Other</td>\n",
       "      <td>MAGNOLIA / QUEEN ANNE</td>\n",
       "      <td>1974</td>\n",
       "      <td>1.0</td>\n",
       "      <td>1.0</td>\n",
       "      <td>13157</td>\n",
       "      <td>Fitness Center/Health Club/Gym</td>\n",
       "      <td>NaN</td>\n",
       "      <td>5.765898e+06</td>\n",
       "      <td>0.0</td>\n",
       "      <td>1.792159e+06</td>\n",
       "      <td>3.973739e+06</td>\n",
       "      <td>Compliant</td>\n",
       "      <td>NaN</td>\n",
       "      <td>0.0</td>\n",
       "      <td>223.54</td>\n",
       "      <td>1920 1st Ave W</td>\n",
       "      <td>Seattle</td>\n",
       "      <td>WA</td>\n",
       "      <td>NaN</td>\n",
       "    </tr>\n",
       "    <tr>\n",
       "      <th>3374</th>\n",
       "      <td>50225</td>\n",
       "      <td>2016</td>\n",
       "      <td>Nonresidential COS</td>\n",
       "      <td>Mixed Use Property</td>\n",
       "      <td>GREATER DUWAMISH</td>\n",
       "      <td>1989</td>\n",
       "      <td>1.0</td>\n",
       "      <td>1.0</td>\n",
       "      <td>14101</td>\n",
       "      <td>Fitness Center/Health Club/Gym</td>\n",
       "      <td>NaN</td>\n",
       "      <td>7.194712e+05</td>\n",
       "      <td>0.0</td>\n",
       "      <td>3.488702e+05</td>\n",
       "      <td>3.706010e+05</td>\n",
       "      <td>Compliant</td>\n",
       "      <td>NaN</td>\n",
       "      <td>0.0</td>\n",
       "      <td>22.11</td>\n",
       "      <td>8319 8th Ave S</td>\n",
       "      <td>Seattle</td>\n",
       "      <td>WA</td>\n",
       "      <td>NaN</td>\n",
       "    </tr>\n",
       "    <tr>\n",
       "      <th>3375</th>\n",
       "      <td>50226</td>\n",
       "      <td>2016</td>\n",
       "      <td>Nonresidential COS</td>\n",
       "      <td>Mixed Use Property</td>\n",
       "      <td>GREATER DUWAMISH</td>\n",
       "      <td>1938</td>\n",
       "      <td>1.0</td>\n",
       "      <td>1.0</td>\n",
       "      <td>18258</td>\n",
       "      <td>Fitness Center/Health Club/Gym</td>\n",
       "      <td>NaN</td>\n",
       "      <td>1.152896e+06</td>\n",
       "      <td>0.0</td>\n",
       "      <td>4.325542e+05</td>\n",
       "      <td>7.203420e+05</td>\n",
       "      <td>Compliant</td>\n",
       "      <td>NaN</td>\n",
       "      <td>0.0</td>\n",
       "      <td>41.27</td>\n",
       "      <td>2820 S Myrtle St</td>\n",
       "      <td>Seattle</td>\n",
       "      <td>WA</td>\n",
       "      <td>NaN</td>\n",
       "    </tr>\n",
       "  </tbody>\n",
       "</table>\n",
       "<p>3432 rows × 23 columns</p>\n",
       "</div>"
      ],
      "text/plain": [
       "      OSEBuildingID  DataYear          BuildingType  \\\n",
       "0                61      2015  Multifamily LR (1-4)   \n",
       "1               266      2015  Multifamily LR (1-4)   \n",
       "2               325      2015        NonResidential   \n",
       "3               400      2015        NonResidential   \n",
       "4               442      2015        NonResidential   \n",
       "...             ...       ...                   ...   \n",
       "3371          50222      2016    Nonresidential COS   \n",
       "3372          50223      2016    Nonresidential COS   \n",
       "3373          50224      2016    Nonresidential COS   \n",
       "3374          50225      2016    Nonresidential COS   \n",
       "3375          50226      2016    Nonresidential COS   \n",
       "\n",
       "              PrimaryPropertyType           Neighborhood  YearBuilt  \\\n",
       "0            Low-Rise Multifamily               DOWNTOWN       1900   \n",
       "1            Low-Rise Multifamily               DELRIDGE       2007   \n",
       "2                    Retail Store               DOWNTOWN       1989   \n",
       "3     Small- and Mid-Sized Office               DOWNTOWN       1906   \n",
       "4                    Large Office             LAKE UNION       1947   \n",
       "...                           ...                    ...        ...   \n",
       "3371                       Office       GREATER DUWAMISH       1990   \n",
       "3372                        Other               DOWNTOWN       2004   \n",
       "3373                        Other  MAGNOLIA / QUEEN ANNE       1974   \n",
       "3374           Mixed Use Property       GREATER DUWAMISH       1989   \n",
       "3375           Mixed Use Property       GREATER DUWAMISH       1938   \n",
       "\n",
       "      NumberofBuildings  NumberofFloors  PropertyGFABuilding(s)  \\\n",
       "0                   1.0             4.0                   48383   \n",
       "1                   1.0             4.0                   52134   \n",
       "2                   1.0             4.0                  111077   \n",
       "3                   1.0             6.0                   72450   \n",
       "4                   1.0             4.0                  155934   \n",
       "...                 ...             ...                     ...   \n",
       "3371                1.0             1.0                   12294   \n",
       "3372                1.0             1.0                   16000   \n",
       "3373                1.0             1.0                   13157   \n",
       "3374                1.0             1.0                   14101   \n",
       "3375                1.0             1.0                   18258   \n",
       "\n",
       "        SecondLargestPropertyUseType  ENERGYSTARScore  SiteEnergyUse(kBtu)  \\\n",
       "0                       Retail Store             75.0         2.953338e+06   \n",
       "1                                NaN             85.0         1.212551e+06   \n",
       "2                                NaN             91.0         9.898724e+06   \n",
       "3                                NaN             45.0         6.525887e+06   \n",
       "4                            Parking             59.0         1.676022e+07   \n",
       "...                              ...              ...                  ...   \n",
       "3371                             NaN             46.0         8.497457e+05   \n",
       "3372                             NaN              NaN         9.502762e+05   \n",
       "3373  Fitness Center/Health Club/Gym              NaN         5.765898e+06   \n",
       "3374  Fitness Center/Health Club/Gym              NaN         7.194712e+05   \n",
       "3375  Fitness Center/Health Club/Gym              NaN         1.152896e+06   \n",
       "\n",
       "      SteamUse(kBtu)  Electricity(kBtu)  NaturalGas(kBtu)  \\\n",
       "0           915977.0       1.448859e+06      5.885630e+05   \n",
       "1                0.0       1.212601e+06      0.000000e+00   \n",
       "2                0.0       9.899135e+06      0.000000e+00   \n",
       "3                0.0       6.488262e+06      3.789300e+04   \n",
       "4                0.0       1.676091e+07      0.000000e+00   \n",
       "...              ...                ...               ...   \n",
       "3371             0.0       5.242709e+05      3.254750e+05   \n",
       "3372             0.0       3.965461e+05      5.537300e+05   \n",
       "3373             0.0       1.792159e+06      3.973739e+06   \n",
       "3374             0.0       3.488702e+05      3.706010e+05   \n",
       "3375             0.0       4.325542e+05      7.203420e+05   \n",
       "\n",
       "                  ComplianceStatus Outlier  OtherFuelUse(kBtu)  GHGEmissions  \\\n",
       "0                        Compliant     NaN                 0.0        112.06   \n",
       "1                        Compliant     NaN                 0.0          8.45   \n",
       "2                        Compliant     NaN                 0.0         69.01   \n",
       "3                        Compliant     NaN                 0.0         47.24   \n",
       "4                        Compliant     NaN                 0.0        116.84   \n",
       "...                            ...     ...                 ...           ...   \n",
       "3371  Error - Correct Default Data     NaN                 0.0         20.94   \n",
       "3372                     Compliant     NaN                 0.0         32.17   \n",
       "3373                     Compliant     NaN                 0.0        223.54   \n",
       "3374                     Compliant     NaN                 0.0         22.11   \n",
       "3375                     Compliant     NaN                 0.0         41.27   \n",
       "\n",
       "               Address     City State ZipCode  \n",
       "0          107 PINE ST  SEATTLE    WA   98101  \n",
       "1     6500 35TH AVE SW  SEATTLE    WA   98126  \n",
       "2          400 PINE ST  SEATTLE    WA   98101  \n",
       "3         1201 2ND AVE  SEATTLE    WA   98101  \n",
       "4     333 DEXTER AVE N  SEATTLE    WA   98109  \n",
       "...                ...      ...   ...     ...  \n",
       "3371  1600 S Dakota St  Seattle    WA     NaN  \n",
       "3372     719 8th Ave S  Seattle    WA     NaN  \n",
       "3373    1920 1st Ave W  Seattle    WA     NaN  \n",
       "3374    8319 8th Ave S  Seattle    WA     NaN  \n",
       "3375  2820 S Myrtle St  Seattle    WA     NaN  \n",
       "\n",
       "[3432 rows x 23 columns]"
      ]
     },
     "execution_count": 23,
     "metadata": {},
     "output_type": "execute_result"
    }
   ],
   "source": [
    "pd.set_option(\"display.max_columns\", 70)\n",
    "batiments_data"
   ]
  },
  {
   "cell_type": "markdown",
   "metadata": {},
   "source": [
    "### Quels sont les différents types de propiétés présents dans le dataset ?"
   ]
  },
  {
   "cell_type": "code",
   "execution_count": 60,
   "metadata": {},
   "outputs": [
    {
     "data": {
      "text/plain": [
       "<AxesSubplot:xlabel='count', ylabel='BuildingType'>"
      ]
     },
     "execution_count": 60,
     "metadata": {},
     "output_type": "execute_result"
    },
    {
     "data": {
      "image/png": "[encoded data removed]",
      "text/plain": [
       "<Figure size 1008x432 with 1 Axes>"
      ]
     },
     "metadata": {
      "needs_background": "light"
     },
     "output_type": "display_data"
    }
   ],
   "source": [
    "plt.rcParams[\"figure.figsize\"] = (14, 6)\n",
    "sns.countplot(y=\"BuildingType\", color='tab:blue', data=batiments_data)"
   ]
  },
  {
   "cell_type": "code",
   "execution_count": 59,
   "metadata": {},
   "outputs": [
    {
     "data": {
      "text/html": [
       "<div>\n",
       "<style scoped>\n",
       "    .dataframe tbody tr th:only-of-type {\n",
       "        vertical-align: middle;\n",
       "    }\n",
       "\n",
       "    .dataframe tbody tr th {\n",
       "        vertical-align: top;\n",
       "    }\n",
       "\n",
       "    .dataframe thead th {\n",
       "        text-align: right;\n",
       "    }\n",
       "</style>\n",
       "<table border=\"1\" class=\"dataframe\">\n",
       "  <thead>\n",
       "    <tr style=\"text-align: right;\">\n",
       "      <th></th>\n",
       "      <th>BuildingType</th>\n",
       "      <th>PrimaryPropertyType</th>\n",
       "      <th>SecondLargestPropertyUseType</th>\n",
       "    </tr>\n",
       "  </thead>\n",
       "  <tbody>\n",
       "    <tr>\n",
       "      <th>55</th>\n",
       "      <td>Campus</td>\n",
       "      <td>Other</td>\n",
       "      <td>NaN</td>\n",
       "    </tr>\n",
       "    <tr>\n",
       "      <th>35</th>\n",
       "      <td>Campus</td>\n",
       "      <td>Mixed Use Property</td>\n",
       "      <td>Laboratory</td>\n",
       "    </tr>\n",
       "    <tr>\n",
       "      <th>105</th>\n",
       "      <td>Campus</td>\n",
       "      <td>University</td>\n",
       "      <td>NaN</td>\n",
       "    </tr>\n",
       "    <tr>\n",
       "      <th>128</th>\n",
       "      <td>Campus</td>\n",
       "      <td>University</td>\n",
       "      <td>NaN</td>\n",
       "    </tr>\n",
       "    <tr>\n",
       "      <th>162</th>\n",
       "      <td>Campus</td>\n",
       "      <td>Large Office</td>\n",
       "      <td>Laboratory</td>\n",
       "    </tr>\n",
       "    <tr>\n",
       "      <th>195</th>\n",
       "      <td>Campus</td>\n",
       "      <td>Other</td>\n",
       "      <td>NaN</td>\n",
       "    </tr>\n",
       "    <tr>\n",
       "      <th>289</th>\n",
       "      <td>Campus</td>\n",
       "      <td>Mixed Use Property</td>\n",
       "      <td>Other - Restaurant/Bar</td>\n",
       "    </tr>\n",
       "    <tr>\n",
       "      <th>301</th>\n",
       "      <td>Campus</td>\n",
       "      <td>Mixed Use Property</td>\n",
       "      <td>Office</td>\n",
       "    </tr>\n",
       "    <tr>\n",
       "      <th>340</th>\n",
       "      <td>Campus</td>\n",
       "      <td>Other</td>\n",
       "      <td>Parking</td>\n",
       "    </tr>\n",
       "    <tr>\n",
       "      <th>661</th>\n",
       "      <td>Campus</td>\n",
       "      <td>Other</td>\n",
       "      <td>NaN</td>\n",
       "    </tr>\n",
       "    <tr>\n",
       "      <th>954</th>\n",
       "      <td>Campus</td>\n",
       "      <td>K-12 School</td>\n",
       "      <td>NaN</td>\n",
       "    </tr>\n",
       "    <tr>\n",
       "      <th>1297</th>\n",
       "      <td>Campus</td>\n",
       "      <td>Mixed Use Property</td>\n",
       "      <td>Restaurant</td>\n",
       "    </tr>\n",
       "    <tr>\n",
       "      <th>1300</th>\n",
       "      <td>Campus</td>\n",
       "      <td>Low-Rise Multifamily</td>\n",
       "      <td>Retail Store</td>\n",
       "    </tr>\n",
       "    <tr>\n",
       "      <th>1301</th>\n",
       "      <td>Campus</td>\n",
       "      <td>Restaurant</td>\n",
       "      <td>Food Sales</td>\n",
       "    </tr>\n",
       "    <tr>\n",
       "      <th>1494</th>\n",
       "      <td>Campus</td>\n",
       "      <td>University</td>\n",
       "      <td>Parking</td>\n",
       "    </tr>\n",
       "    <tr>\n",
       "      <th>1692</th>\n",
       "      <td>Campus</td>\n",
       "      <td>Other</td>\n",
       "      <td>NaN</td>\n",
       "    </tr>\n",
       "    <tr>\n",
       "      <th>1732</th>\n",
       "      <td>Campus</td>\n",
       "      <td>Other</td>\n",
       "      <td>NaN</td>\n",
       "    </tr>\n",
       "    <tr>\n",
       "      <th>1862</th>\n",
       "      <td>Campus</td>\n",
       "      <td>Other</td>\n",
       "      <td>NaN</td>\n",
       "    </tr>\n",
       "    <tr>\n",
       "      <th>1993</th>\n",
       "      <td>Campus</td>\n",
       "      <td>Other</td>\n",
       "      <td>Parking</td>\n",
       "    </tr>\n",
       "    <tr>\n",
       "      <th>2270</th>\n",
       "      <td>Campus</td>\n",
       "      <td>K-12 School</td>\n",
       "      <td>Parking</td>\n",
       "    </tr>\n",
       "    <tr>\n",
       "      <th>2325</th>\n",
       "      <td>Campus</td>\n",
       "      <td>University</td>\n",
       "      <td>NaN</td>\n",
       "    </tr>\n",
       "    <tr>\n",
       "      <th>2993</th>\n",
       "      <td>Campus</td>\n",
       "      <td>K-12 School</td>\n",
       "      <td>NaN</td>\n",
       "    </tr>\n",
       "    <tr>\n",
       "      <th>3022</th>\n",
       "      <td>Campus</td>\n",
       "      <td>K-12 School</td>\n",
       "      <td>NaN</td>\n",
       "    </tr>\n",
       "    <tr>\n",
       "      <th>3252</th>\n",
       "      <td>Campus</td>\n",
       "      <td>University</td>\n",
       "      <td>NaN</td>\n",
       "    </tr>\n",
       "    <tr>\n",
       "      <th>3274</th>\n",
       "      <td>Campus</td>\n",
       "      <td>University</td>\n",
       "      <td>NaN</td>\n",
       "    </tr>\n",
       "  </tbody>\n",
       "</table>\n",
       "</div>"
      ],
      "text/plain": [
       "     BuildingType   PrimaryPropertyType SecondLargestPropertyUseType\n",
       "55         Campus                 Other                          NaN\n",
       "35         Campus    Mixed Use Property                   Laboratory\n",
       "105        Campus            University                          NaN\n",
       "128        Campus            University                          NaN\n",
       "162        Campus          Large Office                   Laboratory\n",
       "195        Campus                 Other                          NaN\n",
       "289        Campus    Mixed Use Property       Other - Restaurant/Bar\n",
       "301        Campus    Mixed Use Property                       Office\n",
       "340        Campus                 Other                      Parking\n",
       "661        Campus                 Other                          NaN\n",
       "954        Campus           K-12 School                          NaN\n",
       "1297       Campus    Mixed Use Property                   Restaurant\n",
       "1300       Campus  Low-Rise Multifamily                 Retail Store\n",
       "1301       Campus            Restaurant                   Food Sales\n",
       "1494       Campus            University                      Parking\n",
       "1692       Campus                 Other                          NaN\n",
       "1732       Campus                 Other                          NaN\n",
       "1862       Campus                 Other                          NaN\n",
       "1993       Campus                 Other                      Parking\n",
       "2270       Campus           K-12 School                      Parking\n",
       "2325       Campus            University                          NaN\n",
       "2993       Campus           K-12 School                          NaN\n",
       "3022       Campus           K-12 School                          NaN\n",
       "3252       Campus            University                          NaN\n",
       "3274       Campus            University                          NaN"
      ]
     },
     "execution_count": 59,
     "metadata": {},
     "output_type": "execute_result"
    }
   ],
   "source": [
    "batiments_data[batiments_data[\"BuildingType\"] == \"Campus\"][[\"BuildingType\", \n",
    "                                                            \"PrimaryPropertyType\", \n",
    "                                                            \"SecondLargestPropertyUseType\"]]"
   ]
  },
  {
   "cell_type": "markdown",
   "metadata": {},
   "source": [
    "Le dataset contient plusieurs types de propriétés :\n",
    "- les *Multifamily LR, MR et HR* sont des bâtiments résidentiels où plusieurs familles vivent dans le même bâtiment, il peut s'agir de logements collectifs, de maisons mitoyennes ou d'appartements. Ces bâtiments ne m'intéressent pas, ils seront écartés de l'étude.\n",
    "- les *NonResidential (COS & WA)* représentent les bâtiments non résidentiels. Ce sont ceux qui m'intéressent.\n",
    "- les *SPS-District K-12* sont les écoles publiques de Seattle, ce sont des bâtiments non résidentiels également. Je les conserve donc dans l'étude.\n",
    "- et les *Campus* regroupent des universités, des écoles ou des propriétés à utilisation mixte (restaurant et habitation par exemple), ils seront conservés car les propriétés ayant un usage principal de type résidentiel (*Mixed Use Property* ou *Low-Rise Multifamily*), leur usage secondaire concernent un usage non-résidentiel et je pense que cela a plus de poids dans la consommation d'énergie.\n",
    "\n",
    "Vérifions l'utilisation primaire des bâtiments pour chaque type d'entre eux pour vérifier si cela est cohérent."
   ]
  },
  {
   "cell_type": "code",
   "execution_count": 61,
   "metadata": {},
   "outputs": [
    {
     "data": {
      "text/plain": [
       "NonResidential          1488\n",
       "Multifamily LR (1-4)    1040\n",
       "Multifamily MR (5-9)     584\n",
       "Multifamily HR (10+)     110\n",
       "SPS-District K-12         99\n",
       "Nonresidential COS        85\n",
       "Campus                    25\n",
       "Nonresidential WA          1\n",
       "Name: BuildingType, dtype: int64"
      ]
     },
     "execution_count": 61,
     "metadata": {},
     "output_type": "execute_result"
    }
   ],
   "source": [
    "batiments_data[\"BuildingType\"].value_counts()"
   ]
  },
  {
   "cell_type": "code",
   "execution_count": 66,
   "metadata": {},
   "outputs": [
    {
     "data": {
      "text/plain": [
       "<AxesSubplot:xlabel='count', ylabel='PrimaryPropertyType'>"
      ]
     },
     "execution_count": 66,
     "metadata": {},
     "output_type": "execute_result"
    },
    {
     "data": {
      "image/png": "[encoded data removed]",
      "text/plain": [
       "<Figure size 1008x432 with 1 Axes>"
      ]
     },
     "metadata": {
      "needs_background": "light"
     },
     "output_type": "display_data"
    }
   ],
   "source": [
    "data_filtre = batiments_data[(batiments_data[\"BuildingType\"] == \"Multifamily LR (1-4)\") |\n",
    "                             (batiments_data[\"BuildingType\"] == \"Multifamily MR (5-9)\") |\n",
    "                             (batiments_data[\"BuildingType\"] == \"Multifamily HR (10+)\")]\n",
    "plt.rcParams[\"figure.figsize\"] = (14, 6)\n",
    "sns.countplot(y=\"PrimaryPropertyType\", color='tab:blue', data=data_filtre)"
   ]
  },
  {
   "cell_type": "code",
   "execution_count": 67,
   "metadata": {},
   "outputs": [
    {
     "data": {
      "text/plain": [
       "Low-Rise Multifamily           1006\n",
       "Mid-Rise Multifamily            568\n",
       "High-Rise Multifamily           105\n",
       "Senior Care Community            25\n",
       "Mixed Use Property               19\n",
       "Other                             6\n",
       "Residence Hall                    2\n",
       "Small- and Mid-Sized Office       1\n",
       "University                        1\n",
       "Hotel                             1\n",
       "Name: PrimaryPropertyType, dtype: int64"
      ]
     },
     "execution_count": 67,
     "metadata": {},
     "output_type": "execute_result"
    }
   ],
   "source": [
    "data_filtre[\"PrimaryPropertyType\"].value_counts()"
   ]
  },
  {
   "cell_type": "markdown",
   "metadata": {},
   "source": [
    "Quasiment la totalité des propriétés résidentielles ont un usage principal lié à l'habitation. Ces propriétés seront supprimées."
   ]
  },
  {
   "cell_type": "code",
   "execution_count": 70,
   "metadata": {},
   "outputs": [
    {
     "data": {
      "text/plain": [
       "<AxesSubplot:xlabel='count', ylabel='PrimaryPropertyType'>"
      ]
     },
     "execution_count": 70,
     "metadata": {},
     "output_type": "execute_result"
    },
    {
     "data": {
      "image/png": "[encoded data removed]",
      "text/plain": [
       "<Figure size 1008x576 with 1 Axes>"
      ]
     },
     "metadata": {
      "needs_background": "light"
     },
     "output_type": "display_data"
    }
   ],
   "source": [
    "data_filtre = batiments_data[(batiments_data[\"BuildingType\"] == \"NonResidential\") |\n",
    "                             (batiments_data[\"BuildingType\"] == \"Nonresidential COS\") |\n",
    "                             (batiments_data[\"BuildingType\"] == \"Nonresidential WA\")]\n",
    "plt.rcParams[\"figure.figsize\"] = (14, 8)\n",
    "sns.countplot(y=\"PrimaryPropertyType\", color='tab:blue', data=data_filtre)"
   ]
  },
  {
   "cell_type": "code",
   "execution_count": 69,
   "metadata": {},
   "outputs": [
    {
     "data": {
      "text/plain": [
       "Small- and Mid-Sized Office    299\n",
       "Other                          247\n",
       "Warehouse                      187\n",
       "Large Office                   175\n",
       "Mixed Use Property             111\n",
       "Retail Store                    94\n",
       "Hotel                           76\n",
       "Worship Facility                72\n",
       "Distribution Center             53\n",
       "Medical Office                  42\n",
       "K-12 School                     40\n",
       "Supermarket / Grocery Store     40\n",
       "Self-Storage Facility           28\n",
       "Residence Hall                  21\n",
       "Senior Care Community           20\n",
       "University                      18\n",
       "Refrigerated Warehouse          12\n",
       "Restaurant                      11\n",
       "Hospital                        10\n",
       "Laboratory                      10\n",
       "Office                           3\n",
       "Low-Rise Multifamily             2\n",
       "Non-Refrigerated Warehouse       2\n",
       "Restaurant\\n                     1\n",
       "Name: PrimaryPropertyType, dtype: int64"
      ]
     },
     "execution_count": 69,
     "metadata": {},
     "output_type": "execute_result"
    }
   ],
   "source": [
    "data_filtre[\"PrimaryPropertyType\"].value_counts()"
   ]
  },
  {
   "cell_type": "markdown",
   "metadata": {},
   "source": [
    "Quasiment la totalité des propriétés non-résidentielles ont un usage principal de ce même type. Ces propriétés seront conservées."
   ]
  },
  {
   "cell_type": "code",
   "execution_count": 71,
   "metadata": {},
   "outputs": [
    {
     "data": {
      "text/plain": [
       "<AxesSubplot:xlabel='count', ylabel='PrimaryPropertyType'>"
      ]
     },
     "execution_count": 71,
     "metadata": {},
     "output_type": "execute_result"
    },
    {
     "data": {
      "image/png": "[encoded data removed]",
      "text/plain": [
       "<Figure size 1008x576 with 1 Axes>"
      ]
     },
     "metadata": {
      "needs_background": "light"
     },
     "output_type": "display_data"
    }
   ],
   "source": [
    "data_filtre = batiments_data[(batiments_data[\"BuildingType\"] == \"SPS-District K-12\")]\n",
    "plt.rcParams[\"figure.figsize\"] = (14, 8)\n",
    "sns.countplot(y=\"PrimaryPropertyType\", color='tab:blue', data=data_filtre)"
   ]
  },
  {
   "cell_type": "markdown",
   "metadata": {},
   "source": [
    "Quasiment la totalité des bâtiments scolaires ont un usage principal lié à la scolarisation. Ces bâtiments seront conservés."
   ]
  },
  {
   "cell_type": "code",
   "execution_count": 72,
   "metadata": {},
   "outputs": [
    {
     "data": {
      "text/plain": [
       "NonResidential          1488\n",
       "Multifamily LR (1-4)    1040\n",
       "Multifamily MR (5-9)     584\n",
       "Multifamily HR (10+)     110\n",
       "SPS-District K-12         99\n",
       "Nonresidential COS        85\n",
       "Campus                    25\n",
       "Nonresidential WA          1\n",
       "Name: BuildingType, dtype: int64"
      ]
     },
     "execution_count": 72,
     "metadata": {},
     "output_type": "execute_result"
    }
   ],
   "source": [
    "batiments_data[\"BuildingType\"].value_counts()"
   ]
  },
  {
   "cell_type": "code",
   "execution_count": 24,
   "metadata": {},
   "outputs": [],
   "source": [
    "# suppression des bâtiments résidentiels\n",
    "liste_types_batiments_supprimes = [\"Multifamily LR (1-4)\", \"Multifamily MR (5-9)\", \"Multifamily HR (10+)\"]\n",
    "batiments_data = batiments_data[~batiments_data.BuildingType.isin(liste_types_batiments_supprimes)]"
   ]
  },
  {
   "cell_type": "markdown",
   "metadata": {},
   "source": [
    "### Est-ce que toutes les propriétés restantes sont bien situées à Seattle dans le Washington ?"
   ]
  },
  {
   "cell_type": "code",
   "execution_count": 27,
   "metadata": {},
   "outputs": [
    {
     "data": {
      "text/plain": [
       "Seattle    1668\n",
       "SEATTLE      30\n",
       "Name: City, dtype: int64"
      ]
     },
     "execution_count": 27,
     "metadata": {},
     "output_type": "execute_result"
    }
   ],
   "source": [
    "batiments_data[\"City\"].value_counts()"
   ]
  },
  {
   "cell_type": "code",
   "execution_count": 28,
   "metadata": {},
   "outputs": [
    {
     "data": {
      "text/plain": [
       "WA    1698\n",
       "Name: State, dtype: int64"
      ]
     },
     "execution_count": 28,
     "metadata": {},
     "output_type": "execute_result"
    }
   ],
   "source": [
    "batiments_data[\"State\"].value_counts()"
   ]
  },
  {
   "cell_type": "markdown",
   "metadata": {},
   "source": [
    "Toutes les propriétés sont bien situées à Seattle dans l'état du Washington."
   ]
  },
  {
   "cell_type": "code",
   "execution_count": 30,
   "metadata": {},
   "outputs": [
    {
     "data": {
      "text/plain": [
       "98134.0    182\n",
       "98104.0    159\n",
       "98101.0    149\n",
       "98109.0    140\n",
       "98108.0    120\n",
       "          ... \n",
       "98102        1\n",
       "98165.0      1\n",
       "98164.0      1\n",
       "98145.0      1\n",
       "98053.0      1\n",
       "Name: ZipCode, Length: 61, dtype: int64"
      ]
     },
     "execution_count": 30,
     "metadata": {},
     "output_type": "execute_result"
    }
   ],
   "source": [
    "batiments_data[\"ZipCode\"].value_counts()"
   ]
  },
  {
   "cell_type": "code",
   "execution_count": 39,
   "metadata": {},
   "outputs": [
    {
     "data": {
      "text/plain": [
       "(98006.0, 98199.0)"
      ]
     },
     "execution_count": 39,
     "metadata": {},
     "output_type": "execute_result"
    }
   ],
   "source": [
    "(min(pd.to_numeric(batiments_data[\"ZipCode\"])), max(pd.to_numeric(batiments_data[\"ZipCode\"])))"
   ]
  },
  {
   "cell_type": "markdown",
   "metadata": {},
   "source": [
    "L'intervalle dans lesquels les codes postaux sont compris est cohérent."
   ]
  },
  {
   "cell_type": "markdown",
   "metadata": {},
   "source": [
    "## Analyses univariées"
   ]
  },
  {
   "cell_type": "code",
   "execution_count": 19,
   "metadata": {},
   "outputs": [
    {
     "data": {
      "text/html": [
       "<div>\n",
       "<style scoped>\n",
       "    .dataframe tbody tr th:only-of-type {\n",
       "        vertical-align: middle;\n",
       "    }\n",
       "\n",
       "    .dataframe tbody tr th {\n",
       "        vertical-align: top;\n",
       "    }\n",
       "\n",
       "    .dataframe thead th {\n",
       "        text-align: right;\n",
       "    }\n",
       "</style>\n",
       "<table border=\"1\" class=\"dataframe\">\n",
       "  <thead>\n",
       "    <tr style=\"text-align: right;\">\n",
       "      <th></th>\n",
       "      <th>OSEBuildingID</th>\n",
       "      <th>DataYear</th>\n",
       "      <th>YearBuilt</th>\n",
       "      <th>NumberofBuildings</th>\n",
       "      <th>NumberofFloors</th>\n",
       "      <th>PropertyGFABuilding(s)</th>\n",
       "      <th>ENERGYSTARScore</th>\n",
       "      <th>SiteEnergyUse(kBtu)</th>\n",
       "      <th>SteamUse(kBtu)</th>\n",
       "      <th>Electricity(kBtu)</th>\n",
       "      <th>NaturalGas(kBtu)</th>\n",
       "      <th>OtherFuelUse(kBtu)</th>\n",
       "      <th>GHGEmissions</th>\n",
       "    </tr>\n",
       "  </thead>\n",
       "  <tbody>\n",
       "    <tr>\n",
       "      <th>count</th>\n",
       "      <td>1698.000000</td>\n",
       "      <td>1698.000000</td>\n",
       "      <td>1698.000000</td>\n",
       "      <td>1696.000000</td>\n",
       "      <td>1698.000000</td>\n",
       "      <td>1.698000e+03</td>\n",
       "      <td>1112.000000</td>\n",
       "      <td>1.695000e+03</td>\n",
       "      <td>1.695000e+03</td>\n",
       "      <td>1.695000e+03</td>\n",
       "      <td>1.695000e+03</td>\n",
       "      <td>1697.0</td>\n",
       "      <td>1695.000000</td>\n",
       "    </tr>\n",
       "    <tr>\n",
       "      <th>mean</th>\n",
       "      <td>16339.776207</td>\n",
       "      <td>2015.982332</td>\n",
       "      <td>1961.704947</td>\n",
       "      <td>1.169222</td>\n",
       "      <td>4.101885</td>\n",
       "      <td>1.053697e+05</td>\n",
       "      <td>65.544065</td>\n",
       "      <td>8.476349e+06</td>\n",
       "      <td>5.182738e+05</td>\n",
       "      <td>5.850148e+06</td>\n",
       "      <td>1.998808e+06</td>\n",
       "      <td>0.0</td>\n",
       "      <td>186.944873</td>\n",
       "    </tr>\n",
       "    <tr>\n",
       "      <th>std</th>\n",
       "      <td>13811.042261</td>\n",
       "      <td>0.131780</td>\n",
       "      <td>32.850343</td>\n",
       "      <td>2.908885</td>\n",
       "      <td>6.516620</td>\n",
       "      <td>2.819403e+05</td>\n",
       "      <td>28.432810</td>\n",
       "      <td>3.023379e+07</td>\n",
       "      <td>5.490941e+06</td>\n",
       "      <td>2.071024e+07</td>\n",
       "      <td>9.488313e+06</td>\n",
       "      <td>0.0</td>\n",
       "      <td>755.340584</td>\n",
       "    </tr>\n",
       "    <tr>\n",
       "      <th>min</th>\n",
       "      <td>1.000000</td>\n",
       "      <td>2015.000000</td>\n",
       "      <td>1900.000000</td>\n",
       "      <td>0.000000</td>\n",
       "      <td>0.000000</td>\n",
       "      <td>3.636000e+03</td>\n",
       "      <td>1.000000</td>\n",
       "      <td>0.000000e+00</td>\n",
       "      <td>0.000000e+00</td>\n",
       "      <td>-1.154170e+05</td>\n",
       "      <td>0.000000e+00</td>\n",
       "      <td>0.0</td>\n",
       "      <td>-0.800000</td>\n",
       "    </tr>\n",
       "    <tr>\n",
       "      <th>25%</th>\n",
       "      <td>584.250000</td>\n",
       "      <td>2016.000000</td>\n",
       "      <td>1930.000000</td>\n",
       "      <td>1.000000</td>\n",
       "      <td>1.000000</td>\n",
       "      <td>2.831175e+04</td>\n",
       "      <td>49.000000</td>\n",
       "      <td>1.219804e+06</td>\n",
       "      <td>0.000000e+00</td>\n",
       "      <td>7.199750e+05</td>\n",
       "      <td>0.000000e+00</td>\n",
       "      <td>0.0</td>\n",
       "      <td>19.870000</td>\n",
       "    </tr>\n",
       "    <tr>\n",
       "      <th>50%</th>\n",
       "      <td>21161.000000</td>\n",
       "      <td>2016.000000</td>\n",
       "      <td>1965.000000</td>\n",
       "      <td>1.000000</td>\n",
       "      <td>2.000000</td>\n",
       "      <td>4.725100e+04</td>\n",
       "      <td>73.000000</td>\n",
       "      <td>2.551022e+06</td>\n",
       "      <td>0.000000e+00</td>\n",
       "      <td>1.611215e+06</td>\n",
       "      <td>4.965300e+05</td>\n",
       "      <td>0.0</td>\n",
       "      <td>49.550000</td>\n",
       "    </tr>\n",
       "    <tr>\n",
       "      <th>75%</th>\n",
       "      <td>24601.750000</td>\n",
       "      <td>2016.000000</td>\n",
       "      <td>1989.000000</td>\n",
       "      <td>1.000000</td>\n",
       "      <td>4.000000</td>\n",
       "      <td>9.465975e+04</td>\n",
       "      <td>89.000000</td>\n",
       "      <td>6.867819e+06</td>\n",
       "      <td>0.000000e+00</td>\n",
       "      <td>4.821154e+06</td>\n",
       "      <td>1.522622e+06</td>\n",
       "      <td>0.0</td>\n",
       "      <td>142.155000</td>\n",
       "    </tr>\n",
       "    <tr>\n",
       "      <th>max</th>\n",
       "      <td>50226.000000</td>\n",
       "      <td>2016.000000</td>\n",
       "      <td>2015.000000</td>\n",
       "      <td>111.000000</td>\n",
       "      <td>99.000000</td>\n",
       "      <td>9.320156e+06</td>\n",
       "      <td>100.000000</td>\n",
       "      <td>8.739237e+08</td>\n",
       "      <td>1.349435e+08</td>\n",
       "      <td>6.570744e+08</td>\n",
       "      <td>2.979090e+08</td>\n",
       "      <td>0.0</td>\n",
       "      <td>16870.980000</td>\n",
       "    </tr>\n",
       "  </tbody>\n",
       "</table>\n",
       "</div>"
      ],
      "text/plain": [
       "       OSEBuildingID     DataYear    YearBuilt  NumberofBuildings  \\\n",
       "count    1698.000000  1698.000000  1698.000000        1696.000000   \n",
       "mean    16339.776207  2015.982332  1961.704947           1.169222   \n",
       "std     13811.042261     0.131780    32.850343           2.908885   \n",
       "min         1.000000  2015.000000  1900.000000           0.000000   \n",
       "25%       584.250000  2016.000000  1930.000000           1.000000   \n",
       "50%     21161.000000  2016.000000  1965.000000           1.000000   \n",
       "75%     24601.750000  2016.000000  1989.000000           1.000000   \n",
       "max     50226.000000  2016.000000  2015.000000         111.000000   \n",
       "\n",
       "       NumberofFloors  PropertyGFABuilding(s)  ENERGYSTARScore  \\\n",
       "count     1698.000000            1.698000e+03      1112.000000   \n",
       "mean         4.101885            1.053697e+05        65.544065   \n",
       "std          6.516620            2.819403e+05        28.432810   \n",
       "min          0.000000            3.636000e+03         1.000000   \n",
       "25%          1.000000            2.831175e+04        49.000000   \n",
       "50%          2.000000            4.725100e+04        73.000000   \n",
       "75%          4.000000            9.465975e+04        89.000000   \n",
       "max         99.000000            9.320156e+06       100.000000   \n",
       "\n",
       "       SiteEnergyUse(kBtu)  SteamUse(kBtu)  Electricity(kBtu)  \\\n",
       "count         1.695000e+03    1.695000e+03       1.695000e+03   \n",
       "mean          8.476349e+06    5.182738e+05       5.850148e+06   \n",
       "std           3.023379e+07    5.490941e+06       2.071024e+07   \n",
       "min           0.000000e+00    0.000000e+00      -1.154170e+05   \n",
       "25%           1.219804e+06    0.000000e+00       7.199750e+05   \n",
       "50%           2.551022e+06    0.000000e+00       1.611215e+06   \n",
       "75%           6.867819e+06    0.000000e+00       4.821154e+06   \n",
       "max           8.739237e+08    1.349435e+08       6.570744e+08   \n",
       "\n",
       "       NaturalGas(kBtu)  OtherFuelUse(kBtu)  GHGEmissions  \n",
       "count      1.695000e+03              1697.0   1695.000000  \n",
       "mean       1.998808e+06                 0.0    186.944873  \n",
       "std        9.488313e+06                 0.0    755.340584  \n",
       "min        0.000000e+00                 0.0     -0.800000  \n",
       "25%        0.000000e+00                 0.0     19.870000  \n",
       "50%        4.965300e+05                 0.0     49.550000  \n",
       "75%        1.522622e+06                 0.0    142.155000  \n",
       "max        2.979090e+08                 0.0  16870.980000  "
      ]
     },
     "execution_count": 19,
     "metadata": {},
     "output_type": "execute_result"
    }
   ],
   "source": [
    "batiments_data.describe()"
   ]
  },
  {
   "cell_type": "markdown",
   "metadata": {},
   "source": [
    "Voici les valeurs extrêmes relevées dans le dataset :\n",
    "- consommation d'électricité négative\n",
    "- émissions de GES négatives\n",
    "- nombre maximum de bâtiments égal à 111\n",
    "- nombre maximum d'étages égal à 99, ce qui est plausible pour une tour\n",
    "\n",
    "Les propriétés concernées par ces valeurs feront l'objet d'une étude plus approfondie."
   ]
  },
  {
   "cell_type": "code",
   "execution_count": 31,
   "metadata": {},
   "outputs": [
    {
     "name": "stdout",
     "output_type": "stream",
     "text": [
      "<class 'pandas.core.frame.DataFrame'>\n",
      "Int64Index: 1698 entries, 2 to 3375\n",
      "Data columns (total 23 columns):\n",
      " #   Column                        Non-Null Count  Dtype  \n",
      "---  ------                        --------------  -----  \n",
      " 0   OSEBuildingID                 1698 non-null   int64  \n",
      " 1   DataYear                      1698 non-null   int64  \n",
      " 2   BuildingType                  1698 non-null   object \n",
      " 3   PrimaryPropertyType           1698 non-null   object \n",
      " 4   Neighborhood                  1698 non-null   object \n",
      " 5   YearBuilt                     1698 non-null   int64  \n",
      " 6   NumberofBuildings             1696 non-null   float64\n",
      " 7   NumberofFloors                1698 non-null   float64\n",
      " 8   PropertyGFABuilding(s)        1698 non-null   int64  \n",
      " 9   SecondLargestPropertyUseType  866 non-null    object \n",
      " 10  ENERGYSTARScore               1112 non-null   float64\n",
      " 11  SiteEnergyUse(kBtu)           1695 non-null   float64\n",
      " 12  SteamUse(kBtu)                1695 non-null   float64\n",
      " 13  Electricity(kBtu)             1695 non-null   float64\n",
      " 14  NaturalGas(kBtu)              1695 non-null   float64\n",
      " 15  ComplianceStatus              1698 non-null   object \n",
      " 16  Outlier                       19 non-null     object \n",
      " 17  OtherFuelUse(kBtu)            1697 non-null   float64\n",
      " 18  GHGEmissions                  1695 non-null   float64\n",
      " 19  Address                       1698 non-null   object \n",
      " 20  City                          1698 non-null   object \n",
      " 21  State                         1698 non-null   object \n",
      " 22  ZipCode                       1682 non-null   object \n",
      "dtypes: float64(9), int64(4), object(10)\n",
      "memory usage: 318.4+ KB\n"
     ]
    }
   ],
   "source": [
    "batiments_data.info()"
   ]
  },
  {
   "cell_type": "code",
   "execution_count": 3,
   "metadata": {},
   "outputs": [],
   "source": [
    "mapping_type_variables = {}\n",
    "mapping_type_variables[\"OSEBuildingID\"] = \"qualitative\"\n",
    "mapping_type_variables[\"DataYear\"] = \"qualitative\"\n",
    "mapping_type_variables[\"BuildingType\"] = \"qualitative\"\n",
    "mapping_type_variables[\"PrimaryPropertyType\"] = \"qualitative\"\n",
    "mapping_type_variables[\"Neighborhood\"] = \"qualitative\" \n",
    "mapping_type_variables[\"YearBuilt\"] = \"quantitative\"\n",
    "mapping_type_variables[\"NumberofBuildings\"] = \"quantitative\"\n",
    "mapping_type_variables[\"NumberofFloors\"] = \"quantitative\"\n",
    "mapping_type_variables[\"PropertyGFABuilding(s)\"] = \"quantitative\"\n",
    "mapping_type_variables[\"SecondLargestPropertyUseType\"] = \"qualitative\"\n",
    "mapping_type_variables[\"ENERGYSTARScore\"] = \"quantitative\"\n",
    "mapping_type_variables[\"SiteEnergyUse(kBtu)\"] = \"quantitative\"\n",
    "mapping_type_variables[\"SteamUse(kBtu)\"] = \"quantitative\"\n",
    "mapping_type_variables[\"Electricity(kBtu)\"] = \"quantitative\"\n",
    "mapping_type_variables[\"NaturalGas(kBtu)\"] = \"quantitative\"\n",
    "mapping_type_variables[\"ComplianceStatus\"] = \"qualitative\"\n",
    "mapping_type_variables[\"Outlier\"] = \"qualitative\"\n",
    "mapping_type_variables[\"OtherFuelUse(kBtu)\"] = \"quantitative\"\n",
    "mapping_type_variables[\"GHGEmissions\"] = \"quantitative\"\n",
    "mapping_type_variables[\"Address\"] = \"qualitative\"\n",
    "mapping_type_variables[\"City\"] = \"qualitative\"\n",
    "mapping_type_variables[\"State\"] = \"qualitative\"\n",
    "mapping_type_variables[\"ZipCode\"] = \"qualitative\""
   ]
  },
  {
   "cell_type": "code",
   "execution_count": 46,
   "metadata": {},
   "outputs": [],
   "source": [
    "mapping_visualisation_variable = {}\n",
    "mapping_visualisation_variable[\"OSEBuildingID\"] = False\n",
    "mapping_visualisation_variable[\"DataYear\"] = True\n",
    "mapping_visualisation_variable[\"BuildingType\"] = True\n",
    "mapping_visualisation_variable[\"PrimaryPropertyType\"] = True\n",
    "mapping_visualisation_variable[\"Neighborhood\"] = True\n",
    "mapping_visualisation_variable[\"YearBuilt\"] = True\n",
    "mapping_visualisation_variable[\"NumberofBuildings\"] = True\n",
    "mapping_visualisation_variable[\"NumberofFloors\"] = True\n",
    "mapping_visualisation_variable[\"PropertyGFABuilding(s)\"] = True\n",
    "mapping_visualisation_variable[\"SecondLargestPropertyUseType\"] = True\n",
    "mapping_visualisation_variable[\"ENERGYSTARScore\"] = True\n",
    "mapping_visualisation_variable[\"SiteEnergyUse(kBtu)\"] = True\n",
    "mapping_visualisation_variable[\"SteamUse(kBtu)\"] = True\n",
    "mapping_visualisation_variable[\"Electricity(kBtu)\"] = True\n",
    "mapping_visualisation_variable[\"NaturalGas(kBtu)\"] = True\n",
    "mapping_visualisation_variable[\"ComplianceStatus\"] = True\n",
    "mapping_visualisation_variable[\"Outlier\"] = True\n",
    "mapping_visualisation_variable[\"OtherFuelUse(kBtu)\"] = True\n",
    "mapping_visualisation_variable[\"GHGEmissions\"] = True\n",
    "mapping_visualisation_variable[\"Address\"] = False # pas d'intérêt de visualiser cette variable\n",
    "mapping_visualisation_variable[\"City\"] = False\n",
    "mapping_visualisation_variable[\"State\"] = False\n",
    "mapping_visualisation_variable[\"ZipCode\"] = False"
   ]
  },
  {
   "cell_type": "code",
   "execution_count": 57,
   "metadata": {},
   "outputs": [],
   "source": [
    "# Séparation du dataset selon les types de variables pour faciliter la visualisation\n",
    "variables_quantitatives = [nom_colonne for nom_colonne in mapping_type_variables \n",
    "                                           if mapping_type_variables[nom_colonne] == \"quantitative\"]\n",
    "variables_qualitatives = [nom_colonne for nom_colonne in batiments_data.columns if nom_colonne not in variables_quantitatives]\n",
    "batiments_data_quanti = batiments_data[variables_quantitatives]\n",
    "batiments_data_quali = batiments_data[variables_qualitatives]"
   ]
  },
  {
   "cell_type": "code",
   "execution_count": 61,
   "metadata": {},
   "outputs": [
    {
     "data": {
      "image/png": "[encoded data removed]",
      "text/plain": [
       "<Figure size 1152x1440 with 11 Axes>"
      ]
     },
     "metadata": {
      "needs_background": "light"
     },
     "output_type": "display_data"
    }
   ],
   "source": [
    "# Visualisation des variables quantitatives\n",
    "fig = plt.figure(figsize=(16, 20))\n",
    "for indice_colonne in range(batiments_data_quanti.shape[1]):\n",
    "    ax = fig.add_subplot(3, 4, (indice_colonne+1))\n",
    "    nom_colonne = batiments_data_quanti.iloc[:, indice_colonne].name\n",
    "    if mapping_visualisation_variable[nom_colonne]:\n",
    "        h = ax.hist(batiments_data_quanti.iloc[:, indice_colonne], bins=50, color='steelblue', density=True, edgecolor='none')\n",
    "        ax.set_title(nom_colonne, fontsize=12)"
   ]
  },
  {
   "cell_type": "markdown",
   "metadata": {},
   "source": [
    "Notes : \n",
    "- le dataset contient des propriétés vieilles comme récentes.\n",
    "- toutes les variables numériques sont asymétriques hormis la consommation d'autres combustibles.\n",
    "- l'ordre de grandeur des variables numériques est différent selon la variable. Exemple : la consommation d'électricité varie entre 0 et 100 millions de kBtu alors que les émissions de GES varient de 0 à 15 000 $t$ $CO_{2}$ $eq$"
   ]
  },
  {
   "cell_type": "code",
   "execution_count": 36,
   "metadata": {},
   "outputs": [
    {
     "data": {
      "image/png": "[encoded data removed]",
      "text/plain": [
       "<Figure size 1152x1440 with 23 Axes>"
      ]
     },
     "metadata": {
      "needs_background": "light"
     },
     "output_type": "display_data"
    }
   ],
   "source": [
    "fig = plt.figure(figsize=(16, 20))\n",
    "for indice_colonne in range(batiments_data.shape[1]):\n",
    "    ax = fig.add_subplot(6, 4, (indice_colonne+1))\n",
    "    if is_numeric_dtype(batiments_data.iloc[:, indice_colonne]):\n",
    "        h = ax.hist(batiments_data.iloc[:, indice_colonne], bins=50, color='steelblue', density=True, edgecolor='none')\n",
    "    elif is_string_dtype(batiments_data.iloc[:, indice_colonne]):\n",
    "        # show only the TOP 10 value count in each categorical data\n",
    "        batiments_data.iloc[:, indice_colonne].value_counts()[:10].plot(kind = 'bar')"
   ]
  },
  {
   "cell_type": "code",
   "execution_count": null,
   "metadata": {},
   "outputs": [],
   "source": [
    "fig = plt.figure(figsize=(16, 12))\n",
    "for indice_colonne in range(X.shape[1]):\n",
    "    ax = fig.add_subplot(3,4, (indice_colonne+1))\n",
    "    h = ax.hist(X[:, indice_colonne], bins=50, color='steelblue', density=True, edgecolor='none')\n",
    "    ax.set_title(data.columns[indice_colonne], fontsize=14)\n"
   ]
  },
  {
   "cell_type": "code",
   "execution_count": 32,
   "metadata": {},
   "outputs": [
    {
     "data": {
      "text/plain": [
       "2         325\n",
       "3         400\n",
       "4         442\n",
       "5         499\n",
       "6         559\n",
       "        ...  \n",
       "3371    50222\n",
       "3372    50223\n",
       "3373    50224\n",
       "3374    50225\n",
       "3375    50226\n",
       "Name: OSEBuildingID, Length: 1698, dtype: int64"
      ]
     },
     "execution_count": 32,
     "metadata": {},
     "output_type": "execute_result"
    }
   ],
   "source": [
    "batiments_data.iloc[:, 0]"
   ]
  },
  {
   "cell_type": "code",
   "execution_count": 22,
   "metadata": {},
   "outputs": [
    {
     "data": {
      "image/png": "[encoded data removed]",
      "text/plain": [
       "<Figure size 352.8x352.8 with 1 Axes>"
      ]
     },
     "metadata": {
      "needs_background": "light"
     },
     "output_type": "display_data"
    },
    {
     "data": {
      "image/png": "[encoded data removed]",
      "text/plain": [
       "<Figure size 352.8x352.8 with 1 Axes>"
      ]
     },
     "metadata": {
      "needs_background": "light"
     },
     "output_type": "display_data"
    },
    {
     "data": {
      "image/png": "[encoded data removed]",
      "text/plain": [
       "<Figure size 352.8x352.8 with 1 Axes>"
      ]
     },
     "metadata": {
      "needs_background": "light"
     },
     "output_type": "display_data"
    },
    {
     "data": {
      "image/png": "[encoded data removed]",
      "text/plain": [
       "<Figure size 352.8x352.8 with 1 Axes>"
      ]
     },
     "metadata": {
      "needs_background": "light"
     },
     "output_type": "display_data"
    },
    {
     "data": {
      "image/png": "[encoded data removed]",
      "text/plain": [
       "<Figure size 352.8x352.8 with 1 Axes>"
      ]
     },
     "metadata": {
      "needs_background": "light"
     },
     "output_type": "display_data"
    },
    {
     "data": {
      "image/png": "[encoded data removed]",
      "text/plain": [
       "<Figure size 352.8x352.8 with 1 Axes>"
      ]
     },
     "metadata": {
      "needs_background": "light"
     },
     "output_type": "display_data"
    },
    {
     "data": {
      "image/png": "[encoded data removed]",
      "text/plain": [
       "<Figure size 352.8x352.8 with 1 Axes>"
      ]
     },
     "metadata": {
      "needs_background": "light"
     },
     "output_type": "display_data"
    },
    {
     "data": {
      "image/png": "[encoded data removed]",
      "text/plain": [
       "<Figure size 352.8x352.8 with 1 Axes>"
      ]
     },
     "metadata": {
      "needs_background": "light"
     },
     "output_type": "display_data"
    },
    {
     "data": {
      "image/png": "[encoded data removed]",
      "text/plain": [
       "<Figure size 352.8x352.8 with 1 Axes>"
      ]
     },
     "metadata": {
      "needs_background": "light"
     },
     "output_type": "display_data"
    },
    {
     "data": {
      "image/png": "[encoded data removed]",
      "text/plain": [
       "<Figure size 352.8x352.8 with 1 Axes>"
      ]
     },
     "metadata": {
      "needs_background": "light"
     },
     "output_type": "display_data"
    },
    {
     "data": {
      "image/png": "[encoded data removed]",
      "text/plain": [
       "<Figure size 352.8x352.8 with 1 Axes>"
      ]
     },
     "metadata": {
      "needs_background": "light"
     },
     "output_type": "display_data"
    },
    {
     "data": {
      "image/png": "[encoded data removed]",
      "text/plain": [
       "<Figure size 352.8x352.8 with 1 Axes>"
      ]
     },
     "metadata": {
      "needs_background": "light"
     },
     "output_type": "display_data"
    },
    {
     "data": {
      "image/png": "[encoded data removed]",
      "text/plain": [
       "<Figure size 352.8x352.8 with 1 Axes>"
      ]
     },
     "metadata": {
      "needs_background": "light"
     },
     "output_type": "display_data"
    },
    {
     "data": {
      "image/png": "[encoded data removed]",
      "text/plain": [
       "<Figure size 352.8x352.8 with 1 Axes>"
      ]
     },
     "metadata": {
      "needs_background": "light"
     },
     "output_type": "display_data"
    },
    {
     "data": {
      "image/png": "[encoded data removed]",
      "text/plain": [
       "<Figure size 352.8x352.8 with 1 Axes>"
      ]
     },
     "metadata": {
      "needs_background": "light"
     },
     "output_type": "display_data"
    },
    {
     "data": {
      "image/png": "[encoded data removed]",
      "text/plain": [
       "<Figure size 352.8x352.8 with 1 Axes>"
      ]
     },
     "metadata": {
      "needs_background": "light"
     },
     "output_type": "display_data"
    },
    {
     "data": {
      "image/png": "[encoded data removed]",
      "text/plain": [
       "<Figure size 352.8x352.8 with 1 Axes>"
      ]
     },
     "metadata": {
      "needs_background": "light"
     },
     "output_type": "display_data"
    },
    {
     "data": {
      "image/png": "[encoded data removed]",
      "text/plain": [
       "<Figure size 352.8x352.8 with 1 Axes>"
      ]
     },
     "metadata": {
      "needs_background": "light"
     },
     "output_type": "display_data"
    },
    {
     "data": {
      "image/png": "[encoded data removed]",
      "text/plain": [
       "<Figure size 352.8x352.8 with 1 Axes>"
      ]
     },
     "metadata": {
      "needs_background": "light"
     },
     "output_type": "display_data"
    },
    {
     "data": {
      "image/png": "[encoded data removed]",
      "text/plain": [
       "<Figure size 352.8x352.8 with 1 Axes>"
      ]
     },
     "metadata": {
      "needs_background": "light"
     },
     "output_type": "display_data"
    },
    {
     "data": {
      "image/png": "[encoded data removed]",
      "text/plain": [
       "<Figure size 352.8x352.8 with 1 Axes>"
      ]
     },
     "metadata": {
      "needs_background": "light"
     },
     "output_type": "display_data"
    },
    {
     "data": {
      "image/png": "[encoded data removed]",
      "text/plain": [
       "<Figure size 352.8x352.8 with 1 Axes>"
      ]
     },
     "metadata": {
      "needs_background": "light"
     },
     "output_type": "display_data"
    },
    {
     "data": {
      "image/png": "[encoded data removed]",
      "text/plain": [
       "<Figure size 352.8x352.8 with 1 Axes>"
      ]
     },
     "metadata": {
      "needs_background": "light"
     },
     "output_type": "display_data"
    }
   ],
   "source": [
    "plt.rcParams[\"figure.max_open_warning\"] = 50\n",
    "\n",
    "# bar chart and histogram\n",
    "for colonne in batiments_data:\n",
    "    plt.figure(colonne, figsize = (4.9,4.9))\n",
    "    plt.title(colonne)\n",
    "    if is_numeric_dtype(batiments_data[colonne]):\n",
    "        batiments_data[colonne].plot(kind = 'hist')\n",
    "    elif is_string_dtype(batiments_data[colonne]):\n",
    "        # show only the TOP 10 value count in each categorical data\n",
    "        batiments_data[colonne].value_counts()[:10].plot(kind = 'bar')"
   ]
  }
 ],
 "metadata": {
  "kernelspec": {
   "display_name": "Python 3",
   "language": "python",
   "name": "python3"
  },
  "language_info": {
   "codemirror_mode": {
    "name": "ipython",
    "version": 3
   },
   "file_extension": ".py",
   "mimetype": "text/x-python",
   "name": "python",
   "nbconvert_exporter": "python",
   "pygments_lexer": "ipython3",
   "version": "3.8.5"
  }
 },
 "nbformat": 4,
 "nbformat_minor": 4
}
