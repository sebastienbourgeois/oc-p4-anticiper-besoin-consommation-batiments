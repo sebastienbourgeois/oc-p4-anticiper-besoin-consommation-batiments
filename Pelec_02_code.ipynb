{
 "cells": [
  {
   "cell_type": "markdown",
   "metadata": {},
   "source": [
    "# Import des librairies et chargement des données"
   ]
  },
  {
   "cell_type": "code",
   "execution_count": 1,
   "metadata": {},
   "outputs": [],
   "source": [
    "import os\n",
    "\n",
    "# grammaire abstraite de l'arbre syntaxique de Python\n",
    "import ast\n",
    "\n",
    "import numpy as np\n",
    "import pandas as pd\n",
    "\n",
    "%matplotlib inline\n",
    "import matplotlib.pyplot as plt\n",
    "import seaborn as sns\n",
    "\n",
    "from pandas.api.types import is_string_dtype, is_numeric_dtype\n",
    "\n",
    "pd.options.mode.chained_assignment = None  # default='warn'"
   ]
  },
  {
   "cell_type": "code",
   "execution_count": 2,
   "metadata": {},
   "outputs": [],
   "source": [
    "dossier_data = \"data/\"\n",
    "nom_fichier = \"batiments_data.csv\"\n",
    "batiments_data = pd.read_csv(dossier_data+nom_fichier)"
   ]
  },
  {
   "cell_type": "code",
   "execution_count": 3,
   "metadata": {},
   "outputs": [
    {
     "data": {
      "text/html": [
       "<div>\n",
       "<style scoped>\n",
       "    .dataframe tbody tr th:only-of-type {\n",
       "        vertical-align: middle;\n",
       "    }\n",
       "\n",
       "    .dataframe tbody tr th {\n",
       "        vertical-align: top;\n",
       "    }\n",
       "\n",
       "    .dataframe thead th {\n",
       "        text-align: right;\n",
       "    }\n",
       "</style>\n",
       "<table border=\"1\" class=\"dataframe\">\n",
       "  <thead>\n",
       "    <tr style=\"text-align: right;\">\n",
       "      <th></th>\n",
       "      <th>OSEBuildingID</th>\n",
       "      <th>BuildingType</th>\n",
       "      <th>PrimaryPropertyType</th>\n",
       "      <th>Neighborhood</th>\n",
       "      <th>YearBuilt</th>\n",
       "      <th>NumberofBuildings</th>\n",
       "      <th>NumberofFloors</th>\n",
       "      <th>PropertyGFABuilding</th>\n",
       "      <th>ENERGYSTARScore</th>\n",
       "      <th>SiteEnergyUse</th>\n",
       "      <th>SteamUse</th>\n",
       "      <th>Electricity</th>\n",
       "      <th>NaturalGas</th>\n",
       "      <th>OtherFuelUse</th>\n",
       "      <th>GHGEmissions</th>\n",
       "      <th>BuildingAge</th>\n",
       "      <th>IsSteamUser</th>\n",
       "      <th>IsElectricityUser</th>\n",
       "      <th>IsNaturalGasUser</th>\n",
       "      <th>IsOtherFuelUser</th>\n",
       "      <th>NumberOfUsedEnergies</th>\n",
       "      <th>MostUsedEnergy</th>\n",
       "      <th>GatheredPrimaryPropertyType</th>\n",
       "      <th>LogSiteEnergyUse</th>\n",
       "      <th>LogGHGEmissions</th>\n",
       "    </tr>\n",
       "  </thead>\n",
       "  <tbody>\n",
       "    <tr>\n",
       "      <th>0</th>\n",
       "      <td>3</td>\n",
       "      <td>NonResidential</td>\n",
       "      <td>Hotel</td>\n",
       "      <td>DOWNTOWN</td>\n",
       "      <td>1969</td>\n",
       "      <td>1.0</td>\n",
       "      <td>41.0</td>\n",
       "      <td>961990.0</td>\n",
       "      <td>18.0</td>\n",
       "      <td>73130656.0</td>\n",
       "      <td>19660404.0</td>\n",
       "      <td>49762435.0</td>\n",
       "      <td>3709900.0</td>\n",
       "      <td>0.0</td>\n",
       "      <td>2061.48</td>\n",
       "      <td>46</td>\n",
       "      <td>1.0</td>\n",
       "      <td>1.0</td>\n",
       "      <td>1.0</td>\n",
       "      <td>0.0</td>\n",
       "      <td>3.0</td>\n",
       "      <td>Electricity</td>\n",
       "      <td>Hotel</td>\n",
       "      <td>18.107758</td>\n",
       "      <td>7.631664</td>\n",
       "    </tr>\n",
       "    <tr>\n",
       "      <th>1</th>\n",
       "      <td>5</td>\n",
       "      <td>NonResidential</td>\n",
       "      <td>Hotel</td>\n",
       "      <td>DOWNTOWN</td>\n",
       "      <td>1926</td>\n",
       "      <td>1.0</td>\n",
       "      <td>10.0</td>\n",
       "      <td>61320.0</td>\n",
       "      <td>1.0</td>\n",
       "      <td>28229320.0</td>\n",
       "      <td>23458518.0</td>\n",
       "      <td>2769023.0</td>\n",
       "      <td>2001894.0</td>\n",
       "      <td>0.0</td>\n",
       "      <td>1936.34</td>\n",
       "      <td>89</td>\n",
       "      <td>1.0</td>\n",
       "      <td>1.0</td>\n",
       "      <td>1.0</td>\n",
       "      <td>0.0</td>\n",
       "      <td>3.0</td>\n",
       "      <td>Steam</td>\n",
       "      <td>Hotel</td>\n",
       "      <td>17.155872</td>\n",
       "      <td>7.569071</td>\n",
       "    </tr>\n",
       "    <tr>\n",
       "      <th>2</th>\n",
       "      <td>8</td>\n",
       "      <td>NonResidential</td>\n",
       "      <td>Hotel</td>\n",
       "      <td>DOWNTOWN</td>\n",
       "      <td>1980</td>\n",
       "      <td>1.0</td>\n",
       "      <td>18.0</td>\n",
       "      <td>107430.0</td>\n",
       "      <td>67.0</td>\n",
       "      <td>14829099.0</td>\n",
       "      <td>0.0</td>\n",
       "      <td>6066245.0</td>\n",
       "      <td>8763105.0</td>\n",
       "      <td>0.0</td>\n",
       "      <td>507.70</td>\n",
       "      <td>35</td>\n",
       "      <td>0.0</td>\n",
       "      <td>1.0</td>\n",
       "      <td>1.0</td>\n",
       "      <td>0.0</td>\n",
       "      <td>2.0</td>\n",
       "      <td>NaturalGas</td>\n",
       "      <td>Hotel</td>\n",
       "      <td>16.512102</td>\n",
       "      <td>6.231858</td>\n",
       "    </tr>\n",
       "    <tr>\n",
       "      <th>3</th>\n",
       "      <td>19</td>\n",
       "      <td>NonResidential</td>\n",
       "      <td>Hotel</td>\n",
       "      <td>DOWNTOWN</td>\n",
       "      <td>1922</td>\n",
       "      <td>1.0</td>\n",
       "      <td>11.0</td>\n",
       "      <td>67390.0</td>\n",
       "      <td>14.0</td>\n",
       "      <td>10711451.0</td>\n",
       "      <td>4403788.0</td>\n",
       "      <td>4089407.0</td>\n",
       "      <td>2218425.0</td>\n",
       "      <td>0.0</td>\n",
       "      <td>486.25</td>\n",
       "      <td>93</td>\n",
       "      <td>1.0</td>\n",
       "      <td>1.0</td>\n",
       "      <td>1.0</td>\n",
       "      <td>0.0</td>\n",
       "      <td>3.0</td>\n",
       "      <td>Steam</td>\n",
       "      <td>Hotel</td>\n",
       "      <td>16.186824</td>\n",
       "      <td>6.188777</td>\n",
       "    </tr>\n",
       "    <tr>\n",
       "      <th>4</th>\n",
       "      <td>25</td>\n",
       "      <td>NonResidential</td>\n",
       "      <td>Hotel</td>\n",
       "      <td>DOWNTOWN</td>\n",
       "      <td>1916</td>\n",
       "      <td>1.0</td>\n",
       "      <td>10.0</td>\n",
       "      <td>104352.0</td>\n",
       "      <td>83.0</td>\n",
       "      <td>7845112.0</td>\n",
       "      <td>3205497.0</td>\n",
       "      <td>1790665.0</td>\n",
       "      <td>2849024.0</td>\n",
       "      <td>0.0</td>\n",
       "      <td>411.22</td>\n",
       "      <td>99</td>\n",
       "      <td>1.0</td>\n",
       "      <td>1.0</td>\n",
       "      <td>1.0</td>\n",
       "      <td>0.0</td>\n",
       "      <td>3.0</td>\n",
       "      <td>Steam</td>\n",
       "      <td>Hotel</td>\n",
       "      <td>15.875401</td>\n",
       "      <td>6.021557</td>\n",
       "    </tr>\n",
       "  </tbody>\n",
       "</table>\n",
       "</div>"
      ],
      "text/plain": [
       "   OSEBuildingID    BuildingType PrimaryPropertyType Neighborhood  YearBuilt  \\\n",
       "0              3  NonResidential               Hotel     DOWNTOWN       1969   \n",
       "1              5  NonResidential               Hotel     DOWNTOWN       1926   \n",
       "2              8  NonResidential               Hotel     DOWNTOWN       1980   \n",
       "3             19  NonResidential               Hotel     DOWNTOWN       1922   \n",
       "4             25  NonResidential               Hotel     DOWNTOWN       1916   \n",
       "\n",
       "   NumberofBuildings  NumberofFloors  PropertyGFABuilding  ENERGYSTARScore  \\\n",
       "0                1.0            41.0             961990.0             18.0   \n",
       "1                1.0            10.0              61320.0              1.0   \n",
       "2                1.0            18.0             107430.0             67.0   \n",
       "3                1.0            11.0              67390.0             14.0   \n",
       "4                1.0            10.0             104352.0             83.0   \n",
       "\n",
       "   SiteEnergyUse    SteamUse  Electricity  NaturalGas  OtherFuelUse  \\\n",
       "0     73130656.0  19660404.0   49762435.0   3709900.0           0.0   \n",
       "1     28229320.0  23458518.0    2769023.0   2001894.0           0.0   \n",
       "2     14829099.0         0.0    6066245.0   8763105.0           0.0   \n",
       "3     10711451.0   4403788.0    4089407.0   2218425.0           0.0   \n",
       "4      7845112.0   3205497.0    1790665.0   2849024.0           0.0   \n",
       "\n",
       "   GHGEmissions  BuildingAge  IsSteamUser  IsElectricityUser  \\\n",
       "0       2061.48           46          1.0                1.0   \n",
       "1       1936.34           89          1.0                1.0   \n",
       "2        507.70           35          0.0                1.0   \n",
       "3        486.25           93          1.0                1.0   \n",
       "4        411.22           99          1.0                1.0   \n",
       "\n",
       "   IsNaturalGasUser  IsOtherFuelUser  NumberOfUsedEnergies MostUsedEnergy  \\\n",
       "0               1.0              0.0                   3.0    Electricity   \n",
       "1               1.0              0.0                   3.0          Steam   \n",
       "2               1.0              0.0                   2.0     NaturalGas   \n",
       "3               1.0              0.0                   3.0          Steam   \n",
       "4               1.0              0.0                   3.0          Steam   \n",
       "\n",
       "  GatheredPrimaryPropertyType  LogSiteEnergyUse  LogGHGEmissions  \n",
       "0                       Hotel         18.107758         7.631664  \n",
       "1                       Hotel         17.155872         7.569071  \n",
       "2                       Hotel         16.512102         6.231858  \n",
       "3                       Hotel         16.186824         6.188777  \n",
       "4                       Hotel         15.875401         6.021557  "
      ]
     },
     "execution_count": 3,
     "metadata": {},
     "output_type": "execute_result"
    }
   ],
   "source": [
    "pd.set_option(\"display.max_columns\", None)\n",
    "batiments_data.head()"
   ]
  },
  {
   "cell_type": "markdown",
   "metadata": {},
   "source": [
    "# Sélection des variables finales"
   ]
  },
  {
   "cell_type": "code",
   "execution_count": 4,
   "metadata": {},
   "outputs": [
    {
     "name": "stdout",
     "output_type": "stream",
     "text": [
      "<class 'pandas.core.frame.DataFrame'>\n",
      "RangeIndex: 2320 entries, 0 to 2319\n",
      "Data columns (total 25 columns):\n",
      " #   Column                       Non-Null Count  Dtype  \n",
      "---  ------                       --------------  -----  \n",
      " 0   OSEBuildingID                2320 non-null   int64  \n",
      " 1   BuildingType                 2320 non-null   object \n",
      " 2   PrimaryPropertyType          2320 non-null   object \n",
      " 3   Neighborhood                 2320 non-null   object \n",
      " 4   YearBuilt                    2320 non-null   int64  \n",
      " 5   NumberofBuildings            2320 non-null   float64\n",
      " 6   NumberofFloors               2311 non-null   float64\n",
      " 7   PropertyGFABuilding          2318 non-null   float64\n",
      " 8   ENERGYSTARScore              1532 non-null   float64\n",
      " 9   SiteEnergyUse                2320 non-null   float64\n",
      " 10  SteamUse                     2320 non-null   float64\n",
      " 11  Electricity                  2320 non-null   float64\n",
      " 12  NaturalGas                   2320 non-null   float64\n",
      " 13  OtherFuelUse                 2320 non-null   float64\n",
      " 14  GHGEmissions                 2320 non-null   float64\n",
      " 15  BuildingAge                  2320 non-null   int64  \n",
      " 16  IsSteamUser                  2320 non-null   float64\n",
      " 17  IsElectricityUser            2320 non-null   float64\n",
      " 18  IsNaturalGasUser             2320 non-null   float64\n",
      " 19  IsOtherFuelUser              2320 non-null   float64\n",
      " 20  NumberOfUsedEnergies         2320 non-null   float64\n",
      " 21  MostUsedEnergy               2320 non-null   object \n",
      " 22  GatheredPrimaryPropertyType  2320 non-null   object \n",
      " 23  LogSiteEnergyUse             2320 non-null   float64\n",
      " 24  LogGHGEmissions              2320 non-null   float64\n",
      "dtypes: float64(17), int64(3), object(5)\n",
      "memory usage: 453.2+ KB\n"
     ]
    }
   ],
   "source": [
    "batiments_data.info()"
   ]
  },
  {
   "cell_type": "code",
   "execution_count": 5,
   "metadata": {},
   "outputs": [],
   "source": [
    "variables_ecartees = [\"OSEBuildingID\", \"PrimaryPropertyType\", \"ENERGYSTARScore\", \"YearBuilt\", \"SteamUse\", \"Electricity\",\n",
    "                      \"NaturalGas\", \"OtherFuelUse\", \"SiteEnergyUse\", \"GHGEmissions\"]\n",
    "batiments_data_modeles = batiments_data.drop(columns=variables_ecartees)"
   ]
  },
  {
   "cell_type": "markdown",
   "metadata": {},
   "source": [
    "# Préparation des données"
   ]
  },
  {
   "cell_type": "code",
   "execution_count": 6,
   "metadata": {},
   "outputs": [
    {
     "name": "stdout",
     "output_type": "stream",
     "text": [
      "<class 'pandas.core.frame.DataFrame'>\n",
      "RangeIndex: 2320 entries, 0 to 2319\n",
      "Data columns (total 15 columns):\n",
      " #   Column                       Non-Null Count  Dtype  \n",
      "---  ------                       --------------  -----  \n",
      " 0   BuildingType                 2320 non-null   object \n",
      " 1   Neighborhood                 2320 non-null   object \n",
      " 2   NumberofBuildings            2320 non-null   float64\n",
      " 3   NumberofFloors               2311 non-null   float64\n",
      " 4   PropertyGFABuilding          2318 non-null   float64\n",
      " 5   BuildingAge                  2320 non-null   int64  \n",
      " 6   IsSteamUser                  2320 non-null   float64\n",
      " 7   IsElectricityUser            2320 non-null   float64\n",
      " 8   IsNaturalGasUser             2320 non-null   float64\n",
      " 9   IsOtherFuelUser              2320 non-null   float64\n",
      " 10  NumberOfUsedEnergies         2320 non-null   float64\n",
      " 11  MostUsedEnergy               2320 non-null   object \n",
      " 12  GatheredPrimaryPropertyType  2320 non-null   object \n",
      " 13  LogSiteEnergyUse             2320 non-null   float64\n",
      " 14  LogGHGEmissions              2320 non-null   float64\n",
      "dtypes: float64(10), int64(1), object(4)\n",
      "memory usage: 272.0+ KB\n"
     ]
    }
   ],
   "source": [
    "batiments_data_modeles.info()"
   ]
  },
  {
   "cell_type": "markdown",
   "metadata": {},
   "source": [
    "## Séparation du dataset en training et test sets"
   ]
  },
  {
   "cell_type": "markdown",
   "metadata": {},
   "source": [
    "Cette séparation sera faite deux fois : \n",
    "- la première pour la consommation d'énergie totale\n",
    "- la seconde pour les émissions de GES"
   ]
  },
  {
   "cell_type": "code",
   "execution_count": 7,
   "metadata": {},
   "outputs": [],
   "source": [
    "X = batiments_data_modeles.drop(columns=[\"LogSiteEnergyUse\", \"LogGHGEmissions\"])\n",
    "y_conso_energie = batiments_data_modeles[\"LogSiteEnergyUse\"]\n",
    "y_emissions = batiments_data_modeles[\"LogGHGEmissions\"]"
   ]
  },
  {
   "cell_type": "code",
   "execution_count": 8,
   "metadata": {},
   "outputs": [],
   "source": [
    "from sklearn.model_selection import train_test_split\n",
    "\n",
    "# Séparation pour la consommation d'énergie\n",
    "X_conso_train, X_conso_test, y_conso_train, y_conso_test = train_test_split(X, y_conso_energie)\n",
    "\n",
    "# Séparation pour les émissions de GES\n",
    "X_emissions_train, X_emissions_test, y_emissions_train, y_emissions_test = train_test_split(X, y_emissions)"
   ]
  },
  {
   "cell_type": "markdown",
   "metadata": {},
   "source": [
    "## Encodage des variables catégorielles"
   ]
  },
  {
   "cell_type": "code",
   "execution_count": 9,
   "metadata": {},
   "outputs": [],
   "source": [
    "# Identification des variables catégorielles (celles dont le type est object)\n",
    "s = (X.dtypes == 'object')\n",
    "variables_categorielles = list(s[s].index)"
   ]
  },
  {
   "cell_type": "code",
   "execution_count": 10,
   "metadata": {},
   "outputs": [],
   "source": [
    "from sklearn.preprocessing import OneHotEncoder\n",
    "\n",
    "OH_encoder = OneHotEncoder(handle_unknown='ignore', sparse=False)\n",
    "\n",
    "############################################################################################\n",
    "#                                   Consommation d'énergie\n",
    "############################################################################################\n",
    "\n",
    "# On encode chaque modalité des variables catégorielles par 1 ou 0 (présence ou absence de la modalité)\n",
    "OH_X_conso_train = pd.DataFrame(OH_encoder.fit_transform(X_conso_train[variables_categorielles]))\n",
    "OH_X_conso_test = pd.DataFrame(OH_encoder.transform(X_conso_test[variables_categorielles]))\n",
    "\n",
    "# Remise en forme des datasets encodés, remise des noms des colonnes et des index\n",
    "OH_X_conso_train.columns = OH_encoder.get_feature_names(variables_categorielles)\n",
    "OH_X_conso_test.columns = OH_encoder.get_feature_names(variables_categorielles)\n",
    "\n",
    "OH_X_conso_train.index = X_conso_train.index\n",
    "OH_X_conso_test.index = X_conso_test.index\n",
    "\n",
    "# Suppression des variables catégorielles et remplacement par les variables encodées\n",
    "num_X_conso_train = X_conso_train.drop(columns=variables_categorielles)\n",
    "num_X_conso_test = X_conso_test.drop(columns=variables_categorielles)\n",
    "\n",
    "OH_X_conso_train = pd.concat([num_X_conso_train, OH_X_conso_train], axis=1)\n",
    "OH_X_conso_test = pd.concat([num_X_conso_test, OH_X_conso_test], axis=1)\n",
    "\n",
    "############################################################################################\n",
    "#                                   Emissions de GES\n",
    "############################################################################################\n",
    "\n",
    "# On encode chaque modalité des variables catégorielles par 1 ou 0 (présence ou absence de la modalité)\n",
    "OH_X_emissions_train = pd.DataFrame(OH_encoder.fit_transform(X_emissions_train[variables_categorielles]))\n",
    "OH_X_emissions_test = pd.DataFrame(OH_encoder.transform(X_emissions_test[variables_categorielles]))\n",
    "\n",
    "# Remise en forme des datasets encodés, remise des noms des colonnes et des index\n",
    "OH_X_emissions_train.columns = OH_encoder.get_feature_names(variables_categorielles)\n",
    "OH_X_emissions_test.columns = OH_encoder.get_feature_names(variables_categorielles)\n",
    "\n",
    "OH_X_emissions_train.index = X_emissions_train.index\n",
    "OH_X_emissions_test.index = X_emissions_test.index\n",
    "\n",
    "# Suppression des variables catégorielles et remplacement par les variables encodées\n",
    "num_X_emissions_train = X_emissions_train.drop(columns=variables_categorielles)\n",
    "num_X_emissions_test = X_emissions_test.drop(columns=variables_categorielles)\n",
    "\n",
    "OH_X_emissions_train = pd.concat([num_X_emissions_train, OH_X_emissions_train], axis=1)\n",
    "OH_X_emissions_test = pd.concat([num_X_emissions_test, OH_X_emissions_test], axis=1)"
   ]
  },
  {
   "cell_type": "markdown",
   "metadata": {},
   "source": [
    "## Imputation des données manquantes"
   ]
  },
  {
   "cell_type": "code",
   "execution_count": 11,
   "metadata": {},
   "outputs": [
    {
     "name": "stdout",
     "output_type": "stream",
     "text": [
      "<class 'pandas.core.frame.DataFrame'>\n",
      "Int64Index: 1740 entries, 2058 to 1686\n",
      "Data columns (total 42 columns):\n",
      " #   Column                                             Non-Null Count  Dtype  \n",
      "---  ------                                             --------------  -----  \n",
      " 0   NumberofBuildings                                  1740 non-null   float64\n",
      " 1   NumberofFloors                                     1735 non-null   float64\n",
      " 2   PropertyGFABuilding                                1738 non-null   float64\n",
      " 3   BuildingAge                                        1740 non-null   int64  \n",
      " 4   IsSteamUser                                        1740 non-null   float64\n",
      " 5   IsElectricityUser                                  1740 non-null   float64\n",
      " 6   IsNaturalGasUser                                   1740 non-null   float64\n",
      " 7   IsOtherFuelUser                                    1740 non-null   float64\n",
      " 8   NumberOfUsedEnergies                               1740 non-null   float64\n",
      " 9   BuildingType_Campus                                1740 non-null   float64\n",
      " 10  BuildingType_NonResidential                        1740 non-null   float64\n",
      " 11  BuildingType_Nonresidential COS                    1740 non-null   float64\n",
      " 12  BuildingType_SPS-District K-12                     1740 non-null   float64\n",
      " 13  Neighborhood_BALLARD                               1740 non-null   float64\n",
      " 14  Neighborhood_CENTRAL                               1740 non-null   float64\n",
      " 15  Neighborhood_DELRIDGE                              1740 non-null   float64\n",
      " 16  Neighborhood_DOWNTOWN                              1740 non-null   float64\n",
      " 17  Neighborhood_EAST                                  1740 non-null   float64\n",
      " 18  Neighborhood_GREATER DUWAMISH                      1740 non-null   float64\n",
      " 19  Neighborhood_LAKE UNION                            1740 non-null   float64\n",
      " 20  Neighborhood_MAGNOLIA / QUEEN ANNE                 1740 non-null   float64\n",
      " 21  Neighborhood_NORTH                                 1740 non-null   float64\n",
      " 22  Neighborhood_NORTHEAST                             1740 non-null   float64\n",
      " 23  Neighborhood_NORTHWEST                             1740 non-null   float64\n",
      " 24  Neighborhood_SOUTHEAST                             1740 non-null   float64\n",
      " 25  Neighborhood_SOUTHWEST                             1740 non-null   float64\n",
      " 26  MostUsedEnergy_Electricity                         1740 non-null   float64\n",
      " 27  MostUsedEnergy_NaturalGas                          1740 non-null   float64\n",
      " 28  MostUsedEnergy_Steam                               1740 non-null   float64\n",
      " 29  GatheredPrimaryPropertyType_Distribution Center    1740 non-null   float64\n",
      " 30  GatheredPrimaryPropertyType_Education              1740 non-null   float64\n",
      " 31  GatheredPrimaryPropertyType_Hotel                  1740 non-null   float64\n",
      " 32  GatheredPrimaryPropertyType_Medical and Care       1740 non-null   float64\n",
      " 33  GatheredPrimaryPropertyType_Mixed Use Property     1740 non-null   float64\n",
      " 34  GatheredPrimaryPropertyType_Office                 1740 non-null   float64\n",
      " 35  GatheredPrimaryPropertyType_Other                  1740 non-null   float64\n",
      " 36  GatheredPrimaryPropertyType_Residence Hall         1740 non-null   float64\n",
      " 37  GatheredPrimaryPropertyType_Restaurant             1740 non-null   float64\n",
      " 38  GatheredPrimaryPropertyType_Self-Storage Facility  1740 non-null   float64\n",
      " 39  GatheredPrimaryPropertyType_Store                  1740 non-null   float64\n",
      " 40  GatheredPrimaryPropertyType_Warehouse              1740 non-null   float64\n",
      " 41  GatheredPrimaryPropertyType_Worship Facility       1740 non-null   float64\n",
      "dtypes: float64(41), int64(1)\n",
      "memory usage: 584.5 KB\n"
     ]
    }
   ],
   "source": [
    "OH_X_conso_train.info()"
   ]
  },
  {
   "cell_type": "code",
   "execution_count": 12,
   "metadata": {},
   "outputs": [
    {
     "name": "stdout",
     "output_type": "stream",
     "text": [
      "<class 'pandas.core.frame.DataFrame'>\n",
      "Int64Index: 580 entries, 275 to 152\n",
      "Data columns (total 42 columns):\n",
      " #   Column                                             Non-Null Count  Dtype  \n",
      "---  ------                                             --------------  -----  \n",
      " 0   NumberofBuildings                                  580 non-null    float64\n",
      " 1   NumberofFloors                                     576 non-null    float64\n",
      " 2   PropertyGFABuilding                                580 non-null    float64\n",
      " 3   BuildingAge                                        580 non-null    int64  \n",
      " 4   IsSteamUser                                        580 non-null    float64\n",
      " 5   IsElectricityUser                                  580 non-null    float64\n",
      " 6   IsNaturalGasUser                                   580 non-null    float64\n",
      " 7   IsOtherFuelUser                                    580 non-null    float64\n",
      " 8   NumberOfUsedEnergies                               580 non-null    float64\n",
      " 9   BuildingType_Campus                                580 non-null    float64\n",
      " 10  BuildingType_NonResidential                        580 non-null    float64\n",
      " 11  BuildingType_Nonresidential COS                    580 non-null    float64\n",
      " 12  BuildingType_SPS-District K-12                     580 non-null    float64\n",
      " 13  Neighborhood_BALLARD                               580 non-null    float64\n",
      " 14  Neighborhood_CENTRAL                               580 non-null    float64\n",
      " 15  Neighborhood_DELRIDGE                              580 non-null    float64\n",
      " 16  Neighborhood_DOWNTOWN                              580 non-null    float64\n",
      " 17  Neighborhood_EAST                                  580 non-null    float64\n",
      " 18  Neighborhood_GREATER DUWAMISH                      580 non-null    float64\n",
      " 19  Neighborhood_LAKE UNION                            580 non-null    float64\n",
      " 20  Neighborhood_MAGNOLIA / QUEEN ANNE                 580 non-null    float64\n",
      " 21  Neighborhood_NORTH                                 580 non-null    float64\n",
      " 22  Neighborhood_NORTHEAST                             580 non-null    float64\n",
      " 23  Neighborhood_NORTHWEST                             580 non-null    float64\n",
      " 24  Neighborhood_SOUTHEAST                             580 non-null    float64\n",
      " 25  Neighborhood_SOUTHWEST                             580 non-null    float64\n",
      " 26  MostUsedEnergy_Electricity                         580 non-null    float64\n",
      " 27  MostUsedEnergy_NaturalGas                          580 non-null    float64\n",
      " 28  MostUsedEnergy_Steam                               580 non-null    float64\n",
      " 29  GatheredPrimaryPropertyType_Distribution Center    580 non-null    float64\n",
      " 30  GatheredPrimaryPropertyType_Education              580 non-null    float64\n",
      " 31  GatheredPrimaryPropertyType_Hotel                  580 non-null    float64\n",
      " 32  GatheredPrimaryPropertyType_Medical and Care       580 non-null    float64\n",
      " 33  GatheredPrimaryPropertyType_Mixed Use Property     580 non-null    float64\n",
      " 34  GatheredPrimaryPropertyType_Office                 580 non-null    float64\n",
      " 35  GatheredPrimaryPropertyType_Other                  580 non-null    float64\n",
      " 36  GatheredPrimaryPropertyType_Residence Hall         580 non-null    float64\n",
      " 37  GatheredPrimaryPropertyType_Restaurant             580 non-null    float64\n",
      " 38  GatheredPrimaryPropertyType_Self-Storage Facility  580 non-null    float64\n",
      " 39  GatheredPrimaryPropertyType_Store                  580 non-null    float64\n",
      " 40  GatheredPrimaryPropertyType_Warehouse              580 non-null    float64\n",
      " 41  GatheredPrimaryPropertyType_Worship Facility       580 non-null    float64\n",
      "dtypes: float64(41), int64(1)\n",
      "memory usage: 194.8 KB\n"
     ]
    }
   ],
   "source": [
    "OH_X_conso_test.info()"
   ]
  },
  {
   "cell_type": "markdown",
   "metadata": {},
   "source": [
    "Pour rappel, il reste des données manquantes sur le nombre d'étages et la surface des bâtiments. La première sera imputée par son mode et la seconde par la médiane."
   ]
  },
  {
   "cell_type": "code",
   "execution_count": 13,
   "metadata": {},
   "outputs": [],
   "source": [
    "from sklearn.impute import SimpleImputer\n",
    "\n",
    "imputer_nb_etage = SimpleImputer(strategy=\"most_frequent\")\n",
    "imputer_surface_batiments = SimpleImputer(strategy=\"median\")\n",
    "\n",
    "############################################################################################\n",
    "#                                   Consommation d'énergie\n",
    "############################################################################################\n",
    "\n",
    "# Imputation : on donne à l'imputer plusieurs colonnes car ne fonctionne pas avec une seule\n",
    "imputed_X_conso_train = pd.DataFrame(imputer_nb_etage.fit_transform(OH_X_conso_train[[\"NumberofBuildings\", \"NumberofFloors\"]]))\n",
    "imputed_X_conso_train2 = pd.DataFrame(imputer_surface_batiments.fit_transform(OH_X_conso_train[[\"PropertyGFABuilding\", \n",
    "                                                                                                \"BuildingAge\"]]))\n",
    "imputed_X_conso_test = pd.DataFrame(imputer_nb_etage.transform(OH_X_conso_test[[\"NumberofBuildings\", \"NumberofFloors\"]]))\n",
    "imputed_X_conso_test2 = pd.DataFrame(imputer_surface_batiments.transform(OH_X_conso_test[[\"PropertyGFABuilding\", \n",
    "                                                                                          \"BuildingAge\"]]))\n",
    "\n",
    "\n",
    "# Remise en forme des datasets imputés, remise des noms des colonnes et des index\n",
    "imputed_X_conso_train = pd.concat([imputed_X_conso_train, imputed_X_conso_train2], axis=1)\n",
    "imputed_X_conso_test = pd.concat([imputed_X_conso_test, imputed_X_conso_test2], axis=1)\n",
    "\n",
    "imputed_X_conso_train.columns = [\"NumberofBuildings\", \"NumberofFloors\", \"PropertyGFABuilding\", \"BuildingAge\"]\n",
    "imputed_X_conso_test.columns = [\"NumberofBuildings\", \"NumberofFloors\", \"PropertyGFABuilding\", \"BuildingAge\"]\n",
    "\n",
    "imputed_X_conso_train.index = OH_X_conso_train.index\n",
    "imputed_X_conso_test.index = OH_X_conso_test.index\n",
    "\n",
    "donnees_restantes_train = OH_X_conso_train.drop(columns=[\"NumberofBuildings\", \"NumberofFloors\", \n",
    "                                                         \"PropertyGFABuilding\", \"BuildingAge\"])\n",
    "donnees_restantes_test = OH_X_conso_test.drop(columns=[\"NumberofBuildings\", \"NumberofFloors\", \n",
    "                                                       \"PropertyGFABuilding\", \"BuildingAge\"])\n",
    "\n",
    "imputed_X_conso_train = pd.concat([imputed_X_conso_train, donnees_restantes_train], axis=1)\n",
    "imputed_X_conso_test = pd.concat([imputed_X_conso_test, donnees_restantes_test], axis=1)\n",
    "\n",
    "############################################################################################\n",
    "#                                      Emissions de GES\n",
    "############################################################################################\n",
    "\n",
    "# Imputation : on donne à l'imputer plusieurs colonnes car ne fonctionne pas avec une seule\n",
    "imputed_X_emissions_train = pd.DataFrame(imputer_nb_etage.fit_transform(OH_X_emissions_train[[\"NumberofBuildings\", \n",
    "                                                                                              \"NumberofFloors\"]]))\n",
    "imputed_X_emissions_train2 = pd.DataFrame(imputer_surface_batiments.fit_transform(OH_X_emissions_train[[\"PropertyGFABuilding\",\n",
    "                                                                                                        \"BuildingAge\"]]))\n",
    "imputed_X_emissions_test = pd.DataFrame(imputer_nb_etage.transform(OH_X_emissions_test[[\"NumberofBuildings\", \n",
    "                                                                                        \"NumberofFloors\"]]))\n",
    "imputed_X_emissions_test2 = pd.DataFrame(imputer_surface_batiments.transform(OH_X_emissions_test[[\"PropertyGFABuilding\", \n",
    "                                                                                                  \"BuildingAge\"]]))\n",
    "\n",
    "\n",
    "# Remise en forme des datasets imputés, remise des noms des colonnes et des index\n",
    "imputed_X_emissions_train = pd.concat([imputed_X_emissions_train, imputed_X_emissions_train2], axis=1)\n",
    "imputed_X_emissions_test = pd.concat([imputed_X_emissions_test, imputed_X_emissions_test2], axis=1)\n",
    "\n",
    "imputed_X_emissions_train.columns = [\"NumberofBuildings\", \"NumberofFloors\", \"PropertyGFABuilding\", \"BuildingAge\"]\n",
    "imputed_X_emissions_test.columns = [\"NumberofBuildings\", \"NumberofFloors\", \"PropertyGFABuilding\", \"BuildingAge\"]\n",
    "\n",
    "imputed_X_emissions_train.index = OH_X_emissions_train.index\n",
    "imputed_X_emissions_test.index = OH_X_emissions_test.index\n",
    "\n",
    "donnees_restantes_train = OH_X_emissions_train.drop(columns=[\"NumberofBuildings\", \"NumberofFloors\", \n",
    "                                                             \"PropertyGFABuilding\", \"BuildingAge\"])\n",
    "donnees_restantes_test = OH_X_emissions_test.drop(columns=[\"NumberofBuildings\", \"NumberofFloors\", \n",
    "                                                           \"PropertyGFABuilding\", \"BuildingAge\"])\n",
    "\n",
    "imputed_X_emissions_train = pd.concat([imputed_X_emissions_train, donnees_restantes_train], axis=1)\n",
    "imputed_X_emissions_test = pd.concat([imputed_X_emissions_test, donnees_restantes_test], axis=1)"
   ]
  },
  {
   "cell_type": "code",
   "execution_count": 14,
   "metadata": {},
   "outputs": [
    {
     "data": {
      "text/plain": [
       "NumberofBuildings                                    0\n",
       "NumberofFloors                                       0\n",
       "PropertyGFABuilding                                  0\n",
       "BuildingAge                                          0\n",
       "IsSteamUser                                          0\n",
       "IsElectricityUser                                    0\n",
       "IsNaturalGasUser                                     0\n",
       "IsOtherFuelUser                                      0\n",
       "NumberOfUsedEnergies                                 0\n",
       "BuildingType_Campus                                  0\n",
       "BuildingType_NonResidential                          0\n",
       "BuildingType_Nonresidential COS                      0\n",
       "BuildingType_SPS-District K-12                       0\n",
       "Neighborhood_BALLARD                                 0\n",
       "Neighborhood_CENTRAL                                 0\n",
       "Neighborhood_DELRIDGE                                0\n",
       "Neighborhood_DOWNTOWN                                0\n",
       "Neighborhood_EAST                                    0\n",
       "Neighborhood_GREATER DUWAMISH                        0\n",
       "Neighborhood_LAKE UNION                              0\n",
       "Neighborhood_MAGNOLIA / QUEEN ANNE                   0\n",
       "Neighborhood_NORTH                                   0\n",
       "Neighborhood_NORTHEAST                               0\n",
       "Neighborhood_NORTHWEST                               0\n",
       "Neighborhood_SOUTHEAST                               0\n",
       "Neighborhood_SOUTHWEST                               0\n",
       "MostUsedEnergy_Electricity                           0\n",
       "MostUsedEnergy_NaturalGas                            0\n",
       "MostUsedEnergy_Steam                                 0\n",
       "GatheredPrimaryPropertyType_Distribution Center      0\n",
       "GatheredPrimaryPropertyType_Education                0\n",
       "GatheredPrimaryPropertyType_Hotel                    0\n",
       "GatheredPrimaryPropertyType_Medical and Care         0\n",
       "GatheredPrimaryPropertyType_Mixed Use Property       0\n",
       "GatheredPrimaryPropertyType_Office                   0\n",
       "GatheredPrimaryPropertyType_Other                    0\n",
       "GatheredPrimaryPropertyType_Residence Hall           0\n",
       "GatheredPrimaryPropertyType_Restaurant               0\n",
       "GatheredPrimaryPropertyType_Self-Storage Facility    0\n",
       "GatheredPrimaryPropertyType_Store                    0\n",
       "GatheredPrimaryPropertyType_Warehouse                0\n",
       "GatheredPrimaryPropertyType_Worship Facility         0\n",
       "dtype: int64"
      ]
     },
     "execution_count": 14,
     "metadata": {},
     "output_type": "execute_result"
    }
   ],
   "source": [
    "imputed_X_emissions_test.isna().sum()"
   ]
  },
  {
   "cell_type": "markdown",
   "metadata": {},
   "source": [
    "## Standardisation des variables"
   ]
  },
  {
   "cell_type": "code",
   "execution_count": 15,
   "metadata": {},
   "outputs": [],
   "source": [
    "from sklearn.preprocessing import StandardScaler\n",
    "\n",
    "scaler = StandardScaler(with_mean=False)\n",
    "\n",
    "############################################################################################\n",
    "#                                   Consommation d'énergie\n",
    "############################################################################################\n",
    "\n",
    "# Standardisation des données\n",
    "std_X_conso_train = pd.DataFrame(scaler.fit_transform(imputed_X_conso_train))\n",
    "std_X_conso_test = pd.DataFrame(scaler.transform(imputed_X_conso_test))\n",
    "\n",
    "# Remise des colonnes et des index du dataset initial\n",
    "std_X_conso_train.columns = imputed_X_conso_train.columns\n",
    "std_X_conso_test.columns = imputed_X_conso_test.columns\n",
    "\n",
    "std_X_conso_train.index = imputed_X_conso_train.index\n",
    "std_X_conso_test.index = imputed_X_conso_test.index\n",
    "\n",
    "############################################################################################\n",
    "#                                   Emissions de GES\n",
    "############################################################################################\n",
    "\n",
    "# Standardisation des données\n",
    "std_X_emissions_train = pd.DataFrame(scaler.fit_transform(imputed_X_emissions_train))\n",
    "std_X_emissions_test = pd.DataFrame(scaler.transform(imputed_X_emissions_test))\n",
    "\n",
    "# Remise des colonnes et des index du dataset initial\n",
    "std_X_emissions_train.columns = imputed_X_emissions_train.columns\n",
    "std_X_emissions_test.columns = imputed_X_emissions_test.columns\n",
    "\n",
    "std_X_emissions_train.index = imputed_X_emissions_train.index\n",
    "std_X_emissions_test.index = imputed_X_emissions_test.index"
   ]
  },
  {
   "cell_type": "markdown",
   "metadata": {},
   "source": [
    "Toutes nos variables ont un écart-type quasiment égal à 1 dans les jeux d'entraînement."
   ]
  },
  {
   "cell_type": "markdown",
   "metadata": {},
   "source": [
    "# Modélisation"
   ]
  },
  {
   "cell_type": "markdown",
   "metadata": {},
   "source": [
    "## Sur la consommation d'énergie"
   ]
  },
  {
   "cell_type": "code",
   "execution_count": 16,
   "metadata": {},
   "outputs": [],
   "source": [
    "def inverser(log_y_plus_1):\n",
    "    return np.expm1(log_y_plus_1)"
   ]
  },
  {
   "cell_type": "code",
   "execution_count": 17,
   "metadata": {},
   "outputs": [
    {
     "name": "stdout",
     "output_type": "stream",
     "text": [
      "MAE : 7470197.624, R² : -0.034, RMSE : 31947627.067, Temps de traitement : 0.011s\n"
     ]
    }
   ],
   "source": [
    "from sklearn import dummy\n",
    "from sklearn.model_selection import cross_validate\n",
    "from sklearn.model_selection import cross_val_predict\n",
    "from sklearn.metrics import mean_absolute_error, r2_score, mean_squared_error\n",
    "import time\n",
    "\n",
    "metriques = ['r2', 'neg_root_mean_squared_error', 'neg_mean_absolute_error']\n",
    "\n",
    "start_time = time.time()\n",
    "dum = dummy.DummyRegressor(strategy='mean')\n",
    "y_pred = cross_val_predict(dum, std_X_conso_train, y_conso_train, cv=5)\n",
    "end_time = time.time()\n",
    "\n",
    "duree_traitement = end_time-start_time\n",
    "\n",
    "MAE = round(mean_absolute_error(inverser(y_conso_train), inverser(y_pred)), 3)\n",
    "R2 = round(r2_score(inverser(y_conso_train), inverser(y_pred)), 3)\n",
    "RMSE = round(mean_squared_error(inverser(y_conso_train), inverser(y_pred), squared=False), 3)\n",
    "\n",
    "print(\"MAE : {}, R² : {:.3}, RMSE : {}, Temps de traitement : {:.3}s\".format(MAE, R2, RMSE, duree_traitement))"
   ]
  },
  {
   "cell_type": "code",
   "execution_count": 83,
   "metadata": {},
   "outputs": [
    {
     "name": "stdout",
     "output_type": "stream",
     "text": [
      "MAE : 6576894.852, R² : -0.079, RMSE : 18607279.88, Temps de traitement : 0.002s\n"
     ]
    }
   ],
   "source": [
    "start_time = time.time()\n",
    "dum.fit(std_X_conso_train, y_conso_train)\n",
    "y_pred = dum.predict(std_X_conso_test)\n",
    "end_time = time.time()\n",
    "\n",
    "duree_traitement = end_time-start_time\n",
    "\n",
    "MAE = round(mean_absolute_error(inverser(y_conso_test), inverser(y_pred)), 3)\n",
    "R2 = round(r2_score(inverser(y_conso_test), inverser(y_pred)), 3)\n",
    "RMSE = round(mean_squared_error(inverser(y_conso_test), inverser(y_pred), squared=False), 3)\n",
    "\n",
    "print(\"MAE : {}, R² : {:.3}, RMSE : {}, Temps de traitement : {:.3}s\".format(MAE, R2, RMSE, duree_traitement))"
   ]
  },
  {
   "cell_type": "code",
   "execution_count": 79,
   "metadata": {},
   "outputs": [],
   "source": [
    "# Division du train set en 5 folds\n",
    "from sklearn.model_selection import KFold\n",
    "\n",
    "dum = dummy.DummyRegressor(strategy='mean')\n",
    "MAE = []\n",
    "R2 = []\n",
    "RMSE = []\n",
    "TEMPS = []\n",
    "\n",
    "# Copie du train set et reset des index\n",
    "X_train_set, y_train_set = std_X_conso_train, y_conso_train\n",
    "X_train_set.reset_index(drop=True, inplace=True)\n",
    "y_train_set.reset_index(drop=True, inplace=True)\n",
    "\n",
    "kf = KFold(n_splits=5)\n",
    "for cv_train_index, cv_test_index in kf.split(X_train_set):\n",
    "    #print(\"TRAIN:\", cv_train_index, \"TEST:\", cv_test_index)\n",
    "    X_train_cv, X_test_cv = X_train_set.iloc[cv_train_index, :], X_train_set.iloc[cv_test_index, :]\n",
    "    y_train_cv, y_test_cv = y_train_set[cv_train_index], y_train_set[cv_test_index]\n",
    "    dum.fit(X_train_cv, y_train_cv)\n",
    "    y_pred = dum.predict(X_test_cv)\n",
    "    MAE.append(round(mean_absolute_error(inverser(y_test_cv), inverser(y_pred)), 3))\n",
    "    R2.append(round(r2_score(inverser(y_test_cv), inverser(y_pred)), 3))\n",
    "    RMSE.append(round(mean_squared_error(inverser(y_test_cv), inverser(y_pred), squared=False), 3))"
   ]
  },
  {
   "cell_type": "code",
   "execution_count": 80,
   "metadata": {},
   "outputs": [
    {
     "data": {
      "text/plain": [
       "[8629175.774, 6629074.695, 8610953.743, 6137133.569, 7344650.339]"
      ]
     },
     "execution_count": 80,
     "metadata": {},
     "output_type": "execute_result"
    }
   ],
   "source": [
    "MAE"
   ]
  },
  {
   "cell_type": "code",
   "execution_count": 81,
   "metadata": {},
   "outputs": [
    {
     "data": {
      "text/plain": [
       "[-0.041, -0.051, -0.02, -0.086, -0.06]"
      ]
     },
     "execution_count": 81,
     "metadata": {},
     "output_type": "execute_result"
    }
   ],
   "source": [
    "R2"
   ]
  },
  {
   "cell_type": "code",
   "execution_count": 82,
   "metadata": {},
   "outputs": [
    {
     "data": {
      "text/plain": [
       "[34764069.154, 21707102.214, 50422104.556, 15949678.662, 25034670.121]"
      ]
     },
     "execution_count": 82,
     "metadata": {},
     "output_type": "execute_result"
    }
   ],
   "source": [
    "RMSE"
   ]
  },
  {
   "cell_type": "code",
   "execution_count": 44,
   "metadata": {},
   "outputs": [
    {
     "data": {
      "text/plain": [
       "Int64Index([2058, 2046, 1961, 1387,  190, 1954,  724, 1572,  292,  512,\n",
       "            ...\n",
       "            1471,  989,  225,  679, 2305,  915, 1842, 1373, 2112, 1686],\n",
       "           dtype='int64', length=1740)"
      ]
     },
     "execution_count": 44,
     "metadata": {},
     "output_type": "execute_result"
    }
   ],
   "source": [
    "std_X_conso_train.index"
   ]
  },
  {
   "cell_type": "code",
   "execution_count": 18,
   "metadata": {},
   "outputs": [
    {
     "name": "stdout",
     "output_type": "stream",
     "text": [
      "MAE : 2.3164227808305574e+19, R² : -9.46e+26, RMSE : 9.662565512950295e+20, Temps de traitement : 1.16s\n"
     ]
    }
   ],
   "source": [
    "from sklearn import linear_model\n",
    "\n",
    "start_time = time.time()\n",
    "lr = linear_model.LinearRegression()\n",
    "y_pred = cross_val_predict(lr, std_X_conso_train, y_conso_train, cv=5)\n",
    "end_time = time.time()\n",
    "\n",
    "duree_traitement = end_time-start_time\n",
    "\n",
    "MAE = round(mean_absolute_error(inverser(y_conso_train), inverser(y_pred)), 3)\n",
    "R2 = round(r2_score(inverser(y_conso_train), inverser(y_pred)), 3)\n",
    "RMSE = round(mean_squared_error(inverser(y_conso_train), inverser(y_pred), squared=False), 3)\n",
    "\n",
    "print(\"MAE : {}, R² : {:.3}, RMSE : {}, Temps de traitement : {:.3}s\".format(MAE, R2, RMSE, duree_traitement))"
   ]
  },
  {
   "cell_type": "code",
   "execution_count": 33,
   "metadata": {},
   "outputs": [
    {
     "data": {
      "text/plain": [
       "0.46160748047834055"
      ]
     },
     "execution_count": 33,
     "metadata": {},
     "output_type": "execute_result"
    }
   ],
   "source": [
    "n_alphas = 200\n",
    "alphas = np.logspace(-5, 5, n_alphas)\n",
    "\n",
    "start_time = time.time()\n",
    "rd = linear_model.RidgeCV(alphas=alphas, cv=5).fit(std_X_conso_train, y_conso_train)\n",
    "#y_pred = cross_val_predict(rd, std_X_conso_train, y_conso_train, cv=5)\n",
    "rd.best_score_\n",
    "#end_time = time.time()"
   ]
  },
  {
   "cell_type": "code",
   "execution_count": 37,
   "metadata": {},
   "outputs": [
    {
     "data": {
      "text/plain": [
       "615.0985788580505"
      ]
     },
     "execution_count": 37,
     "metadata": {},
     "output_type": "execute_result"
    }
   ],
   "source": [
    "rd.alpha_"
   ]
  },
  {
   "cell_type": "code",
   "execution_count": 39,
   "metadata": {},
   "outputs": [
    {
     "name": "stdout",
     "output_type": "stream",
     "text": [
      "MAE : 18702280056.107, R² : -6.16e+08, RMSE : 779883147472.711, Temps de traitement : 1.16s\n"
     ]
    }
   ],
   "source": [
    "start_time = time.time()\n",
    "rd = linear_model.Ridge(alpha=615)\n",
    "y_pred = cross_val_predict(rd, std_X_conso_train, y_conso_train, cv=5)\n",
    "end_time = time.time()\n",
    "\n",
    "MAE = round(mean_absolute_error(inverser(y_conso_train), inverser(y_pred)), 3)\n",
    "R2 = round(r2_score(inverser(y_conso_train), inverser(y_pred)), 3)\n",
    "RMSE = round(mean_squared_error(inverser(y_conso_train), inverser(y_pred), squared=False), 3)\n",
    "\n",
    "print(\"MAE : {}, R² : {:.3}, RMSE : {}, Temps de traitement : {:.3}s\".format(MAE, R2, RMSE, duree_traitement))"
   ]
  },
  {
   "cell_type": "code",
   "execution_count": 29,
   "metadata": {},
   "outputs": [
    {
     "name": "stdout",
     "output_type": "stream",
     "text": [
      "0.23.2\n"
     ]
    }
   ],
   "source": [
    "import sklearn\n",
    "print(sklearn.__version__)"
   ]
  },
  {
   "cell_type": "code",
   "execution_count": null,
   "metadata": {},
   "outputs": [],
   "source": []
  }
 ],
 "metadata": {
  "kernelspec": {
   "display_name": "Python 3",
   "language": "python",
   "name": "python3"
  },
  "language_info": {
   "codemirror_mode": {
    "name": "ipython",
    "version": 3
   },
   "file_extension": ".py",
   "mimetype": "text/x-python",
   "name": "python",
   "nbconvert_exporter": "python",
   "pygments_lexer": "ipython3",
   "version": "3.8.5"
  }
 },
 "nbformat": 4,
 "nbformat_minor": 4
}
