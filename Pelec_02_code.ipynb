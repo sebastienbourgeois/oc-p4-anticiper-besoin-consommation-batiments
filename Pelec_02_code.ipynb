{
 "cells": [
  {
   "cell_type": "markdown",
   "metadata": {},
   "source": [
    "# Import des librairies et chargement des données"
   ]
  },
  {
   "cell_type": "code",
   "execution_count": 1,
   "metadata": {},
   "outputs": [],
   "source": [
    "import os\n",
    "\n",
    "# grammaire abstraite de l'arbre syntaxique de Python\n",
    "import ast\n",
    "\n",
    "import numpy as np\n",
    "import pandas as pd\n",
    "\n",
    "%matplotlib inline\n",
    "import matplotlib.pyplot as plt\n",
    "import seaborn as sns\n",
    "\n",
    "from pandas.api.types import is_string_dtype, is_numeric_dtype\n",
    "\n",
    "pd.options.mode.chained_assignment = None  # default='warn'"
   ]
  },
  {
   "cell_type": "code",
   "execution_count": 2,
   "metadata": {},
   "outputs": [],
   "source": [
    "dossier_data = \"data/\"\n",
    "nom_fichier = \"batiments_data.csv\"\n",
    "batiments_data = pd.read_csv(dossier_data+nom_fichier)"
   ]
  },
  {
   "cell_type": "code",
   "execution_count": 3,
   "metadata": {},
   "outputs": [
    {
     "data": {
      "text/html": [
       "<div>\n",
       "<style scoped>\n",
       "    .dataframe tbody tr th:only-of-type {\n",
       "        vertical-align: middle;\n",
       "    }\n",
       "\n",
       "    .dataframe tbody tr th {\n",
       "        vertical-align: top;\n",
       "    }\n",
       "\n",
       "    .dataframe thead th {\n",
       "        text-align: right;\n",
       "    }\n",
       "</style>\n",
       "<table border=\"1\" class=\"dataframe\">\n",
       "  <thead>\n",
       "    <tr style=\"text-align: right;\">\n",
       "      <th></th>\n",
       "      <th>OSEBuildingID</th>\n",
       "      <th>BuildingType</th>\n",
       "      <th>PrimaryPropertyType</th>\n",
       "      <th>Neighborhood</th>\n",
       "      <th>YearBuilt</th>\n",
       "      <th>NumberofBuildings</th>\n",
       "      <th>NumberofFloors</th>\n",
       "      <th>PropertyGFABuilding</th>\n",
       "      <th>ENERGYSTARScore</th>\n",
       "      <th>SiteEnergyUse</th>\n",
       "      <th>SteamUse</th>\n",
       "      <th>Electricity</th>\n",
       "      <th>NaturalGas</th>\n",
       "      <th>OtherFuelUse</th>\n",
       "      <th>GHGEmissions</th>\n",
       "      <th>BuildingAge</th>\n",
       "      <th>IsSteamUser</th>\n",
       "      <th>IsElectricityUser</th>\n",
       "      <th>IsNaturalGasUser</th>\n",
       "      <th>IsOtherFuelUser</th>\n",
       "      <th>NumberOfUsedEnergies</th>\n",
       "      <th>MostUsedEnergy</th>\n",
       "      <th>GatheredPrimaryPropertyType</th>\n",
       "      <th>LogSiteEnergyUse</th>\n",
       "      <th>LogGHGEmissions</th>\n",
       "    </tr>\n",
       "  </thead>\n",
       "  <tbody>\n",
       "    <tr>\n",
       "      <th>0</th>\n",
       "      <td>3</td>\n",
       "      <td>NonResidential</td>\n",
       "      <td>Hotel</td>\n",
       "      <td>DOWNTOWN</td>\n",
       "      <td>1969</td>\n",
       "      <td>1.0</td>\n",
       "      <td>41.0</td>\n",
       "      <td>961990.0</td>\n",
       "      <td>18.0</td>\n",
       "      <td>73130656.0</td>\n",
       "      <td>19660404.0</td>\n",
       "      <td>49762435.0</td>\n",
       "      <td>3709900.0</td>\n",
       "      <td>0.0</td>\n",
       "      <td>2061.48</td>\n",
       "      <td>46</td>\n",
       "      <td>1.0</td>\n",
       "      <td>1.0</td>\n",
       "      <td>1.0</td>\n",
       "      <td>0.0</td>\n",
       "      <td>3.0</td>\n",
       "      <td>Electricity</td>\n",
       "      <td>Hotel</td>\n",
       "      <td>18.107758</td>\n",
       "      <td>7.631664</td>\n",
       "    </tr>\n",
       "    <tr>\n",
       "      <th>1</th>\n",
       "      <td>5</td>\n",
       "      <td>NonResidential</td>\n",
       "      <td>Hotel</td>\n",
       "      <td>DOWNTOWN</td>\n",
       "      <td>1926</td>\n",
       "      <td>1.0</td>\n",
       "      <td>10.0</td>\n",
       "      <td>61320.0</td>\n",
       "      <td>1.0</td>\n",
       "      <td>28229320.0</td>\n",
       "      <td>23458518.0</td>\n",
       "      <td>2769023.0</td>\n",
       "      <td>2001894.0</td>\n",
       "      <td>0.0</td>\n",
       "      <td>1936.34</td>\n",
       "      <td>89</td>\n",
       "      <td>1.0</td>\n",
       "      <td>1.0</td>\n",
       "      <td>1.0</td>\n",
       "      <td>0.0</td>\n",
       "      <td>3.0</td>\n",
       "      <td>Steam</td>\n",
       "      <td>Hotel</td>\n",
       "      <td>17.155872</td>\n",
       "      <td>7.569071</td>\n",
       "    </tr>\n",
       "    <tr>\n",
       "      <th>2</th>\n",
       "      <td>8</td>\n",
       "      <td>NonResidential</td>\n",
       "      <td>Hotel</td>\n",
       "      <td>DOWNTOWN</td>\n",
       "      <td>1980</td>\n",
       "      <td>1.0</td>\n",
       "      <td>18.0</td>\n",
       "      <td>107430.0</td>\n",
       "      <td>67.0</td>\n",
       "      <td>14829099.0</td>\n",
       "      <td>0.0</td>\n",
       "      <td>6066245.0</td>\n",
       "      <td>8763105.0</td>\n",
       "      <td>0.0</td>\n",
       "      <td>507.70</td>\n",
       "      <td>35</td>\n",
       "      <td>0.0</td>\n",
       "      <td>1.0</td>\n",
       "      <td>1.0</td>\n",
       "      <td>0.0</td>\n",
       "      <td>2.0</td>\n",
       "      <td>NaturalGas</td>\n",
       "      <td>Hotel</td>\n",
       "      <td>16.512102</td>\n",
       "      <td>6.231858</td>\n",
       "    </tr>\n",
       "    <tr>\n",
       "      <th>3</th>\n",
       "      <td>19</td>\n",
       "      <td>NonResidential</td>\n",
       "      <td>Hotel</td>\n",
       "      <td>DOWNTOWN</td>\n",
       "      <td>1922</td>\n",
       "      <td>1.0</td>\n",
       "      <td>11.0</td>\n",
       "      <td>67390.0</td>\n",
       "      <td>14.0</td>\n",
       "      <td>10711451.0</td>\n",
       "      <td>4403788.0</td>\n",
       "      <td>4089407.0</td>\n",
       "      <td>2218425.0</td>\n",
       "      <td>0.0</td>\n",
       "      <td>486.25</td>\n",
       "      <td>93</td>\n",
       "      <td>1.0</td>\n",
       "      <td>1.0</td>\n",
       "      <td>1.0</td>\n",
       "      <td>0.0</td>\n",
       "      <td>3.0</td>\n",
       "      <td>Steam</td>\n",
       "      <td>Hotel</td>\n",
       "      <td>16.186824</td>\n",
       "      <td>6.188777</td>\n",
       "    </tr>\n",
       "    <tr>\n",
       "      <th>4</th>\n",
       "      <td>25</td>\n",
       "      <td>NonResidential</td>\n",
       "      <td>Hotel</td>\n",
       "      <td>DOWNTOWN</td>\n",
       "      <td>1916</td>\n",
       "      <td>1.0</td>\n",
       "      <td>10.0</td>\n",
       "      <td>104352.0</td>\n",
       "      <td>83.0</td>\n",
       "      <td>7845112.0</td>\n",
       "      <td>3205497.0</td>\n",
       "      <td>1790665.0</td>\n",
       "      <td>2849024.0</td>\n",
       "      <td>0.0</td>\n",
       "      <td>411.22</td>\n",
       "      <td>99</td>\n",
       "      <td>1.0</td>\n",
       "      <td>1.0</td>\n",
       "      <td>1.0</td>\n",
       "      <td>0.0</td>\n",
       "      <td>3.0</td>\n",
       "      <td>Steam</td>\n",
       "      <td>Hotel</td>\n",
       "      <td>15.875401</td>\n",
       "      <td>6.021557</td>\n",
       "    </tr>\n",
       "  </tbody>\n",
       "</table>\n",
       "</div>"
      ],
      "text/plain": [
       "   OSEBuildingID    BuildingType PrimaryPropertyType Neighborhood  YearBuilt  \\\n",
       "0              3  NonResidential               Hotel     DOWNTOWN       1969   \n",
       "1              5  NonResidential               Hotel     DOWNTOWN       1926   \n",
       "2              8  NonResidential               Hotel     DOWNTOWN       1980   \n",
       "3             19  NonResidential               Hotel     DOWNTOWN       1922   \n",
       "4             25  NonResidential               Hotel     DOWNTOWN       1916   \n",
       "\n",
       "   NumberofBuildings  NumberofFloors  PropertyGFABuilding  ENERGYSTARScore  \\\n",
       "0                1.0            41.0             961990.0             18.0   \n",
       "1                1.0            10.0              61320.0              1.0   \n",
       "2                1.0            18.0             107430.0             67.0   \n",
       "3                1.0            11.0              67390.0             14.0   \n",
       "4                1.0            10.0             104352.0             83.0   \n",
       "\n",
       "   SiteEnergyUse    SteamUse  Electricity  NaturalGas  OtherFuelUse  \\\n",
       "0     73130656.0  19660404.0   49762435.0   3709900.0           0.0   \n",
       "1     28229320.0  23458518.0    2769023.0   2001894.0           0.0   \n",
       "2     14829099.0         0.0    6066245.0   8763105.0           0.0   \n",
       "3     10711451.0   4403788.0    4089407.0   2218425.0           0.0   \n",
       "4      7845112.0   3205497.0    1790665.0   2849024.0           0.0   \n",
       "\n",
       "   GHGEmissions  BuildingAge  IsSteamUser  IsElectricityUser  \\\n",
       "0       2061.48           46          1.0                1.0   \n",
       "1       1936.34           89          1.0                1.0   \n",
       "2        507.70           35          0.0                1.0   \n",
       "3        486.25           93          1.0                1.0   \n",
       "4        411.22           99          1.0                1.0   \n",
       "\n",
       "   IsNaturalGasUser  IsOtherFuelUser  NumberOfUsedEnergies MostUsedEnergy  \\\n",
       "0               1.0              0.0                   3.0    Electricity   \n",
       "1               1.0              0.0                   3.0          Steam   \n",
       "2               1.0              0.0                   2.0     NaturalGas   \n",
       "3               1.0              0.0                   3.0          Steam   \n",
       "4               1.0              0.0                   3.0          Steam   \n",
       "\n",
       "  GatheredPrimaryPropertyType  LogSiteEnergyUse  LogGHGEmissions  \n",
       "0                       Hotel         18.107758         7.631664  \n",
       "1                       Hotel         17.155872         7.569071  \n",
       "2                       Hotel         16.512102         6.231858  \n",
       "3                       Hotel         16.186824         6.188777  \n",
       "4                       Hotel         15.875401         6.021557  "
      ]
     },
     "execution_count": 3,
     "metadata": {},
     "output_type": "execute_result"
    }
   ],
   "source": [
    "pd.set_option(\"display.max_columns\", None)\n",
    "batiments_data.head()"
   ]
  },
  {
   "cell_type": "markdown",
   "metadata": {},
   "source": [
    "# Sélection des variables finales"
   ]
  },
  {
   "cell_type": "code",
   "execution_count": 4,
   "metadata": {},
   "outputs": [
    {
     "name": "stdout",
     "output_type": "stream",
     "text": [
      "<class 'pandas.core.frame.DataFrame'>\n",
      "RangeIndex: 2320 entries, 0 to 2319\n",
      "Data columns (total 25 columns):\n",
      " #   Column                       Non-Null Count  Dtype  \n",
      "---  ------                       --------------  -----  \n",
      " 0   OSEBuildingID                2320 non-null   int64  \n",
      " 1   BuildingType                 2320 non-null   object \n",
      " 2   PrimaryPropertyType          2320 non-null   object \n",
      " 3   Neighborhood                 2320 non-null   object \n",
      " 4   YearBuilt                    2320 non-null   int64  \n",
      " 5   NumberofBuildings            2320 non-null   float64\n",
      " 6   NumberofFloors               2311 non-null   float64\n",
      " 7   PropertyGFABuilding          2318 non-null   float64\n",
      " 8   ENERGYSTARScore              1532 non-null   float64\n",
      " 9   SiteEnergyUse                2320 non-null   float64\n",
      " 10  SteamUse                     2320 non-null   float64\n",
      " 11  Electricity                  2320 non-null   float64\n",
      " 12  NaturalGas                   2320 non-null   float64\n",
      " 13  OtherFuelUse                 2320 non-null   float64\n",
      " 14  GHGEmissions                 2320 non-null   float64\n",
      " 15  BuildingAge                  2320 non-null   int64  \n",
      " 16  IsSteamUser                  2320 non-null   float64\n",
      " 17  IsElectricityUser            2320 non-null   float64\n",
      " 18  IsNaturalGasUser             2320 non-null   float64\n",
      " 19  IsOtherFuelUser              2320 non-null   float64\n",
      " 20  NumberOfUsedEnergies         2320 non-null   float64\n",
      " 21  MostUsedEnergy               2320 non-null   object \n",
      " 22  GatheredPrimaryPropertyType  2320 non-null   object \n",
      " 23  LogSiteEnergyUse             2320 non-null   float64\n",
      " 24  LogGHGEmissions              2320 non-null   float64\n",
      "dtypes: float64(17), int64(3), object(5)\n",
      "memory usage: 453.2+ KB\n"
     ]
    }
   ],
   "source": [
    "batiments_data.info()"
   ]
  },
  {
   "cell_type": "code",
   "execution_count": 5,
   "metadata": {},
   "outputs": [],
   "source": [
    "variables_ecartees = [\"OSEBuildingID\", \"PrimaryPropertyType\", \"ENERGYSTARScore\", \"YearBuilt\", \"SteamUse\", \"Electricity\",\n",
    "                      \"NaturalGas\", \"OtherFuelUse\", \"SiteEnergyUse\", \"GHGEmissions\"]\n",
    "batiments_data_modeles = batiments_data.drop(columns=variables_ecartees)"
   ]
  },
  {
   "cell_type": "markdown",
   "metadata": {},
   "source": [
    "# Préparation des données"
   ]
  },
  {
   "cell_type": "code",
   "execution_count": 6,
   "metadata": {},
   "outputs": [
    {
     "name": "stdout",
     "output_type": "stream",
     "text": [
      "<class 'pandas.core.frame.DataFrame'>\n",
      "RangeIndex: 2320 entries, 0 to 2319\n",
      "Data columns (total 15 columns):\n",
      " #   Column                       Non-Null Count  Dtype  \n",
      "---  ------                       --------------  -----  \n",
      " 0   BuildingType                 2320 non-null   object \n",
      " 1   Neighborhood                 2320 non-null   object \n",
      " 2   NumberofBuildings            2320 non-null   float64\n",
      " 3   NumberofFloors               2311 non-null   float64\n",
      " 4   PropertyGFABuilding          2318 non-null   float64\n",
      " 5   BuildingAge                  2320 non-null   int64  \n",
      " 6   IsSteamUser                  2320 non-null   float64\n",
      " 7   IsElectricityUser            2320 non-null   float64\n",
      " 8   IsNaturalGasUser             2320 non-null   float64\n",
      " 9   IsOtherFuelUser              2320 non-null   float64\n",
      " 10  NumberOfUsedEnergies         2320 non-null   float64\n",
      " 11  MostUsedEnergy               2320 non-null   object \n",
      " 12  GatheredPrimaryPropertyType  2320 non-null   object \n",
      " 13  LogSiteEnergyUse             2320 non-null   float64\n",
      " 14  LogGHGEmissions              2320 non-null   float64\n",
      "dtypes: float64(10), int64(1), object(4)\n",
      "memory usage: 272.0+ KB\n"
     ]
    }
   ],
   "source": [
    "batiments_data_modeles.info()"
   ]
  },
  {
   "cell_type": "markdown",
   "metadata": {},
   "source": [
    "## Séparation du dataset en training et test sets"
   ]
  },
  {
   "cell_type": "markdown",
   "metadata": {},
   "source": [
    "Cette séparation sera faite deux fois : \n",
    "- la première pour la consommation d'énergie totale\n",
    "- la seconde pour les émissions de GES"
   ]
  },
  {
   "cell_type": "code",
   "execution_count": 7,
   "metadata": {},
   "outputs": [],
   "source": [
    "X = batiments_data_modeles.drop(columns=[\"LogSiteEnergyUse\", \"LogGHGEmissions\"])\n",
    "y_conso_energie = batiments_data_modeles[\"LogSiteEnergyUse\"]\n",
    "y_emissions = batiments_data_modeles[\"LogGHGEmissions\"]"
   ]
  },
  {
   "cell_type": "code",
   "execution_count": 8,
   "metadata": {},
   "outputs": [],
   "source": [
    "from sklearn.model_selection import train_test_split\n",
    "\n",
    "# Séparation pour la consommation d'énergie\n",
    "X_conso_train, X_conso_test, y_conso_train, y_conso_test = train_test_split(X, y_conso_energie)\n",
    "\n",
    "# Séparation pour les émissions de GES\n",
    "X_emissions_train, X_emissions_test, y_emissions_train, y_emissions_test = train_test_split(X, y_emissions)"
   ]
  },
  {
   "cell_type": "markdown",
   "metadata": {},
   "source": [
    "## Encodage des variables catégorielles"
   ]
  },
  {
   "cell_type": "code",
   "execution_count": 9,
   "metadata": {},
   "outputs": [],
   "source": [
    "# Identification des variables catégorielles (celles dont le type est object)\n",
    "s = (X.dtypes == 'object')\n",
    "variables_categorielles = list(s[s].index)"
   ]
  },
  {
   "cell_type": "code",
   "execution_count": 10,
   "metadata": {},
   "outputs": [],
   "source": [
    "from sklearn.preprocessing import OneHotEncoder\n",
    "\n",
    "OH_encoder = OneHotEncoder(handle_unknown='ignore', sparse=False)\n",
    "\n",
    "############################################################################################\n",
    "#                                   Consommation d'énergie\n",
    "############################################################################################\n",
    "\n",
    "# On encode chaque modalité des variables catégorielles par 1 ou 0 (présence ou absence de la modalité)\n",
    "OH_X_conso_train = pd.DataFrame(OH_encoder.fit_transform(X_conso_train[variables_categorielles]))\n",
    "OH_X_conso_test = pd.DataFrame(OH_encoder.transform(X_conso_test[variables_categorielles]))\n",
    "\n",
    "# Remise en forme des datasets encodés, remise des noms des colonnes et des index\n",
    "OH_X_conso_train.columns = OH_encoder.get_feature_names(variables_categorielles)\n",
    "OH_X_conso_test.columns = OH_encoder.get_feature_names(variables_categorielles)\n",
    "\n",
    "OH_X_conso_train.index = X_conso_train.index\n",
    "OH_X_conso_test.index = X_conso_test.index\n",
    "\n",
    "# Suppression des variables catégorielles et remplacement par les variables encodées\n",
    "num_X_conso_train = X_conso_train.drop(columns=variables_categorielles)\n",
    "num_X_conso_test = X_conso_test.drop(columns=variables_categorielles)\n",
    "\n",
    "OH_X_conso_train = pd.concat([num_X_conso_train, OH_X_conso_train], axis=1)\n",
    "OH_X_conso_test = pd.concat([num_X_conso_test, OH_X_conso_test], axis=1)\n",
    "\n",
    "############################################################################################\n",
    "#                                   Emissions de GES\n",
    "############################################################################################\n",
    "\n",
    "# On encode chaque modalité des variables catégorielles par 1 ou 0 (présence ou absence de la modalité)\n",
    "OH_X_emissions_train = pd.DataFrame(OH_encoder.fit_transform(X_emissions_train[variables_categorielles]))\n",
    "OH_X_emissions_test = pd.DataFrame(OH_encoder.transform(X_emissions_test[variables_categorielles]))\n",
    "\n",
    "# Remise en forme des datasets encodés, remise des noms des colonnes et des index\n",
    "OH_X_emissions_train.columns = OH_encoder.get_feature_names(variables_categorielles)\n",
    "OH_X_emissions_test.columns = OH_encoder.get_feature_names(variables_categorielles)\n",
    "\n",
    "OH_X_emissions_train.index = X_emissions_train.index\n",
    "OH_X_emissions_test.index = X_emissions_test.index\n",
    "\n",
    "# Suppression des variables catégorielles et remplacement par les variables encodées\n",
    "num_X_emissions_train = X_emissions_train.drop(columns=variables_categorielles)\n",
    "num_X_emissions_test = X_emissions_test.drop(columns=variables_categorielles)\n",
    "\n",
    "OH_X_emissions_train = pd.concat([num_X_emissions_train, OH_X_emissions_train], axis=1)\n",
    "OH_X_emissions_test = pd.concat([num_X_emissions_test, OH_X_emissions_test], axis=1)"
   ]
  },
  {
   "cell_type": "markdown",
   "metadata": {},
   "source": [
    "## Imputation des données manquantes"
   ]
  },
  {
   "cell_type": "code",
   "execution_count": 11,
   "metadata": {},
   "outputs": [
    {
     "name": "stdout",
     "output_type": "stream",
     "text": [
      "<class 'pandas.core.frame.DataFrame'>\n",
      "Int64Index: 1740 entries, 448 to 1248\n",
      "Data columns (total 43 columns):\n",
      " #   Column                                             Non-Null Count  Dtype  \n",
      "---  ------                                             --------------  -----  \n",
      " 0   NumberofBuildings                                  1740 non-null   float64\n",
      " 1   NumberofFloors                                     1733 non-null   float64\n",
      " 2   PropertyGFABuilding                                1738 non-null   float64\n",
      " 3   BuildingAge                                        1740 non-null   int64  \n",
      " 4   IsSteamUser                                        1740 non-null   float64\n",
      " 5   IsElectricityUser                                  1740 non-null   float64\n",
      " 6   IsNaturalGasUser                                   1740 non-null   float64\n",
      " 7   IsOtherFuelUser                                    1740 non-null   float64\n",
      " 8   NumberOfUsedEnergies                               1740 non-null   float64\n",
      " 9   BuildingType_Campus                                1740 non-null   float64\n",
      " 10  BuildingType_NonResidential                        1740 non-null   float64\n",
      " 11  BuildingType_Nonresidential COS                    1740 non-null   float64\n",
      " 12  BuildingType_Nonresidential WA                     1740 non-null   float64\n",
      " 13  BuildingType_SPS-District K-12                     1740 non-null   float64\n",
      " 14  Neighborhood_BALLARD                               1740 non-null   float64\n",
      " 15  Neighborhood_CENTRAL                               1740 non-null   float64\n",
      " 16  Neighborhood_DELRIDGE                              1740 non-null   float64\n",
      " 17  Neighborhood_DOWNTOWN                              1740 non-null   float64\n",
      " 18  Neighborhood_EAST                                  1740 non-null   float64\n",
      " 19  Neighborhood_GREATER DUWAMISH                      1740 non-null   float64\n",
      " 20  Neighborhood_LAKE UNION                            1740 non-null   float64\n",
      " 21  Neighborhood_MAGNOLIA / QUEEN ANNE                 1740 non-null   float64\n",
      " 22  Neighborhood_NORTH                                 1740 non-null   float64\n",
      " 23  Neighborhood_NORTHEAST                             1740 non-null   float64\n",
      " 24  Neighborhood_NORTHWEST                             1740 non-null   float64\n",
      " 25  Neighborhood_SOUTHEAST                             1740 non-null   float64\n",
      " 26  Neighborhood_SOUTHWEST                             1740 non-null   float64\n",
      " 27  MostUsedEnergy_Electricity                         1740 non-null   float64\n",
      " 28  MostUsedEnergy_NaturalGas                          1740 non-null   float64\n",
      " 29  MostUsedEnergy_Steam                               1740 non-null   float64\n",
      " 30  GatheredPrimaryPropertyType_Distribution Center    1740 non-null   float64\n",
      " 31  GatheredPrimaryPropertyType_Education              1740 non-null   float64\n",
      " 32  GatheredPrimaryPropertyType_Hotel                  1740 non-null   float64\n",
      " 33  GatheredPrimaryPropertyType_Medical and Care       1740 non-null   float64\n",
      " 34  GatheredPrimaryPropertyType_Mixed Use Property     1740 non-null   float64\n",
      " 35  GatheredPrimaryPropertyType_Office                 1740 non-null   float64\n",
      " 36  GatheredPrimaryPropertyType_Other                  1740 non-null   float64\n",
      " 37  GatheredPrimaryPropertyType_Residence Hall         1740 non-null   float64\n",
      " 38  GatheredPrimaryPropertyType_Restaurant             1740 non-null   float64\n",
      " 39  GatheredPrimaryPropertyType_Self-Storage Facility  1740 non-null   float64\n",
      " 40  GatheredPrimaryPropertyType_Store                  1740 non-null   float64\n",
      " 41  GatheredPrimaryPropertyType_Warehouse              1740 non-null   float64\n",
      " 42  GatheredPrimaryPropertyType_Worship Facility       1740 non-null   float64\n",
      "dtypes: float64(42), int64(1)\n",
      "memory usage: 598.1 KB\n"
     ]
    }
   ],
   "source": [
    "OH_X_conso_train.info()"
   ]
  },
  {
   "cell_type": "code",
   "execution_count": 12,
   "metadata": {},
   "outputs": [
    {
     "name": "stdout",
     "output_type": "stream",
     "text": [
      "<class 'pandas.core.frame.DataFrame'>\n",
      "Int64Index: 580 entries, 85 to 2289\n",
      "Data columns (total 43 columns):\n",
      " #   Column                                             Non-Null Count  Dtype  \n",
      "---  ------                                             --------------  -----  \n",
      " 0   NumberofBuildings                                  580 non-null    float64\n",
      " 1   NumberofFloors                                     578 non-null    float64\n",
      " 2   PropertyGFABuilding                                580 non-null    float64\n",
      " 3   BuildingAge                                        580 non-null    int64  \n",
      " 4   IsSteamUser                                        580 non-null    float64\n",
      " 5   IsElectricityUser                                  580 non-null    float64\n",
      " 6   IsNaturalGasUser                                   580 non-null    float64\n",
      " 7   IsOtherFuelUser                                    580 non-null    float64\n",
      " 8   NumberOfUsedEnergies                               580 non-null    float64\n",
      " 9   BuildingType_Campus                                580 non-null    float64\n",
      " 10  BuildingType_NonResidential                        580 non-null    float64\n",
      " 11  BuildingType_Nonresidential COS                    580 non-null    float64\n",
      " 12  BuildingType_Nonresidential WA                     580 non-null    float64\n",
      " 13  BuildingType_SPS-District K-12                     580 non-null    float64\n",
      " 14  Neighborhood_BALLARD                               580 non-null    float64\n",
      " 15  Neighborhood_CENTRAL                               580 non-null    float64\n",
      " 16  Neighborhood_DELRIDGE                              580 non-null    float64\n",
      " 17  Neighborhood_DOWNTOWN                              580 non-null    float64\n",
      " 18  Neighborhood_EAST                                  580 non-null    float64\n",
      " 19  Neighborhood_GREATER DUWAMISH                      580 non-null    float64\n",
      " 20  Neighborhood_LAKE UNION                            580 non-null    float64\n",
      " 21  Neighborhood_MAGNOLIA / QUEEN ANNE                 580 non-null    float64\n",
      " 22  Neighborhood_NORTH                                 580 non-null    float64\n",
      " 23  Neighborhood_NORTHEAST                             580 non-null    float64\n",
      " 24  Neighborhood_NORTHWEST                             580 non-null    float64\n",
      " 25  Neighborhood_SOUTHEAST                             580 non-null    float64\n",
      " 26  Neighborhood_SOUTHWEST                             580 non-null    float64\n",
      " 27  MostUsedEnergy_Electricity                         580 non-null    float64\n",
      " 28  MostUsedEnergy_NaturalGas                          580 non-null    float64\n",
      " 29  MostUsedEnergy_Steam                               580 non-null    float64\n",
      " 30  GatheredPrimaryPropertyType_Distribution Center    580 non-null    float64\n",
      " 31  GatheredPrimaryPropertyType_Education              580 non-null    float64\n",
      " 32  GatheredPrimaryPropertyType_Hotel                  580 non-null    float64\n",
      " 33  GatheredPrimaryPropertyType_Medical and Care       580 non-null    float64\n",
      " 34  GatheredPrimaryPropertyType_Mixed Use Property     580 non-null    float64\n",
      " 35  GatheredPrimaryPropertyType_Office                 580 non-null    float64\n",
      " 36  GatheredPrimaryPropertyType_Other                  580 non-null    float64\n",
      " 37  GatheredPrimaryPropertyType_Residence Hall         580 non-null    float64\n",
      " 38  GatheredPrimaryPropertyType_Restaurant             580 non-null    float64\n",
      " 39  GatheredPrimaryPropertyType_Self-Storage Facility  580 non-null    float64\n",
      " 40  GatheredPrimaryPropertyType_Store                  580 non-null    float64\n",
      " 41  GatheredPrimaryPropertyType_Warehouse              580 non-null    float64\n",
      " 42  GatheredPrimaryPropertyType_Worship Facility       580 non-null    float64\n",
      "dtypes: float64(42), int64(1)\n",
      "memory usage: 199.4 KB\n"
     ]
    }
   ],
   "source": [
    "OH_X_conso_test.info()"
   ]
  },
  {
   "cell_type": "markdown",
   "metadata": {},
   "source": [
    "Pour rappel, il reste des données manquantes sur le nombre d'étages et la surface des bâtiments. La première sera imputée par son mode et la seconde par la médiane."
   ]
  },
  {
   "cell_type": "code",
   "execution_count": 13,
   "metadata": {},
   "outputs": [],
   "source": [
    "from sklearn.impute import SimpleImputer\n",
    "\n",
    "imputer_nb_etage = SimpleImputer(strategy=\"most_frequent\")\n",
    "imputer_surface_batiments = SimpleImputer(strategy=\"median\")\n",
    "\n",
    "############################################################################################\n",
    "#                                   Consommation d'énergie\n",
    "############################################################################################\n",
    "\n",
    "# Imputation : on donne à l'imputer plusieurs colonnes car ne fonctionne pas avec une seule\n",
    "imputed_X_conso_train = pd.DataFrame(imputer_nb_etage.fit_transform(OH_X_conso_train[[\"NumberofBuildings\", \"NumberofFloors\"]]))\n",
    "imputed_X_conso_train2 = pd.DataFrame(imputer_surface_batiments.fit_transform(OH_X_conso_train[[\"PropertyGFABuilding\", \n",
    "                                                                                                \"BuildingAge\"]]))\n",
    "imputed_X_conso_test = pd.DataFrame(imputer_nb_etage.transform(OH_X_conso_test[[\"NumberofBuildings\", \"NumberofFloors\"]]))\n",
    "imputed_X_conso_test2 = pd.DataFrame(imputer_surface_batiments.transform(OH_X_conso_test[[\"PropertyGFABuilding\", \n",
    "                                                                                          \"BuildingAge\"]]))\n",
    "\n",
    "\n",
    "# Remise en forme des datasets imputés, remise des noms des colonnes et des index\n",
    "imputed_X_conso_train = pd.concat([imputed_X_conso_train, imputed_X_conso_train2], axis=1)\n",
    "imputed_X_conso_test = pd.concat([imputed_X_conso_test, imputed_X_conso_test2], axis=1)\n",
    "\n",
    "imputed_X_conso_train.columns = [\"NumberofBuildings\", \"NumberofFloors\", \"PropertyGFABuilding\", \"BuildingAge\"]\n",
    "imputed_X_conso_test.columns = [\"NumberofBuildings\", \"NumberofFloors\", \"PropertyGFABuilding\", \"BuildingAge\"]\n",
    "\n",
    "imputed_X_conso_train.index = OH_X_conso_train.index\n",
    "imputed_X_conso_test.index = OH_X_conso_test.index\n",
    "\n",
    "donnees_restantes_train = OH_X_conso_train.drop(columns=[\"NumberofBuildings\", \"NumberofFloors\", \n",
    "                                                         \"PropertyGFABuilding\", \"BuildingAge\"])\n",
    "donnees_restantes_test = OH_X_conso_test.drop(columns=[\"NumberofBuildings\", \"NumberofFloors\", \n",
    "                                                       \"PropertyGFABuilding\", \"BuildingAge\"])\n",
    "\n",
    "imputed_X_conso_train = pd.concat([imputed_X_conso_train, donnees_restantes_train], axis=1)\n",
    "imputed_X_conso_test = pd.concat([imputed_X_conso_test, donnees_restantes_test], axis=1)\n",
    "\n",
    "############################################################################################\n",
    "#                                      Emissions de GES\n",
    "############################################################################################\n",
    "\n",
    "# Imputation : on donne à l'imputer plusieurs colonnes car ne fonctionne pas avec une seule\n",
    "imputed_X_emissions_train = pd.DataFrame(imputer_nb_etage.fit_transform(OH_X_emissions_train[[\"NumberofBuildings\", \n",
    "                                                                                              \"NumberofFloors\"]]))\n",
    "imputed_X_emissions_train2 = pd.DataFrame(imputer_surface_batiments.fit_transform(OH_X_emissions_train[[\"PropertyGFABuilding\",\n",
    "                                                                                                        \"BuildingAge\"]]))\n",
    "imputed_X_emissions_test = pd.DataFrame(imputer_nb_etage.transform(OH_X_emissions_test[[\"NumberofBuildings\", \n",
    "                                                                                        \"NumberofFloors\"]]))\n",
    "imputed_X_emissions_test2 = pd.DataFrame(imputer_surface_batiments.transform(OH_X_emissions_test[[\"PropertyGFABuilding\", \n",
    "                                                                                                  \"BuildingAge\"]]))\n",
    "\n",
    "\n",
    "# Remise en forme des datasets imputés, remise des noms des colonnes et des index\n",
    "imputed_X_emissions_train = pd.concat([imputed_X_emissions_train, imputed_X_emissions_train2], axis=1)\n",
    "imputed_X_emissions_test = pd.concat([imputed_X_emissions_test, imputed_X_emissions_test2], axis=1)\n",
    "\n",
    "imputed_X_emissions_train.columns = [\"NumberofBuildings\", \"NumberofFloors\", \"PropertyGFABuilding\", \"BuildingAge\"]\n",
    "imputed_X_emissions_test.columns = [\"NumberofBuildings\", \"NumberofFloors\", \"PropertyGFABuilding\", \"BuildingAge\"]\n",
    "\n",
    "imputed_X_emissions_train.index = OH_X_emissions_train.index\n",
    "imputed_X_emissions_test.index = OH_X_emissions_test.index\n",
    "\n",
    "donnees_restantes_train = OH_X_emissions_train.drop(columns=[\"NumberofBuildings\", \"NumberofFloors\", \n",
    "                                                             \"PropertyGFABuilding\", \"BuildingAge\"])\n",
    "donnees_restantes_test = OH_X_emissions_test.drop(columns=[\"NumberofBuildings\", \"NumberofFloors\", \n",
    "                                                           \"PropertyGFABuilding\", \"BuildingAge\"])\n",
    "\n",
    "imputed_X_emissions_train = pd.concat([imputed_X_emissions_train, donnees_restantes_train], axis=1)\n",
    "imputed_X_emissions_test = pd.concat([imputed_X_emissions_test, donnees_restantes_test], axis=1)"
   ]
  },
  {
   "cell_type": "code",
   "execution_count": 14,
   "metadata": {},
   "outputs": [
    {
     "data": {
      "text/plain": [
       "NumberofBuildings                                    0\n",
       "NumberofFloors                                       0\n",
       "PropertyGFABuilding                                  0\n",
       "BuildingAge                                          0\n",
       "IsSteamUser                                          0\n",
       "IsElectricityUser                                    0\n",
       "IsNaturalGasUser                                     0\n",
       "IsOtherFuelUser                                      0\n",
       "NumberOfUsedEnergies                                 0\n",
       "BuildingType_Campus                                  0\n",
       "BuildingType_NonResidential                          0\n",
       "BuildingType_Nonresidential COS                      0\n",
       "BuildingType_SPS-District K-12                       0\n",
       "Neighborhood_BALLARD                                 0\n",
       "Neighborhood_CENTRAL                                 0\n",
       "Neighborhood_DELRIDGE                                0\n",
       "Neighborhood_DOWNTOWN                                0\n",
       "Neighborhood_EAST                                    0\n",
       "Neighborhood_GREATER DUWAMISH                        0\n",
       "Neighborhood_LAKE UNION                              0\n",
       "Neighborhood_MAGNOLIA / QUEEN ANNE                   0\n",
       "Neighborhood_NORTH                                   0\n",
       "Neighborhood_NORTHEAST                               0\n",
       "Neighborhood_NORTHWEST                               0\n",
       "Neighborhood_SOUTHEAST                               0\n",
       "Neighborhood_SOUTHWEST                               0\n",
       "MostUsedEnergy_Electricity                           0\n",
       "MostUsedEnergy_NaturalGas                            0\n",
       "MostUsedEnergy_Steam                                 0\n",
       "GatheredPrimaryPropertyType_Distribution Center      0\n",
       "GatheredPrimaryPropertyType_Education                0\n",
       "GatheredPrimaryPropertyType_Hotel                    0\n",
       "GatheredPrimaryPropertyType_Medical and Care         0\n",
       "GatheredPrimaryPropertyType_Mixed Use Property       0\n",
       "GatheredPrimaryPropertyType_Office                   0\n",
       "GatheredPrimaryPropertyType_Other                    0\n",
       "GatheredPrimaryPropertyType_Residence Hall           0\n",
       "GatheredPrimaryPropertyType_Restaurant               0\n",
       "GatheredPrimaryPropertyType_Self-Storage Facility    0\n",
       "GatheredPrimaryPropertyType_Store                    0\n",
       "GatheredPrimaryPropertyType_Warehouse                0\n",
       "GatheredPrimaryPropertyType_Worship Facility         0\n",
       "dtype: int64"
      ]
     },
     "execution_count": 14,
     "metadata": {},
     "output_type": "execute_result"
    }
   ],
   "source": [
    "imputed_X_emissions_test.isna().sum()"
   ]
  },
  {
   "cell_type": "markdown",
   "metadata": {},
   "source": [
    "## Standardisation des variables"
   ]
  },
  {
   "cell_type": "code",
   "execution_count": 15,
   "metadata": {},
   "outputs": [],
   "source": [
    "from sklearn.preprocessing import StandardScaler\n",
    "\n",
    "scaler = StandardScaler(with_mean=False)\n",
    "\n",
    "############################################################################################\n",
    "#                                   Consommation d'énergie\n",
    "############################################################################################\n",
    "\n",
    "# Standardisation des données\n",
    "std_X_conso_train = pd.DataFrame(scaler.fit_transform(imputed_X_conso_train))\n",
    "std_X_conso_test = pd.DataFrame(scaler.transform(imputed_X_conso_test))\n",
    "\n",
    "# Remise des colonnes et des index du dataset initial\n",
    "std_X_conso_train.columns = imputed_X_conso_train.columns\n",
    "std_X_conso_test.columns = imputed_X_conso_test.columns\n",
    "\n",
    "std_X_conso_train.index = imputed_X_conso_train.index\n",
    "std_X_conso_test.index = imputed_X_conso_test.index\n",
    "\n",
    "############################################################################################\n",
    "#                                   Emissions de GES\n",
    "############################################################################################\n",
    "\n",
    "# Standardisation des données\n",
    "std_X_emissions_train = pd.DataFrame(scaler.fit_transform(imputed_X_emissions_train))\n",
    "std_X_emissions_test = pd.DataFrame(scaler.transform(imputed_X_emissions_test))\n",
    "\n",
    "# Remise des colonnes et des index du dataset initial\n",
    "std_X_emissions_train.columns = imputed_X_emissions_train.columns\n",
    "std_X_emissions_test.columns = imputed_X_emissions_test.columns\n",
    "\n",
    "std_X_emissions_train.index = imputed_X_emissions_train.index\n",
    "std_X_emissions_test.index = imputed_X_emissions_test.index"
   ]
  },
  {
   "cell_type": "markdown",
   "metadata": {},
   "source": [
    "Toutes nos variables ont un écart-type quasiment égal à 1 dans les jeux d'entraînement."
   ]
  },
  {
   "cell_type": "markdown",
   "metadata": {},
   "source": [
    "# Modélisation"
   ]
  },
  {
   "cell_type": "markdown",
   "metadata": {},
   "source": [
    "## Sur la consommation d'énergie"
   ]
  },
  {
   "cell_type": "code",
   "execution_count": 16,
   "metadata": {},
   "outputs": [],
   "source": [
    "def inverser(log_y_plus_1):\n",
    "    return np.expm1(log_y_plus_1)"
   ]
  },
  {
   "cell_type": "code",
   "execution_count": 17,
   "metadata": {},
   "outputs": [
    {
     "name": "stdout",
     "output_type": "stream",
     "text": [
      "MAE : 7325197.299, R² : -0.052, RMSE : 25427106.229, Temps de traitement : 0.0156s\n"
     ]
    }
   ],
   "source": [
    "from sklearn import dummy\n",
    "from sklearn.model_selection import cross_validate\n",
    "from sklearn.model_selection import cross_val_predict\n",
    "from sklearn.metrics import mean_absolute_error, r2_score, mean_squared_error\n",
    "import time\n",
    "\n",
    "metriques = ['r2', 'neg_root_mean_squared_error', 'neg_mean_absolute_error']\n",
    "\n",
    "start_time = time.time()\n",
    "dum = dummy.DummyRegressor(strategy='mean')\n",
    "y_pred = cross_val_predict(dum, std_X_conso_train, y_conso_train, cv=5)\n",
    "end_time = time.time()\n",
    "\n",
    "duree_traitement = end_time-start_time\n",
    "\n",
    "MAE = round(mean_absolute_error(inverser(y_conso_train), inverser(y_pred)), 3)\n",
    "R2 = round(r2_score(inverser(y_conso_train), inverser(y_pred)), 3)\n",
    "RMSE = round(mean_squared_error(inverser(y_conso_train), inverser(y_pred), squared=False), 3)\n",
    "\n",
    "print(\"MAE : {}, R² : {:.3}, RMSE : {}, Temps de traitement : {:.3}s\".format(MAE, R2, RMSE, duree_traitement))"
   ]
  },
  {
   "cell_type": "code",
   "execution_count": 69,
   "metadata": {},
   "outputs": [],
   "source": [
    "from sklearn import dummy\n",
    "from sklearn.model_selection import cross_validate, GridSearchCV\n",
    "from sklearn.metrics import mean_absolute_error, r2_score, mean_squared_error\n",
    "from sklearn import linear_model\n",
    "\n",
    "resultats = pd.DataFrame(columns=['R2', 'MAE', 'RMSE', 'Temps'], \n",
    "                         index=['baseline', 'regression_lineaire', 'ridge', 'lasso', 'elastic_net', \n",
    "                                'xg_boost', 'random_forest'])\n",
    "\n",
    "metriques = {'r2': calculer_R2, 'MAE': calculer_MAE, 'RMSE': calculer_RMSE}\n",
    "\n",
    "def calculer_R2(reg, X_test, y_test):\n",
    "    y_pred = reg.predict(X_test)\n",
    "    return round(r2_score(inverser(y_test), inverser(y_pred)), 3)\n",
    "\n",
    "def calculer_MAE(reg, X_test, y_test):\n",
    "    y_pred = reg.predict(X_test)\n",
    "    return round(mean_absolute_error(inverser(y_test), inverser(y_pred)), 3)\n",
    "\n",
    "def calculer_RMSE(reg, X_test, y_test):\n",
    "    y_pred = reg.predict(X_test)\n",
    "    return round(mean_squared_error(inverser(y_test), inverser(y_pred), squared=False), 3)\n",
    "\n",
    "# retourne les résultats de la validation croisée\n",
    "def realiser_validation_croisee(modele):\n",
    "    cv_resultats = cross_validate(modele, std_X_conso_train, y_conso_train, cv=5, scoring=metriques)\n",
    "    cv_resultats['full_time'] = cv_resultats['fit_time'] + cv_resultats['score_time']\n",
    "    return cv_resultats\n",
    "\n",
    "# retourne une liste contenant la moyenne de chaque métrique calculée lors de la validation croisée\n",
    "def calculer_moyennes_metriques(cv_resultats):\n",
    "    return [cv_resultats['test_r2'].mean(), cv_resultats['test_MAE'].mean(),\n",
    "            cv_resultats['test_RMSE'].mean(), cv_resultats['full_time'].mean()]\n",
    "\n",
    "dum = dummy.DummyRegressor(strategy='mean')\n",
    "lr = linear_model.LinearRegression()\n",
    "modeles_cv = {'baseline': dum, 'regression_lineaire': lr}\n",
    "\n",
    "for nom, modele in modeles_cv.items():\n",
    "    resultats_validation_croisee = realiser_validation_croisee(modele)\n",
    "    resultats.loc[nom] = calculer_moyennes_metriques(resultats_validation_croisee)"
   ]
  },
  {
   "cell_type": "code",
   "execution_count": 76,
   "metadata": {},
   "outputs": [
    {
     "ename": "ValueError",
     "evalue": "Invalid parameter alphas for estimator Ridge(). Check the list of available parameters with `estimator.get_params().keys()`.",
     "output_type": "error",
     "traceback": [
      "\u001b[1;31m---------------------------------------------------------------------------\u001b[0m",
      "\u001b[1;31mValueError\u001b[0m                                Traceback (most recent call last)",
      "\u001b[1;32m<ipython-input-76-910189068cb2>\u001b[0m in \u001b[0;36m<module>\u001b[1;34m\u001b[0m\n\u001b[0;32m     14\u001b[0m )\n\u001b[0;32m     15\u001b[0m \u001b[1;33m\u001b[0m\u001b[0m\n\u001b[1;32m---> 16\u001b[1;33m \u001b[0mreg\u001b[0m\u001b[1;33m.\u001b[0m\u001b[0mfit\u001b[0m\u001b[1;33m(\u001b[0m\u001b[0mstd_X_conso_train\u001b[0m\u001b[1;33m,\u001b[0m \u001b[0my_conso_train\u001b[0m\u001b[1;33m)\u001b[0m\u001b[1;33m\u001b[0m\u001b[1;33m\u001b[0m\u001b[0m\n\u001b[0m",
      "\u001b[1;32m~\\anaconda3\\lib\\site-packages\\sklearn\\utils\\validation.py\u001b[0m in \u001b[0;36minner_f\u001b[1;34m(*args, **kwargs)\u001b[0m\n\u001b[0;32m     70\u001b[0m                           FutureWarning)\n\u001b[0;32m     71\u001b[0m         \u001b[0mkwargs\u001b[0m\u001b[1;33m.\u001b[0m\u001b[0mupdate\u001b[0m\u001b[1;33m(\u001b[0m\u001b[1;33m{\u001b[0m\u001b[0mk\u001b[0m\u001b[1;33m:\u001b[0m \u001b[0marg\u001b[0m \u001b[1;32mfor\u001b[0m \u001b[0mk\u001b[0m\u001b[1;33m,\u001b[0m \u001b[0marg\u001b[0m \u001b[1;32min\u001b[0m \u001b[0mzip\u001b[0m\u001b[1;33m(\u001b[0m\u001b[0msig\u001b[0m\u001b[1;33m.\u001b[0m\u001b[0mparameters\u001b[0m\u001b[1;33m,\u001b[0m \u001b[0margs\u001b[0m\u001b[1;33m)\u001b[0m\u001b[1;33m}\u001b[0m\u001b[1;33m)\u001b[0m\u001b[1;33m\u001b[0m\u001b[1;33m\u001b[0m\u001b[0m\n\u001b[1;32m---> 72\u001b[1;33m         \u001b[1;32mreturn\u001b[0m \u001b[0mf\u001b[0m\u001b[1;33m(\u001b[0m\u001b[1;33m**\u001b[0m\u001b[0mkwargs\u001b[0m\u001b[1;33m)\u001b[0m\u001b[1;33m\u001b[0m\u001b[1;33m\u001b[0m\u001b[0m\n\u001b[0m\u001b[0;32m     73\u001b[0m     \u001b[1;32mreturn\u001b[0m \u001b[0minner_f\u001b[0m\u001b[1;33m\u001b[0m\u001b[1;33m\u001b[0m\u001b[0m\n\u001b[0;32m     74\u001b[0m \u001b[1;33m\u001b[0m\u001b[0m\n",
      "\u001b[1;32m~\\anaconda3\\lib\\site-packages\\sklearn\\model_selection\\_search.py\u001b[0m in \u001b[0;36mfit\u001b[1;34m(self, X, y, groups, **fit_params)\u001b[0m\n\u001b[0;32m    734\u001b[0m                 \u001b[1;32mreturn\u001b[0m \u001b[0mresults\u001b[0m\u001b[1;33m\u001b[0m\u001b[1;33m\u001b[0m\u001b[0m\n\u001b[0;32m    735\u001b[0m \u001b[1;33m\u001b[0m\u001b[0m\n\u001b[1;32m--> 736\u001b[1;33m             \u001b[0mself\u001b[0m\u001b[1;33m.\u001b[0m\u001b[0m_run_search\u001b[0m\u001b[1;33m(\u001b[0m\u001b[0mevaluate_candidates\u001b[0m\u001b[1;33m)\u001b[0m\u001b[1;33m\u001b[0m\u001b[1;33m\u001b[0m\u001b[0m\n\u001b[0m\u001b[0;32m    737\u001b[0m \u001b[1;33m\u001b[0m\u001b[0m\n\u001b[0;32m    738\u001b[0m         \u001b[1;31m# For multi-metric evaluation, store the best_index_, best_params_ and\u001b[0m\u001b[1;33m\u001b[0m\u001b[1;33m\u001b[0m\u001b[1;33m\u001b[0m\u001b[0m\n",
      "\u001b[1;32m~\\anaconda3\\lib\\site-packages\\sklearn\\model_selection\\_search.py\u001b[0m in \u001b[0;36m_run_search\u001b[1;34m(self, evaluate_candidates)\u001b[0m\n\u001b[0;32m   1186\u001b[0m     \u001b[1;32mdef\u001b[0m \u001b[0m_run_search\u001b[0m\u001b[1;33m(\u001b[0m\u001b[0mself\u001b[0m\u001b[1;33m,\u001b[0m \u001b[0mevaluate_candidates\u001b[0m\u001b[1;33m)\u001b[0m\u001b[1;33m:\u001b[0m\u001b[1;33m\u001b[0m\u001b[1;33m\u001b[0m\u001b[0m\n\u001b[0;32m   1187\u001b[0m         \u001b[1;34m\"\"\"Search all candidates in param_grid\"\"\"\u001b[0m\u001b[1;33m\u001b[0m\u001b[1;33m\u001b[0m\u001b[0m\n\u001b[1;32m-> 1188\u001b[1;33m         \u001b[0mevaluate_candidates\u001b[0m\u001b[1;33m(\u001b[0m\u001b[0mParameterGrid\u001b[0m\u001b[1;33m(\u001b[0m\u001b[0mself\u001b[0m\u001b[1;33m.\u001b[0m\u001b[0mparam_grid\u001b[0m\u001b[1;33m)\u001b[0m\u001b[1;33m)\u001b[0m\u001b[1;33m\u001b[0m\u001b[1;33m\u001b[0m\u001b[0m\n\u001b[0m\u001b[0;32m   1189\u001b[0m \u001b[1;33m\u001b[0m\u001b[0m\n\u001b[0;32m   1190\u001b[0m \u001b[1;33m\u001b[0m\u001b[0m\n",
      "\u001b[1;32m~\\anaconda3\\lib\\site-packages\\sklearn\\model_selection\\_search.py\u001b[0m in \u001b[0;36mevaluate_candidates\u001b[1;34m(candidate_params)\u001b[0m\n\u001b[0;32m    706\u001b[0m                               n_splits, n_candidates, n_candidates * n_splits))\n\u001b[0;32m    707\u001b[0m \u001b[1;33m\u001b[0m\u001b[0m\n\u001b[1;32m--> 708\u001b[1;33m                 out = parallel(delayed(_fit_and_score)(clone(base_estimator),\n\u001b[0m\u001b[0;32m    709\u001b[0m                                                        \u001b[0mX\u001b[0m\u001b[1;33m,\u001b[0m \u001b[0my\u001b[0m\u001b[1;33m,\u001b[0m\u001b[1;33m\u001b[0m\u001b[1;33m\u001b[0m\u001b[0m\n\u001b[0;32m    710\u001b[0m                                                        \u001b[0mtrain\u001b[0m\u001b[1;33m=\u001b[0m\u001b[0mtrain\u001b[0m\u001b[1;33m,\u001b[0m \u001b[0mtest\u001b[0m\u001b[1;33m=\u001b[0m\u001b[0mtest\u001b[0m\u001b[1;33m,\u001b[0m\u001b[1;33m\u001b[0m\u001b[1;33m\u001b[0m\u001b[0m\n",
      "\u001b[1;32m~\\anaconda3\\lib\\site-packages\\joblib\\parallel.py\u001b[0m in \u001b[0;36m__call__\u001b[1;34m(self, iterable)\u001b[0m\n\u001b[0;32m   1046\u001b[0m             \u001b[1;31m# remaining jobs.\u001b[0m\u001b[1;33m\u001b[0m\u001b[1;33m\u001b[0m\u001b[1;33m\u001b[0m\u001b[0m\n\u001b[0;32m   1047\u001b[0m             \u001b[0mself\u001b[0m\u001b[1;33m.\u001b[0m\u001b[0m_iterating\u001b[0m \u001b[1;33m=\u001b[0m \u001b[1;32mFalse\u001b[0m\u001b[1;33m\u001b[0m\u001b[1;33m\u001b[0m\u001b[0m\n\u001b[1;32m-> 1048\u001b[1;33m             \u001b[1;32mif\u001b[0m \u001b[0mself\u001b[0m\u001b[1;33m.\u001b[0m\u001b[0mdispatch_one_batch\u001b[0m\u001b[1;33m(\u001b[0m\u001b[0miterator\u001b[0m\u001b[1;33m)\u001b[0m\u001b[1;33m:\u001b[0m\u001b[1;33m\u001b[0m\u001b[1;33m\u001b[0m\u001b[0m\n\u001b[0m\u001b[0;32m   1049\u001b[0m                 \u001b[0mself\u001b[0m\u001b[1;33m.\u001b[0m\u001b[0m_iterating\u001b[0m \u001b[1;33m=\u001b[0m \u001b[0mself\u001b[0m\u001b[1;33m.\u001b[0m\u001b[0m_original_iterator\u001b[0m \u001b[1;32mis\u001b[0m \u001b[1;32mnot\u001b[0m \u001b[1;32mNone\u001b[0m\u001b[1;33m\u001b[0m\u001b[1;33m\u001b[0m\u001b[0m\n\u001b[0;32m   1050\u001b[0m \u001b[1;33m\u001b[0m\u001b[0m\n",
      "\u001b[1;32m~\\anaconda3\\lib\\site-packages\\joblib\\parallel.py\u001b[0m in \u001b[0;36mdispatch_one_batch\u001b[1;34m(self, iterator)\u001b[0m\n\u001b[0;32m    864\u001b[0m                 \u001b[1;32mreturn\u001b[0m \u001b[1;32mFalse\u001b[0m\u001b[1;33m\u001b[0m\u001b[1;33m\u001b[0m\u001b[0m\n\u001b[0;32m    865\u001b[0m             \u001b[1;32melse\u001b[0m\u001b[1;33m:\u001b[0m\u001b[1;33m\u001b[0m\u001b[1;33m\u001b[0m\u001b[0m\n\u001b[1;32m--> 866\u001b[1;33m                 \u001b[0mself\u001b[0m\u001b[1;33m.\u001b[0m\u001b[0m_dispatch\u001b[0m\u001b[1;33m(\u001b[0m\u001b[0mtasks\u001b[0m\u001b[1;33m)\u001b[0m\u001b[1;33m\u001b[0m\u001b[1;33m\u001b[0m\u001b[0m\n\u001b[0m\u001b[0;32m    867\u001b[0m                 \u001b[1;32mreturn\u001b[0m \u001b[1;32mTrue\u001b[0m\u001b[1;33m\u001b[0m\u001b[1;33m\u001b[0m\u001b[0m\n\u001b[0;32m    868\u001b[0m \u001b[1;33m\u001b[0m\u001b[0m\n",
      "\u001b[1;32m~\\anaconda3\\lib\\site-packages\\joblib\\parallel.py\u001b[0m in \u001b[0;36m_dispatch\u001b[1;34m(self, batch)\u001b[0m\n\u001b[0;32m    782\u001b[0m         \u001b[1;32mwith\u001b[0m \u001b[0mself\u001b[0m\u001b[1;33m.\u001b[0m\u001b[0m_lock\u001b[0m\u001b[1;33m:\u001b[0m\u001b[1;33m\u001b[0m\u001b[1;33m\u001b[0m\u001b[0m\n\u001b[0;32m    783\u001b[0m             \u001b[0mjob_idx\u001b[0m \u001b[1;33m=\u001b[0m \u001b[0mlen\u001b[0m\u001b[1;33m(\u001b[0m\u001b[0mself\u001b[0m\u001b[1;33m.\u001b[0m\u001b[0m_jobs\u001b[0m\u001b[1;33m)\u001b[0m\u001b[1;33m\u001b[0m\u001b[1;33m\u001b[0m\u001b[0m\n\u001b[1;32m--> 784\u001b[1;33m             \u001b[0mjob\u001b[0m \u001b[1;33m=\u001b[0m \u001b[0mself\u001b[0m\u001b[1;33m.\u001b[0m\u001b[0m_backend\u001b[0m\u001b[1;33m.\u001b[0m\u001b[0mapply_async\u001b[0m\u001b[1;33m(\u001b[0m\u001b[0mbatch\u001b[0m\u001b[1;33m,\u001b[0m \u001b[0mcallback\u001b[0m\u001b[1;33m=\u001b[0m\u001b[0mcb\u001b[0m\u001b[1;33m)\u001b[0m\u001b[1;33m\u001b[0m\u001b[1;33m\u001b[0m\u001b[0m\n\u001b[0m\u001b[0;32m    785\u001b[0m             \u001b[1;31m# A job can complete so quickly than its callback is\u001b[0m\u001b[1;33m\u001b[0m\u001b[1;33m\u001b[0m\u001b[1;33m\u001b[0m\u001b[0m\n\u001b[0;32m    786\u001b[0m             \u001b[1;31m# called before we get here, causing self._jobs to\u001b[0m\u001b[1;33m\u001b[0m\u001b[1;33m\u001b[0m\u001b[1;33m\u001b[0m\u001b[0m\n",
      "\u001b[1;32m~\\anaconda3\\lib\\site-packages\\joblib\\_parallel_backends.py\u001b[0m in \u001b[0;36mapply_async\u001b[1;34m(self, func, callback)\u001b[0m\n\u001b[0;32m    206\u001b[0m     \u001b[1;32mdef\u001b[0m \u001b[0mapply_async\u001b[0m\u001b[1;33m(\u001b[0m\u001b[0mself\u001b[0m\u001b[1;33m,\u001b[0m \u001b[0mfunc\u001b[0m\u001b[1;33m,\u001b[0m \u001b[0mcallback\u001b[0m\u001b[1;33m=\u001b[0m\u001b[1;32mNone\u001b[0m\u001b[1;33m)\u001b[0m\u001b[1;33m:\u001b[0m\u001b[1;33m\u001b[0m\u001b[1;33m\u001b[0m\u001b[0m\n\u001b[0;32m    207\u001b[0m         \u001b[1;34m\"\"\"Schedule a func to be run\"\"\"\u001b[0m\u001b[1;33m\u001b[0m\u001b[1;33m\u001b[0m\u001b[0m\n\u001b[1;32m--> 208\u001b[1;33m         \u001b[0mresult\u001b[0m \u001b[1;33m=\u001b[0m \u001b[0mImmediateResult\u001b[0m\u001b[1;33m(\u001b[0m\u001b[0mfunc\u001b[0m\u001b[1;33m)\u001b[0m\u001b[1;33m\u001b[0m\u001b[1;33m\u001b[0m\u001b[0m\n\u001b[0m\u001b[0;32m    209\u001b[0m         \u001b[1;32mif\u001b[0m \u001b[0mcallback\u001b[0m\u001b[1;33m:\u001b[0m\u001b[1;33m\u001b[0m\u001b[1;33m\u001b[0m\u001b[0m\n\u001b[0;32m    210\u001b[0m             \u001b[0mcallback\u001b[0m\u001b[1;33m(\u001b[0m\u001b[0mresult\u001b[0m\u001b[1;33m)\u001b[0m\u001b[1;33m\u001b[0m\u001b[1;33m\u001b[0m\u001b[0m\n",
      "\u001b[1;32m~\\anaconda3\\lib\\site-packages\\joblib\\_parallel_backends.py\u001b[0m in \u001b[0;36m__init__\u001b[1;34m(self, batch)\u001b[0m\n\u001b[0;32m    570\u001b[0m         \u001b[1;31m# Don't delay the application, to avoid keeping the input\u001b[0m\u001b[1;33m\u001b[0m\u001b[1;33m\u001b[0m\u001b[1;33m\u001b[0m\u001b[0m\n\u001b[0;32m    571\u001b[0m         \u001b[1;31m# arguments in memory\u001b[0m\u001b[1;33m\u001b[0m\u001b[1;33m\u001b[0m\u001b[1;33m\u001b[0m\u001b[0m\n\u001b[1;32m--> 572\u001b[1;33m         \u001b[0mself\u001b[0m\u001b[1;33m.\u001b[0m\u001b[0mresults\u001b[0m \u001b[1;33m=\u001b[0m \u001b[0mbatch\u001b[0m\u001b[1;33m(\u001b[0m\u001b[1;33m)\u001b[0m\u001b[1;33m\u001b[0m\u001b[1;33m\u001b[0m\u001b[0m\n\u001b[0m\u001b[0;32m    573\u001b[0m \u001b[1;33m\u001b[0m\u001b[0m\n\u001b[0;32m    574\u001b[0m     \u001b[1;32mdef\u001b[0m \u001b[0mget\u001b[0m\u001b[1;33m(\u001b[0m\u001b[0mself\u001b[0m\u001b[1;33m)\u001b[0m\u001b[1;33m:\u001b[0m\u001b[1;33m\u001b[0m\u001b[1;33m\u001b[0m\u001b[0m\n",
      "\u001b[1;32m~\\anaconda3\\lib\\site-packages\\joblib\\parallel.py\u001b[0m in \u001b[0;36m__call__\u001b[1;34m(self)\u001b[0m\n\u001b[0;32m    260\u001b[0m         \u001b[1;31m# change the default number of processes to -1\u001b[0m\u001b[1;33m\u001b[0m\u001b[1;33m\u001b[0m\u001b[1;33m\u001b[0m\u001b[0m\n\u001b[0;32m    261\u001b[0m         \u001b[1;32mwith\u001b[0m \u001b[0mparallel_backend\u001b[0m\u001b[1;33m(\u001b[0m\u001b[0mself\u001b[0m\u001b[1;33m.\u001b[0m\u001b[0m_backend\u001b[0m\u001b[1;33m,\u001b[0m \u001b[0mn_jobs\u001b[0m\u001b[1;33m=\u001b[0m\u001b[0mself\u001b[0m\u001b[1;33m.\u001b[0m\u001b[0m_n_jobs\u001b[0m\u001b[1;33m)\u001b[0m\u001b[1;33m:\u001b[0m\u001b[1;33m\u001b[0m\u001b[1;33m\u001b[0m\u001b[0m\n\u001b[1;32m--> 262\u001b[1;33m             return [func(*args, **kwargs)\n\u001b[0m\u001b[0;32m    263\u001b[0m                     for func, args, kwargs in self.items]\n\u001b[0;32m    264\u001b[0m \u001b[1;33m\u001b[0m\u001b[0m\n",
      "\u001b[1;32m~\\anaconda3\\lib\\site-packages\\joblib\\parallel.py\u001b[0m in \u001b[0;36m<listcomp>\u001b[1;34m(.0)\u001b[0m\n\u001b[0;32m    260\u001b[0m         \u001b[1;31m# change the default number of processes to -1\u001b[0m\u001b[1;33m\u001b[0m\u001b[1;33m\u001b[0m\u001b[1;33m\u001b[0m\u001b[0m\n\u001b[0;32m    261\u001b[0m         \u001b[1;32mwith\u001b[0m \u001b[0mparallel_backend\u001b[0m\u001b[1;33m(\u001b[0m\u001b[0mself\u001b[0m\u001b[1;33m.\u001b[0m\u001b[0m_backend\u001b[0m\u001b[1;33m,\u001b[0m \u001b[0mn_jobs\u001b[0m\u001b[1;33m=\u001b[0m\u001b[0mself\u001b[0m\u001b[1;33m.\u001b[0m\u001b[0m_n_jobs\u001b[0m\u001b[1;33m)\u001b[0m\u001b[1;33m:\u001b[0m\u001b[1;33m\u001b[0m\u001b[1;33m\u001b[0m\u001b[0m\n\u001b[1;32m--> 262\u001b[1;33m             return [func(*args, **kwargs)\n\u001b[0m\u001b[0;32m    263\u001b[0m                     for func, args, kwargs in self.items]\n\u001b[0;32m    264\u001b[0m \u001b[1;33m\u001b[0m\u001b[0m\n",
      "\u001b[1;32m~\\anaconda3\\lib\\site-packages\\sklearn\\model_selection\\_validation.py\u001b[0m in \u001b[0;36m_fit_and_score\u001b[1;34m(estimator, X, y, scorer, train, test, verbose, parameters, fit_params, return_train_score, return_parameters, return_n_test_samples, return_times, return_estimator, error_score)\u001b[0m\n\u001b[0;32m    518\u001b[0m             \u001b[0mcloned_parameters\u001b[0m\u001b[1;33m[\u001b[0m\u001b[0mk\u001b[0m\u001b[1;33m]\u001b[0m \u001b[1;33m=\u001b[0m \u001b[0mclone\u001b[0m\u001b[1;33m(\u001b[0m\u001b[0mv\u001b[0m\u001b[1;33m,\u001b[0m \u001b[0msafe\u001b[0m\u001b[1;33m=\u001b[0m\u001b[1;32mFalse\u001b[0m\u001b[1;33m)\u001b[0m\u001b[1;33m\u001b[0m\u001b[1;33m\u001b[0m\u001b[0m\n\u001b[0;32m    519\u001b[0m \u001b[1;33m\u001b[0m\u001b[0m\n\u001b[1;32m--> 520\u001b[1;33m         \u001b[0mestimator\u001b[0m \u001b[1;33m=\u001b[0m \u001b[0mestimator\u001b[0m\u001b[1;33m.\u001b[0m\u001b[0mset_params\u001b[0m\u001b[1;33m(\u001b[0m\u001b[1;33m**\u001b[0m\u001b[0mcloned_parameters\u001b[0m\u001b[1;33m)\u001b[0m\u001b[1;33m\u001b[0m\u001b[1;33m\u001b[0m\u001b[0m\n\u001b[0m\u001b[0;32m    521\u001b[0m \u001b[1;33m\u001b[0m\u001b[0m\n\u001b[0;32m    522\u001b[0m     \u001b[0mstart_time\u001b[0m \u001b[1;33m=\u001b[0m \u001b[0mtime\u001b[0m\u001b[1;33m.\u001b[0m\u001b[0mtime\u001b[0m\u001b[1;33m(\u001b[0m\u001b[1;33m)\u001b[0m\u001b[1;33m\u001b[0m\u001b[1;33m\u001b[0m\u001b[0m\n",
      "\u001b[1;32m~\\anaconda3\\lib\\site-packages\\sklearn\\base.py\u001b[0m in \u001b[0;36mset_params\u001b[1;34m(self, **params)\u001b[0m\n\u001b[0;32m    247\u001b[0m             \u001b[0mkey\u001b[0m\u001b[1;33m,\u001b[0m \u001b[0mdelim\u001b[0m\u001b[1;33m,\u001b[0m \u001b[0msub_key\u001b[0m \u001b[1;33m=\u001b[0m \u001b[0mkey\u001b[0m\u001b[1;33m.\u001b[0m\u001b[0mpartition\u001b[0m\u001b[1;33m(\u001b[0m\u001b[1;34m'__'\u001b[0m\u001b[1;33m)\u001b[0m\u001b[1;33m\u001b[0m\u001b[1;33m\u001b[0m\u001b[0m\n\u001b[0;32m    248\u001b[0m             \u001b[1;32mif\u001b[0m \u001b[0mkey\u001b[0m \u001b[1;32mnot\u001b[0m \u001b[1;32min\u001b[0m \u001b[0mvalid_params\u001b[0m\u001b[1;33m:\u001b[0m\u001b[1;33m\u001b[0m\u001b[1;33m\u001b[0m\u001b[0m\n\u001b[1;32m--> 249\u001b[1;33m                 raise ValueError('Invalid parameter %s for estimator %s. '\n\u001b[0m\u001b[0;32m    250\u001b[0m                                  \u001b[1;34m'Check the list of available parameters '\u001b[0m\u001b[1;33m\u001b[0m\u001b[1;33m\u001b[0m\u001b[0m\n\u001b[0;32m    251\u001b[0m                                  \u001b[1;34m'with `estimator.get_params().keys()`.'\u001b[0m \u001b[1;33m%\u001b[0m\u001b[1;33m\u001b[0m\u001b[1;33m\u001b[0m\u001b[0m\n",
      "\u001b[1;31mValueError\u001b[0m: Invalid parameter alphas for estimator Ridge(). Check the list of available parameters with `estimator.get_params().keys()`."
     ]
    }
   ],
   "source": [
    "# choix du modèle ridge\n",
    "n_alphas = 200\n",
    "alphas = np.logspace(-5, 5, n_alphas)\n",
    "param_grid = {'alphas': alphas}\n",
    "\n",
    "ridge = linear_model.Ridge()\n",
    "\n",
    "reg = GridSearchCV(\n",
    "    ridge,\n",
    "    param_grid,\n",
    "    cv=5,\n",
    "    scoring=metriques,\n",
    "    refit=False\n",
    ")\n",
    "\n",
    "reg.fit(std_X_conso_train, y_conso_train)"
   ]
  },
  {
   "cell_type": "code",
   "execution_count": 74,
   "metadata": {},
   "outputs": [
    {
     "ename": "AttributeError",
     "evalue": "'GridSearchCV' object has no attribute 'cv_results_'",
     "output_type": "error",
     "traceback": [
      "\u001b[1;31m---------------------------------------------------------------------------\u001b[0m",
      "\u001b[1;31mAttributeError\u001b[0m                            Traceback (most recent call last)",
      "\u001b[1;32m<ipython-input-74-6b0297a91923>\u001b[0m in \u001b[0;36m<module>\u001b[1;34m\u001b[0m\n\u001b[1;32m----> 1\u001b[1;33m \u001b[0mreg\u001b[0m\u001b[1;33m.\u001b[0m\u001b[0mcv_results_\u001b[0m\u001b[1;33m\u001b[0m\u001b[1;33m\u001b[0m\u001b[0m\n\u001b[0m",
      "\u001b[1;31mAttributeError\u001b[0m: 'GridSearchCV' object has no attribute 'cv_results_'"
     ]
    }
   ],
   "source": [
    "reg.cv_results_"
   ]
  },
  {
   "cell_type": "code",
   "execution_count": 67,
   "metadata": {},
   "outputs": [
    {
     "data": {
      "text/html": [
       "<div>\n",
       "<style scoped>\n",
       "    .dataframe tbody tr th:only-of-type {\n",
       "        vertical-align: middle;\n",
       "    }\n",
       "\n",
       "    .dataframe tbody tr th {\n",
       "        vertical-align: top;\n",
       "    }\n",
       "\n",
       "    .dataframe thead th {\n",
       "        text-align: right;\n",
       "    }\n",
       "</style>\n",
       "<table border=\"1\" class=\"dataframe\">\n",
       "  <thead>\n",
       "    <tr style=\"text-align: right;\">\n",
       "      <th></th>\n",
       "      <th>R2</th>\n",
       "      <th>MAE</th>\n",
       "      <th>RMSE</th>\n",
       "      <th>Temps</th>\n",
       "    </tr>\n",
       "  </thead>\n",
       "  <tbody>\n",
       "    <tr>\n",
       "      <th>baseline</th>\n",
       "      <td>-0.0582</td>\n",
       "      <td>7.3252e+06</td>\n",
       "      <td>2.51012e+07</td>\n",
       "      <td>0.0049952</td>\n",
       "    </tr>\n",
       "    <tr>\n",
       "      <th>regression_lineaire</th>\n",
       "      <td>-155.261</td>\n",
       "      <td>1.77734e+07</td>\n",
       "      <td>1.82322e+08</td>\n",
       "      <td>0.0185818</td>\n",
       "    </tr>\n",
       "    <tr>\n",
       "      <th>ridge</th>\n",
       "      <td>NaN</td>\n",
       "      <td>NaN</td>\n",
       "      <td>NaN</td>\n",
       "      <td>NaN</td>\n",
       "    </tr>\n",
       "    <tr>\n",
       "      <th>lasso</th>\n",
       "      <td>NaN</td>\n",
       "      <td>NaN</td>\n",
       "      <td>NaN</td>\n",
       "      <td>NaN</td>\n",
       "    </tr>\n",
       "    <tr>\n",
       "      <th>elastic_net</th>\n",
       "      <td>NaN</td>\n",
       "      <td>NaN</td>\n",
       "      <td>NaN</td>\n",
       "      <td>NaN</td>\n",
       "    </tr>\n",
       "    <tr>\n",
       "      <th>xg_boost</th>\n",
       "      <td>NaN</td>\n",
       "      <td>NaN</td>\n",
       "      <td>NaN</td>\n",
       "      <td>NaN</td>\n",
       "    </tr>\n",
       "    <tr>\n",
       "      <th>random_forest</th>\n",
       "      <td>NaN</td>\n",
       "      <td>NaN</td>\n",
       "      <td>NaN</td>\n",
       "      <td>NaN</td>\n",
       "    </tr>\n",
       "  </tbody>\n",
       "</table>\n",
       "</div>"
      ],
      "text/plain": [
       "                          R2          MAE         RMSE      Temps\n",
       "baseline             -0.0582   7.3252e+06  2.51012e+07  0.0049952\n",
       "regression_lineaire -155.261  1.77734e+07  1.82322e+08  0.0185818\n",
       "ridge                    NaN          NaN          NaN        NaN\n",
       "lasso                    NaN          NaN          NaN        NaN\n",
       "elastic_net              NaN          NaN          NaN        NaN\n",
       "xg_boost                 NaN          NaN          NaN        NaN\n",
       "random_forest            NaN          NaN          NaN        NaN"
      ]
     },
     "execution_count": 67,
     "metadata": {},
     "output_type": "execute_result"
    }
   ],
   "source": [
    "resultats"
   ]
  },
  {
   "cell_type": "code",
   "execution_count": 61,
   "metadata": {},
   "outputs": [
    {
     "data": {
      "text/html": [
       "<div>\n",
       "<style scoped>\n",
       "    .dataframe tbody tr th:only-of-type {\n",
       "        vertical-align: middle;\n",
       "    }\n",
       "\n",
       "    .dataframe tbody tr th {\n",
       "        vertical-align: top;\n",
       "    }\n",
       "\n",
       "    .dataframe thead th {\n",
       "        text-align: right;\n",
       "    }\n",
       "</style>\n",
       "<table border=\"1\" class=\"dataframe\">\n",
       "  <thead>\n",
       "    <tr style=\"text-align: right;\">\n",
       "      <th></th>\n",
       "      <th>R2</th>\n",
       "      <th>MAE</th>\n",
       "      <th>RMSE</th>\n",
       "      <th>Temps</th>\n",
       "    </tr>\n",
       "  </thead>\n",
       "  <tbody>\n",
       "    <tr>\n",
       "      <th>baseline</th>\n",
       "      <td>-0.0582</td>\n",
       "      <td>7.3252e+06</td>\n",
       "      <td>2.51012e+07</td>\n",
       "      <td>0.00599499</td>\n",
       "    </tr>\n",
       "    <tr>\n",
       "      <th>regression_lineaire</th>\n",
       "      <td>-155.261</td>\n",
       "      <td>1.77734e+07</td>\n",
       "      <td>1.82322e+08</td>\n",
       "      <td>0.0213784</td>\n",
       "    </tr>\n",
       "    <tr>\n",
       "      <th>lasso</th>\n",
       "      <td>NaN</td>\n",
       "      <td>NaN</td>\n",
       "      <td>NaN</td>\n",
       "      <td>NaN</td>\n",
       "    </tr>\n",
       "    <tr>\n",
       "      <th>ridge</th>\n",
       "      <td>NaN</td>\n",
       "      <td>NaN</td>\n",
       "      <td>NaN</td>\n",
       "      <td>NaN</td>\n",
       "    </tr>\n",
       "    <tr>\n",
       "      <th>elastic_net</th>\n",
       "      <td>NaN</td>\n",
       "      <td>NaN</td>\n",
       "      <td>NaN</td>\n",
       "      <td>NaN</td>\n",
       "    </tr>\n",
       "    <tr>\n",
       "      <th>xg_boost</th>\n",
       "      <td>NaN</td>\n",
       "      <td>NaN</td>\n",
       "      <td>NaN</td>\n",
       "      <td>NaN</td>\n",
       "    </tr>\n",
       "    <tr>\n",
       "      <th>random_forest</th>\n",
       "      <td>NaN</td>\n",
       "      <td>NaN</td>\n",
       "      <td>NaN</td>\n",
       "      <td>NaN</td>\n",
       "    </tr>\n",
       "  </tbody>\n",
       "</table>\n",
       "</div>"
      ],
      "text/plain": [
       "                          R2          MAE         RMSE       Temps\n",
       "baseline             -0.0582   7.3252e+06  2.51012e+07  0.00599499\n",
       "regression_lineaire -155.261  1.77734e+07  1.82322e+08   0.0213784\n",
       "lasso                    NaN          NaN          NaN         NaN\n",
       "ridge                    NaN          NaN          NaN         NaN\n",
       "elastic_net              NaN          NaN          NaN         NaN\n",
       "xg_boost                 NaN          NaN          NaN         NaN\n",
       "random_forest            NaN          NaN          NaN         NaN"
      ]
     },
     "execution_count": 61,
     "metadata": {},
     "output_type": "execute_result"
    }
   ],
   "source": [
    "resultats"
   ]
  },
  {
   "cell_type": "code",
   "execution_count": 19,
   "metadata": {},
   "outputs": [
    {
     "name": "stdout",
     "output_type": "stream",
     "text": [
      "MAE : 7045001.007, R² : -0.02, RMSE : 38279392.63, Temps de traitement : 0.001s\n"
     ]
    }
   ],
   "source": [
    "start_time = time.time()\n",
    "dum.fit(std_X_conso_train, y_conso_train)\n",
    "y_pred = dum.predict(std_X_conso_test)\n",
    "end_time = time.time()\n",
    "\n",
    "duree_traitement = end_time-start_time\n",
    "\n",
    "MAE = round(mean_absolute_error(inverser(y_conso_test), inverser(y_pred)), 3)\n",
    "R2 = round(r2_score(inverser(y_conso_test), inverser(y_pred)), 3)\n",
    "RMSE = round(mean_squared_error(inverser(y_conso_test), inverser(y_pred), squared=False), 3)\n",
    "\n",
    "print(\"MAE : {}, R² : {:.3}, RMSE : {}, Temps de traitement : {:.3}s\".format(MAE, R2, RMSE, duree_traitement))"
   ]
  },
  {
   "cell_type": "code",
   "execution_count": 20,
   "metadata": {},
   "outputs": [],
   "source": [
    "# Division du train set en 5 folds\n",
    "from sklearn.model_selection import KFold\n",
    "\n",
    "dum = dummy.DummyRegressor(strategy='mean')\n",
    "MAE = []\n",
    "R2 = []\n",
    "RMSE = []\n",
    "TEMPS = []\n",
    "\n",
    "# Copie du train set et reset des index\n",
    "X_train_set, y_train_set = std_X_conso_train, y_conso_train\n",
    "X_train_set.reset_index(drop=True, inplace=True)\n",
    "y_train_set.reset_index(drop=True, inplace=True)\n",
    "\n",
    "kf = KFold(n_splits=5)\n",
    "for cv_train_index, cv_test_index in kf.split(X_train_set):\n",
    "    #print(\"TRAIN:\", cv_train_index, \"TEST:\", cv_test_index)\n",
    "    X_train_cv, X_test_cv = X_train_set.iloc[cv_train_index, :], X_train_set.iloc[cv_test_index, :]\n",
    "    y_train_cv, y_test_cv = y_train_set[cv_train_index], y_train_set[cv_test_index]\n",
    "    dum.fit(X_train_cv, y_train_cv)\n",
    "    y_pred = dum.predict(X_test_cv)\n",
    "    MAE.append(round(mean_absolute_error(inverser(y_test_cv), inverser(y_pred)), 3))\n",
    "    R2.append(round(r2_score(inverser(y_test_cv), inverser(y_pred)), 3))\n",
    "    RMSE.append(round(mean_squared_error(inverser(y_test_cv), inverser(y_pred), squared=False), 3))"
   ]
  },
  {
   "cell_type": "code",
   "execution_count": 21,
   "metadata": {},
   "outputs": [
    {
     "data": {
      "text/plain": [
       "[7723044.378, 6908162.331, 6781968.717, 7791746.724, 7421064.345]"
      ]
     },
     "execution_count": 21,
     "metadata": {},
     "output_type": "execute_result"
    }
   ],
   "source": [
    "MAE"
   ]
  },
  {
   "cell_type": "code",
   "execution_count": 22,
   "metadata": {},
   "outputs": [
    {
     "data": {
      "text/plain": [
       "[-0.083, -0.061, -0.045, -0.073, -0.029]"
      ]
     },
     "execution_count": 22,
     "metadata": {},
     "output_type": "execute_result"
    }
   ],
   "source": [
    "R2"
   ]
  },
  {
   "cell_type": "code",
   "execution_count": 23,
   "metadata": {},
   "outputs": [
    {
     "data": {
      "text/plain": [
       "[22652049.589, 22012422.177, 24314505.208, 23458828.72, 33068334.803]"
      ]
     },
     "execution_count": 23,
     "metadata": {},
     "output_type": "execute_result"
    }
   ],
   "source": [
    "RMSE"
   ]
  },
  {
   "cell_type": "code",
   "execution_count": 24,
   "metadata": {},
   "outputs": [
    {
     "data": {
      "text/plain": [
       "RangeIndex(start=0, stop=1740, step=1)"
      ]
     },
     "execution_count": 24,
     "metadata": {},
     "output_type": "execute_result"
    }
   ],
   "source": [
    "std_X_conso_train.index"
   ]
  },
  {
   "cell_type": "code",
   "execution_count": 25,
   "metadata": {},
   "outputs": [
    {
     "name": "stdout",
     "output_type": "stream",
     "text": [
      "MAE : 17773431.266, R² : -1.2e+02, RMSE : 272275214.27, Temps de traitement : 0.0578s\n"
     ]
    }
   ],
   "source": [
    "from sklearn import linear_model\n",
    "\n",
    "start_time = time.time()\n",
    "lr = linear_model.LinearRegression()\n",
    "y_pred = cross_val_predict(lr, std_X_conso_train, y_conso_train, cv=5)\n",
    "end_time = time.time()\n",
    "\n",
    "duree_traitement = end_time-start_time\n",
    "\n",
    "MAE = round(mean_absolute_error(inverser(y_conso_train), inverser(y_pred)), 3)\n",
    "R2 = round(r2_score(inverser(y_conso_train), inverser(y_pred)), 3)\n",
    "RMSE = round(mean_squared_error(inverser(y_conso_train), inverser(y_pred), squared=False), 3)\n",
    "\n",
    "print(\"MAE : {}, R² : {:.3}, RMSE : {}, Temps de traitement : {:.3}s\".format(MAE, R2, RMSE, duree_traitement))"
   ]
  },
  {
   "cell_type": "code",
   "execution_count": 26,
   "metadata": {},
   "outputs": [
    {
     "data": {
      "text/plain": [
       "0.5577860730295148"
      ]
     },
     "execution_count": 26,
     "metadata": {},
     "output_type": "execute_result"
    }
   ],
   "source": [
    "n_alphas = 200\n",
    "alphas = np.logspace(-5, 5, n_alphas)\n",
    "\n",
    "start_time = time.time()\n",
    "rd = linear_model.RidgeCV(alphas=alphas, cv=5).fit(std_X_conso_train, y_conso_train)\n",
    "#y_pred = cross_val_predict(rd, std_X_conso_train, y_conso_train, cv=5)\n",
    "rd.best_score_\n",
    "#end_time = time.time()"
   ]
  },
  {
   "cell_type": "code",
   "execution_count": 27,
   "metadata": {},
   "outputs": [
    {
     "data": {
      "text/plain": [
       "108.43659686896109"
      ]
     },
     "execution_count": 27,
     "metadata": {},
     "output_type": "execute_result"
    }
   ],
   "source": [
    "rd.alpha_"
   ]
  },
  {
   "cell_type": "code",
   "execution_count": 28,
   "metadata": {},
   "outputs": [
    {
     "name": "stdout",
     "output_type": "stream",
     "text": [
      "MAE : 7591715.23, R² : -4.48, RMSE : 58062423.196, Temps de traitement : 0.0578s\n"
     ]
    }
   ],
   "source": [
    "start_time = time.time()\n",
    "rd = linear_model.Ridge(alpha=615)\n",
    "y_pred = cross_val_predict(rd, std_X_conso_train, y_conso_train, cv=5)\n",
    "end_time = time.time()\n",
    "\n",
    "MAE = round(mean_absolute_error(inverser(y_conso_train), inverser(y_pred)), 3)\n",
    "R2 = round(r2_score(inverser(y_conso_train), inverser(y_pred)), 3)\n",
    "RMSE = round(mean_squared_error(inverser(y_conso_train), inverser(y_pred), squared=False), 3)\n",
    "\n",
    "print(\"MAE : {}, R² : {:.3}, RMSE : {}, Temps de traitement : {:.3}s\".format(MAE, R2, RMSE, duree_traitement))"
   ]
  },
  {
   "cell_type": "code",
   "execution_count": 29,
   "metadata": {},
   "outputs": [
    {
     "name": "stdout",
     "output_type": "stream",
     "text": [
      "0.23.2\n"
     ]
    }
   ],
   "source": [
    "import sklearn\n",
    "print(sklearn.__version__)"
   ]
  },
  {
   "cell_type": "code",
   "execution_count": null,
   "metadata": {},
   "outputs": [],
   "source": []
  }
 ],
 "metadata": {
  "kernelspec": {
   "display_name": "Python 3",
   "language": "python",
   "name": "python3"
  },
  "language_info": {
   "codemirror_mode": {
    "name": "ipython",
    "version": 3
   },
   "file_extension": ".py",
   "mimetype": "text/x-python",
   "name": "python",
   "nbconvert_exporter": "python",
   "pygments_lexer": "ipython3",
   "version": "3.8.5"
  }
 },
 "nbformat": 4,
 "nbformat_minor": 4
}
