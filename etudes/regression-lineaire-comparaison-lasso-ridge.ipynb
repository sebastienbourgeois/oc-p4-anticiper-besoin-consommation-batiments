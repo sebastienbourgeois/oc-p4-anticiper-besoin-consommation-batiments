{
 "cells": [
  {
   "cell_type": "markdown",
   "metadata": {},
   "source": [
    "# Comparaison du comportement du lasso avec celui de la régression ridge"
   ]
  },
  {
   "cell_type": "code",
   "execution_count": 1,
   "metadata": {},
   "outputs": [],
   "source": [
    "import pandas as pd"
   ]
  },
  {
   "cell_type": "code",
   "execution_count": 5,
   "metadata": {},
   "outputs": [],
   "source": [
    "raw_data = pd.read_csv(\"data/prostate_dataset.txt\", delimiter=\"\\t\")"
   ]
  },
  {
   "cell_type": "code",
   "execution_count": 6,
   "metadata": {},
   "outputs": [
    {
     "data": {
      "text/html": [
       "<div>\n",
       "<style scoped>\n",
       "    .dataframe tbody tr th:only-of-type {\n",
       "        vertical-align: middle;\n",
       "    }\n",
       "\n",
       "    .dataframe tbody tr th {\n",
       "        vertical-align: top;\n",
       "    }\n",
       "\n",
       "    .dataframe thead th {\n",
       "        text-align: right;\n",
       "    }\n",
       "</style>\n",
       "<table border=\"1\" class=\"dataframe\">\n",
       "  <thead>\n",
       "    <tr style=\"text-align: right;\">\n",
       "      <th></th>\n",
       "      <th>col</th>\n",
       "      <th>lcavol</th>\n",
       "      <th>lweight</th>\n",
       "      <th>age</th>\n",
       "      <th>lbph</th>\n",
       "      <th>svi</th>\n",
       "      <th>lcp</th>\n",
       "      <th>gleason</th>\n",
       "      <th>pgg45</th>\n",
       "      <th>lpsa</th>\n",
       "      <th>train</th>\n",
       "    </tr>\n",
       "  </thead>\n",
       "  <tbody>\n",
       "    <tr>\n",
       "      <th>0</th>\n",
       "      <td>1</td>\n",
       "      <td>-0.579818</td>\n",
       "      <td>2.769459</td>\n",
       "      <td>50</td>\n",
       "      <td>-1.386294</td>\n",
       "      <td>0</td>\n",
       "      <td>-1.386294</td>\n",
       "      <td>6</td>\n",
       "      <td>0</td>\n",
       "      <td>-0.430783</td>\n",
       "      <td>T</td>\n",
       "    </tr>\n",
       "    <tr>\n",
       "      <th>1</th>\n",
       "      <td>2</td>\n",
       "      <td>-0.994252</td>\n",
       "      <td>3.319626</td>\n",
       "      <td>58</td>\n",
       "      <td>-1.386294</td>\n",
       "      <td>0</td>\n",
       "      <td>-1.386294</td>\n",
       "      <td>6</td>\n",
       "      <td>0</td>\n",
       "      <td>-0.162519</td>\n",
       "      <td>T</td>\n",
       "    </tr>\n",
       "    <tr>\n",
       "      <th>2</th>\n",
       "      <td>3</td>\n",
       "      <td>-0.510826</td>\n",
       "      <td>2.691243</td>\n",
       "      <td>74</td>\n",
       "      <td>-1.386294</td>\n",
       "      <td>0</td>\n",
       "      <td>-1.386294</td>\n",
       "      <td>7</td>\n",
       "      <td>20</td>\n",
       "      <td>-0.162519</td>\n",
       "      <td>T</td>\n",
       "    </tr>\n",
       "    <tr>\n",
       "      <th>3</th>\n",
       "      <td>4</td>\n",
       "      <td>-1.203973</td>\n",
       "      <td>3.282789</td>\n",
       "      <td>58</td>\n",
       "      <td>-1.386294</td>\n",
       "      <td>0</td>\n",
       "      <td>-1.386294</td>\n",
       "      <td>6</td>\n",
       "      <td>0</td>\n",
       "      <td>-0.162519</td>\n",
       "      <td>T</td>\n",
       "    </tr>\n",
       "    <tr>\n",
       "      <th>4</th>\n",
       "      <td>5</td>\n",
       "      <td>0.751416</td>\n",
       "      <td>3.432373</td>\n",
       "      <td>62</td>\n",
       "      <td>-1.386294</td>\n",
       "      <td>0</td>\n",
       "      <td>-1.386294</td>\n",
       "      <td>6</td>\n",
       "      <td>0</td>\n",
       "      <td>0.371564</td>\n",
       "      <td>T</td>\n",
       "    </tr>\n",
       "  </tbody>\n",
       "</table>\n",
       "</div>"
      ],
      "text/plain": [
       "   col    lcavol   lweight  age      lbph  svi       lcp  gleason  pgg45  \\\n",
       "0    1 -0.579818  2.769459   50 -1.386294    0 -1.386294        6      0   \n",
       "1    2 -0.994252  3.319626   58 -1.386294    0 -1.386294        6      0   \n",
       "2    3 -0.510826  2.691243   74 -1.386294    0 -1.386294        7     20   \n",
       "3    4 -1.203973  3.282789   58 -1.386294    0 -1.386294        6      0   \n",
       "4    5  0.751416  3.432373   62 -1.386294    0 -1.386294        6      0   \n",
       "\n",
       "       lpsa train  \n",
       "0 -0.430783     T  \n",
       "1 -0.162519     T  \n",
       "2 -0.162519     T  \n",
       "3 -0.162519     T  \n",
       "4  0.371564     T  "
      ]
     },
     "execution_count": 6,
     "metadata": {},
     "output_type": "execute_result"
    }
   ],
   "source": [
    "raw_data.head()"
   ]
  },
  {
   "cell_type": "code",
   "execution_count": 7,
   "metadata": {},
   "outputs": [],
   "source": [
    "X_train = raw_data.iloc[:60,1:-3]\n",
    "y_train = raw_data.iloc[:60,-2]\n",
    "X_test = raw_data.iloc[60:,1:-3]\n",
    "y_test = raw_data.iloc[60:,-2]"
   ]
  },
  {
   "cell_type": "markdown",
   "metadata": {},
   "source": [
    "## Baseline"
   ]
  },
  {
   "cell_type": "code",
   "execution_count": 8,
   "metadata": {},
   "outputs": [
    {
     "name": "stdout",
     "output_type": "stream",
     "text": [
      "2.8641499657014426\n"
     ]
    }
   ],
   "source": [
    "from sklearn import linear_model\n",
    "import numpy as np\n",
    "\n",
    "# On crée un modèle de régression linéaire\n",
    "lr = linear_model.LinearRegression()\n",
    "\n",
    "# On entraîne ce modèle sur les données d'entrainement\n",
    "lr.fit(X_train,y_train)\n",
    "\n",
    "# On récupère l'erreur de norme 2 sur le jeu de données test comme baseline\n",
    "baseline_error = np.mean((lr.predict(X_test) - y_test) ** 2)\n",
    "\n",
    "print(baseline_error)"
   ]
  },
  {
   "cell_type": "markdown",
   "metadata": {},
   "source": [
    "## Ridge"
   ]
  },
  {
   "cell_type": "code",
   "execution_count": 13,
   "metadata": {},
   "outputs": [
    {
     "data": {
      "text/plain": [
       "array([1.00000000e-05, 1.12266777e-05, 1.26038293e-05, 1.41499130e-05,\n",
       "       1.58856513e-05, 1.78343088e-05, 2.00220037e-05, 2.24780583e-05,\n",
       "       2.52353917e-05, 2.83309610e-05, 3.18062569e-05, 3.57078596e-05,\n",
       "       4.00880633e-05, 4.50055768e-05, 5.05263107e-05, 5.67242607e-05,\n",
       "       6.36824994e-05, 7.14942899e-05, 8.02643352e-05, 9.01101825e-05,\n",
       "       1.01163798e-04, 1.13573336e-04, 1.27505124e-04, 1.43145894e-04,\n",
       "       1.60705282e-04, 1.80418641e-04, 2.02550194e-04, 2.27396575e-04,\n",
       "       2.55290807e-04, 2.86606762e-04, 3.21764175e-04, 3.61234270e-04,\n",
       "       4.05546074e-04, 4.55293507e-04, 5.11143348e-04, 5.73844165e-04,\n",
       "       6.44236351e-04, 7.23263390e-04, 8.11984499e-04, 9.11588830e-04,\n",
       "       1.02341140e-03, 1.14895100e-03, 1.28989026e-03, 1.44811823e-03,\n",
       "       1.62575567e-03, 1.82518349e-03, 2.04907469e-03, 2.30043012e-03,\n",
       "       2.58261876e-03, 2.89942285e-03, 3.25508860e-03, 3.65438307e-03,\n",
       "       4.10265811e-03, 4.60592204e-03, 5.17092024e-03, 5.80522552e-03,\n",
       "       6.51733960e-03, 7.31680714e-03, 8.21434358e-03, 9.22197882e-03,\n",
       "       1.03532184e-02, 1.16232247e-02, 1.30490198e-02, 1.46497140e-02,\n",
       "       1.64467618e-02, 1.84642494e-02, 2.07292178e-02, 2.32720248e-02,\n",
       "       2.61267523e-02, 2.93316628e-02, 3.29297126e-02, 3.69691271e-02,\n",
       "       4.15040476e-02, 4.65952567e-02, 5.23109931e-02, 5.87278661e-02,\n",
       "       6.59318827e-02, 7.40196000e-02, 8.30994195e-02, 9.32930403e-02,\n",
       "       1.04737090e-01, 1.17584955e-01, 1.32008840e-01, 1.48202071e-01,\n",
       "       1.66381689e-01, 1.86791360e-01, 2.09704640e-01, 2.35428641e-01,\n",
       "       2.64308149e-01, 2.96730241e-01, 3.33129479e-01, 3.73993730e-01,\n",
       "       4.19870708e-01, 4.71375313e-01, 5.29197874e-01, 5.94113398e-01,\n",
       "       6.66991966e-01, 7.48810386e-01, 8.40665289e-01, 9.43787828e-01,\n",
       "       1.05956018e+00, 1.18953407e+00, 1.33545156e+00, 1.49926843e+00,\n",
       "       1.68318035e+00, 1.88965234e+00, 2.12145178e+00, 2.38168555e+00,\n",
       "       2.67384162e+00, 3.00183581e+00, 3.37006433e+00, 3.78346262e+00,\n",
       "       4.24757155e+00, 4.76861170e+00, 5.35356668e+00, 6.01027678e+00,\n",
       "       6.74754405e+00, 7.57525026e+00, 8.50448934e+00, 9.54771611e+00,\n",
       "       1.07189132e+01, 1.20337784e+01, 1.35099352e+01, 1.51671689e+01,\n",
       "       1.70276917e+01, 1.91164408e+01, 2.14614120e+01, 2.40940356e+01,\n",
       "       2.70495973e+01, 3.03677112e+01, 3.40928507e+01, 3.82749448e+01,\n",
       "       4.29700470e+01, 4.82410870e+01, 5.41587138e+01, 6.08022426e+01,\n",
       "       6.82607183e+01, 7.66341087e+01, 8.60346442e+01, 9.65883224e+01,\n",
       "       1.08436597e+02, 1.21738273e+02, 1.36671636e+02, 1.53436841e+02,\n",
       "       1.72258597e+02, 1.93389175e+02, 2.17111795e+02, 2.43744415e+02,\n",
       "       2.73644000e+02, 3.07211300e+02, 3.44896226e+02, 3.87203878e+02,\n",
       "       4.34701316e+02, 4.88025158e+02, 5.47890118e+02, 6.15098579e+02,\n",
       "       6.90551352e+02, 7.75259749e+02, 8.70359136e+02, 9.77124154e+02,\n",
       "       1.09698580e+03, 1.23155060e+03, 1.38262217e+03, 1.55222536e+03,\n",
       "       1.74263339e+03, 1.95639834e+03, 2.19638537e+03, 2.46581108e+03,\n",
       "       2.76828663e+03, 3.10786619e+03, 3.48910121e+03, 3.91710149e+03,\n",
       "       4.39760361e+03, 4.93704785e+03, 5.54266452e+03, 6.22257084e+03,\n",
       "       6.98587975e+03, 7.84282206e+03, 8.80488358e+03, 9.88495905e+03,\n",
       "       1.10975250e+04, 1.24588336e+04, 1.39871310e+04, 1.57029012e+04,\n",
       "       1.76291412e+04, 1.97916687e+04, 2.22194686e+04, 2.49450814e+04,\n",
       "       2.80050389e+04, 3.14403547e+04, 3.52970730e+04, 3.96268864e+04,\n",
       "       4.44878283e+04, 4.99450512e+04, 5.60716994e+04, 6.29498899e+04,\n",
       "       7.06718127e+04, 7.93409667e+04, 8.90735464e+04, 1.00000000e+05])"
      ]
     },
     "execution_count": 13,
     "metadata": {},
     "output_type": "execute_result"
    }
   ],
   "source": [
    "n_alphas = 200\n",
    "alphas = np.logspace(-5, 5, n_alphas)\n",
    "alphas"
   ]
  },
  {
   "cell_type": "code",
   "execution_count": 14,
   "metadata": {},
   "outputs": [],
   "source": [
    "from sklearn.linear_model import Ridge\n",
    "ridge = linear_model.Ridge()\n",
    "\n",
    "coefs = []\n",
    "errors = []\n",
    "for a in alphas:\n",
    "    ridge.set_params(alpha=a)\n",
    "    ridge.fit(X_train, y_train)\n",
    "    coefs.append(ridge.coef_)\n",
    "    errors.append([baseline_error, np.mean((ridge.predict(X_test) - y_test) ** 2)])"
   ]
  },
  {
   "cell_type": "code",
   "execution_count": 17,
   "metadata": {},
   "outputs": [
    {
     "data": {
      "text/plain": [
       "[[2.8641499657014426, 2.8641406411212396],\n",
       " [2.8641499657014426, 2.864139497307638],\n",
       " [2.8641499657014426, 2.8641382131880633],\n",
       " [2.8641499657014426, 2.8641367715523036],\n",
       " [2.8641499657014426, 2.8641351530792116],\n",
       " [2.8641499657014426, 2.8641333360778285],\n",
       " [2.8641499657014426, 2.864131296196744],\n",
       " [2.8641499657014426, 2.864129006097834],\n",
       " [2.8641499657014426, 2.8641264350900015],\n",
       " [2.8641499657014426, 2.8641235487180046],\n",
       " [2.8641499657014426, 2.864120308300897],\n",
       " [2.8641499657014426, 2.8641166704138845],\n",
       " [2.8641499657014426, 2.8641125863066903],\n",
       " [2.8641499657014426, 2.864108001250631],\n",
       " [2.8641499657014426, 2.864102853805705],\n",
       " [2.8641499657014426, 2.8640970749978707],\n",
       " [2.8641499657014426, 2.8640905873955744],\n",
       " [2.8641499657014426, 2.864083304073151],\n",
       " [2.8641499657014426, 2.8640751274473204],\n",
       " [2.8641499657014426, 2.864065947971222],\n",
       " [2.8641499657014426, 2.8640556426686388],\n",
       " [2.8641499657014426, 2.864044073488858],\n",
       " [2.8641499657014426, 2.864031085460312],\n",
       " [2.8641499657014426, 2.864016504618443],\n",
       " [2.8641499657014426, 2.864000135680317],\n",
       " [2.8641499657014426, 2.8639817594351253],\n",
       " [2.8641499657014426, 2.8639611298160577],\n",
       " [2.8641499657014426, 2.8639379706148],\n",
       " [2.8641499657014426, 2.8639119717953183],\n",
       " [2.8641499657014426, 2.8638827853583875],\n",
       " [2.8641499657014426, 2.863850020702477],\n",
       " [2.8641499657014426, 2.8638132394201885],\n",
       " [2.8641499657014426, 2.863771949462205],\n",
       " [2.8641499657014426, 2.8637255985926653],\n",
       " [2.8641499657014426, 2.863673567050954],\n",
       " [2.8641499657014426, 2.863615159324956],\n",
       " [2.8641499657014426, 2.8635495949298004],\n",
       " [2.8641499657014426, 2.8634759980738878],\n",
       " [2.8641499657014426, 2.863393386080495],\n",
       " [2.8641499657014426, 2.8633006564183403],\n",
       " [2.8641499657014426, 2.8631965721780066],\n",
       " [2.8641499657014426, 2.863079745813149],\n",
       " [2.8641499657014426, 2.8629486209456094],\n",
       " [2.8641499657014426, 2.862801452011992],\n",
       " [2.8641499657014426, 2.862636281505922],\n",
       " [2.8641499657014426, 2.8624509145447927],\n",
       " [2.8641499657014426, 2.8622428904628565],\n",
       " [2.8641499657014426, 2.8620094511033622],\n",
       " [2.8641499657014426, 2.8617475054520933],\n",
       " [2.8641499657014426, 2.8614535902227134],\n",
       " [2.8641499657014426, 2.861123825971627],\n",
       " [2.8641499657014426, 2.860753868287044],\n",
       " [2.8641499657014426, 2.8603388535646648],\n",
       " [2.8641499657014426, 2.8598733388518243],\n",
       " [2.8641499657014426, 2.8593512352149912],\n",
       " [2.8641499657014426, 2.8587657340641086],\n",
       " [2.8641499657014426, 2.858109225854201],\n",
       " [2.8641499657014426, 2.857373210583685],\n",
       " [2.8641499657014426, 2.8565481995241386],\n",
       " [2.8641499657014426, 2.8556236076539725],\n",
       " [2.8641499657014426, 2.8545876363352174],\n",
       " [2.8641499657014426, 2.8534271458776335],\n",
       " [2.8641499657014426, 2.8521275177879697],\n",
       " [2.8641499657014426, 2.850672506717659],\n",
       " [2.8641499657014426, 2.8490440824147214],\n",
       " [2.8641499657014426, 2.8472222623737458],\n",
       " [2.8641499657014426, 2.845184936382096],\n",
       " [2.8641499657014426, 2.8429076848054913],\n",
       " [2.8641499657014426, 2.840363593267863],\n",
       " [2.8641499657014426, 2.837523067387461],\n",
       " [2.8641499657014426, 2.8343536524625472],\n",
       " [2.8641499657014426, 2.830819864483194],\n",
       " [2.8641499657014426, 2.8268830406031333],\n",
       " [2.8641499657014426, 2.82250121925157],\n",
       " [2.8641499657014426, 2.8176290623965956],\n",
       " [2.8641499657014426, 2.812217835064273],\n",
       " [2.8641499657014426, 2.806215460009589],\n",
       " [2.8641499657014426, 2.7995666683200353],\n",
       " [2.8641499657014426, 2.792213269538772],\n",
       " [2.8641499657014426, 2.7840945673744466],\n",
       " [2.8641499657014426, 2.7751479488765893],\n",
       " [2.8641499657014426, 2.765309675654156],\n",
       " [2.8641499657014426, 2.7545159047478913],\n",
       " [2.8641499657014426, 2.7427039634887693],\n",
       " [2.8641499657014426, 2.729813896378815],\n",
       " [2.8641499657014426, 2.715790292016287],\n",
       " [2.8641499657014426, 2.7005843837603107],\n",
       " [2.8641499657014426, 2.6841563988458557],\n",
       " [2.8641499657014426, 2.666478107102369],\n",
       " [2.8641499657014426, 2.647535493010295],\n",
       " [2.8641499657014426, 2.627331445078163],\n",
       " [2.8641499657014426, 2.6058883269146866],\n",
       " [2.8641499657014426, 2.583250268334587],\n",
       " [2.8641499657014426, 2.559484996575436],\n",
       " [2.8641499657014426, 2.5346850217675074],\n",
       " [2.8641499657014426, 2.5089680014186015],\n",
       " [2.8641499657014426, 2.482476138887712],\n",
       " [2.8641499657014426, 2.4553745215421268],\n",
       " [2.8641499657014426, 2.427848373546546],\n",
       " [2.8641499657014426, 2.4000992807863835],\n",
       " [2.8641499657014426, 2.3723405330434457],\n",
       " [2.8641499657014426, 2.3447918109540478],\n",
       " [2.8641499657014426, 2.317673511789772],\n",
       " [2.8641499657014426, 2.291201049502337],\n",
       " [2.8641499657014426, 2.265579474844709],\n",
       " [2.8641499657014426, 2.240998739277942],\n",
       " [2.8641499657014426, 2.2176298750848003],\n",
       " [2.8641499657014426, 2.1956222908806695],\n",
       " [2.8641499657014426, 2.1751022961522706],\n",
       " [2.8641499657014426, 2.156172880588643],\n",
       " [2.8641499657014426, 2.1389146924252023],\n",
       " [2.8641499657014426, 2.1233880908173335],\n",
       " [2.8641499657014426, 2.1096360933963036],\n",
       " [2.8641499657014426, 2.0976880019991198],\n",
       " [2.8641499657014426, 2.087563465740695],\n",
       " [2.8641499657014426, 2.079276729113415],\n",
       " [2.8641499657014426, 2.0728408119522994],\n",
       " [2.8641499657014426, 2.068271376999999],\n",
       " [2.8641499657014426, 2.065590059372972],\n",
       " [2.8641499657014426, 2.064827060795021],\n",
       " [2.8641499657014426, 2.0660228500791806],\n",
       " [2.8641499657014426, 2.0692288591098023],\n",
       " [2.8641499657014426, 2.0745071182288894],\n",
       " [2.8641499657014426, 2.0819288327831136],\n",
       " [2.8641499657014426, 2.091571958987335],\n",
       " [2.8641499657014426, 2.1035178874063334],\n",
       " [2.8641499657014426, 2.1178473823199524],\n",
       " [2.8641499657014426, 2.1346359529077485],\n",
       " [2.8641499657014426, 2.153948847858751],\n",
       " [2.8641499657014426, 2.175835871367846],\n",
       " [2.8641499657014426, 2.200326219911562],\n",
       " [2.8641499657014426, 2.227423540497382],\n",
       " [2.8641499657014426, 2.257101415832257],\n",
       " [2.8641499657014426, 2.2892994909060222],\n",
       " [2.8641499657014426, 2.323920466016118],\n",
       " [2.8641499657014426, 2.3608281868300427],\n",
       " [2.8641499657014426, 2.399847053825795],\n",
       " [2.8641499657014426, 2.4407629422948833],\n",
       " [2.8641499657014426, 2.483325763513899],\n",
       " [2.8641499657014426, 2.5272537062903586],\n",
       " [2.8641499657014426, 2.5722390811929765],\n",
       " [2.8641499657014426, 2.617955559454716],\n",
       " [2.8641499657014426, 2.6640664718285167],\n",
       " [2.8641499657014426, 2.710233728347721],\n",
       " [2.8641499657014426, 2.7561268545643904],\n",
       " [2.8641499657014426, 2.801431624200744],\n",
       " [2.8641499657014426, 2.8458578049927628],\n",
       " [2.8641499657014426, 2.889145618112769],\n",
       " [2.8641499657014426, 2.9310706292286173],\n",
       " [2.8641499657014426, 2.971446924156196],\n",
       " [2.8641499657014426, 3.010128556615803],\n",
       " [2.8641499657014426, 3.0470093745860867],\n",
       " [2.8641499657014426, 3.0820214244175146],\n",
       " [2.8641499657014426, 3.1151321928609086],\n",
       " [2.8641499657014426, 3.146340976251646],\n",
       " [2.8641499657014426, 3.17567466706524],\n",
       " [2.8641499657014426, 3.2031832272510905],\n",
       " [2.8641499657014426, 3.2289350824875],\n",
       " [2.8641499657014426, 3.253012628849878],\n",
       " [2.8641499657014426, 3.2755079992823566],\n",
       " [2.8641499657014426, 3.296519196060256],\n",
       " [2.8641499657014426, 3.316146659784867],\n",
       " [2.8641499657014426, 3.3344903164760717],\n",
       " [2.8641499657014426, 3.3516471218948665],\n",
       " [2.8641499657014426, 3.367709105346978],\n",
       " [2.8641499657014426, 3.3827619024320246],\n",
       " [2.8641499657014426, 3.3968837559561433],\n",
       " [2.8641499657014426, 3.410144955185943],\n",
       " [2.8641499657014426, 3.42260767491316],\n",
       " [2.8641499657014426, 3.43432616713547],\n",
       " [2.8641499657014426, 3.44534724984951],\n",
       " [2.8641499657014426, 3.4557110302836307],\n",
       " [2.8641499657014426, 3.465451794909964],\n",
       " [2.8641499657014426, 3.474598996777583],\n",
       " [2.8641499657014426, 3.4831782728029506],\n",
       " [2.8641499657014426, 3.491212429830374],\n",
       " [2.8641499657014426, 3.498722348127778],\n",
       " [2.8641499657014426, 3.5057277635661652],\n",
       " [2.8641499657014426, 3.5122479037322423],\n",
       " [2.8641499657014426, 3.5183019672059417],\n",
       " [2.8641499657014426, 3.5239094478816777],\n",
       " [2.8641499657014426, 3.529090316523515],\n",
       " [2.8641499657014426, 3.5338650791421187],\n",
       " [2.8641499657014426, 3.5382547361247796],\n",
       " [2.8641499657014426, 3.5422806675714047],\n",
       " [2.8641499657014426, 3.545964469483127],\n",
       " [2.8641499657014426, 3.5493277629451225],\n",
       " [2.8641499657014426, 3.552391994890991],\n",
       " [2.8641499657014426, 3.555178245016825],\n",
       " [2.8641499657014426, 3.557707049396751],\n",
       " [2.8641499657014426, 3.559998247669852],\n",
       " [2.8641499657014426, 3.562070857521314],\n",
       " [2.8641499657014426, 3.563942977657749],\n",
       " [2.8641499657014426, 3.565631718583044],\n",
       " [2.8641499657014426, 3.5671531591655983],\n",
       " [2.8641499657014426, 3.5685223261672125],\n",
       " [2.8641499657014426, 3.5697531934819047],\n",
       " [2.8641499657014426, 3.5708586977139496],\n",
       " [2.8641499657014426, 3.571850766821537],\n",
       " [2.8641499657014426, 3.5727403587921196]]"
      ]
     },
     "execution_count": 17,
     "metadata": {},
     "output_type": "execute_result"
    }
   ],
   "source": [
    "errors"
   ]
  },
  {
   "cell_type": "code",
   "execution_count": 18,
   "metadata": {},
   "outputs": [
    {
     "data": {
      "image/png": "[encoded data removed]",
      "text/plain": [
       "<Figure size 432x288 with 1 Axes>"
      ]
     },
     "metadata": {
      "needs_background": "light"
     },
     "output_type": "display_data"
    }
   ],
   "source": [
    "import matplotlib.pyplot as plt\n",
    "\n",
    "ax = plt.gca()\n",
    "\n",
    "ax.plot(alphas, coefs)\n",
    "ax.set_xscale('log')\n",
    "plt.xlabel('alpha')\n",
    "plt.ylabel('weights')\n",
    "plt.title('Ridge coefficients as a function of the regularization')\n",
    "plt.axis('tight')\n",
    "plt.show()"
   ]
  },
  {
   "cell_type": "code",
   "execution_count": 19,
   "metadata": {},
   "outputs": [
    {
     "data": {
      "image/png": "[encoded data removed]",
      "text/plain": [
       "<Figure size 432x288 with 1 Axes>"
      ]
     },
     "metadata": {
      "needs_background": "light"
     },
     "output_type": "display_data"
    }
   ],
   "source": [
    "ax = plt.gca()\n",
    "\n",
    "ax.plot(alphas, errors)\n",
    "ax.set_xscale('log')\n",
    "plt.xlabel('alpha')\n",
    "plt.ylabel('error')\n",
    "plt.axis('tight')\n",
    "plt.show()"
   ]
  },
  {
   "cell_type": "code",
   "execution_count": 20,
   "metadata": {},
   "outputs": [
    {
     "data": {
      "text/plain": [
       "[2.8641499657014426, 2.064827060795021]"
      ]
     },
     "execution_count": 20,
     "metadata": {},
     "output_type": "execute_result"
    }
   ],
   "source": [
    "min(errors)"
   ]
  },
  {
   "cell_type": "markdown",
   "metadata": {},
   "source": [
    "## Lasso"
   ]
  },
  {
   "cell_type": "code",
   "execution_count": 21,
   "metadata": {},
   "outputs": [],
   "source": [
    "n_alphas = 300\n",
    "alphas = np.logspace(-5, 1, n_alphas)\n",
    "lasso = linear_model.Lasso(fit_intercept=False)\n",
    "\n",
    "coefs = []\n",
    "errors = []\n",
    "for a in alphas:\n",
    "    lasso.set_params(alpha=a)\n",
    "    lasso.fit(X_train, y_train)\n",
    "    coefs.append(lasso.coef_)\n",
    "    errors.append([baseline_error, np.mean((lasso.predict(X_test) - y_test) ** 2)])"
   ]
  },
  {
   "cell_type": "code",
   "execution_count": 22,
   "metadata": {},
   "outputs": [
    {
     "data": {
      "image/png": "[encoded data removed]",
      "text/plain": [
       "<Figure size 432x288 with 1 Axes>"
      ]
     },
     "metadata": {
      "needs_background": "light"
     },
     "output_type": "display_data"
    }
   ],
   "source": [
    "ax = plt.gca()\n",
    "\n",
    "ax.plot(alphas, coefs)\n",
    "ax.set_xscale('log')\n",
    "plt.xlabel('alpha')\n",
    "plt.ylabel('weights')\n",
    "plt.axis('tight')\n",
    "plt.show()"
   ]
  },
  {
   "cell_type": "code",
   "execution_count": 23,
   "metadata": {},
   "outputs": [
    {
     "data": {
      "image/png": "[encoded data removed]",
      "text/plain": [
       "<Figure size 432x288 with 1 Axes>"
      ]
     },
     "metadata": {
      "needs_background": "light"
     },
     "output_type": "display_data"
    }
   ],
   "source": [
    "ax = plt.gca()\n",
    "\n",
    "ax.plot(alphas, errors)\n",
    "ax.set_xscale('log')\n",
    "plt.xlabel('alpha')\n",
    "plt.ylabel('error')\n",
    "plt.axis('tight')\n",
    "plt.show()"
   ]
  },
  {
   "cell_type": "code",
   "execution_count": 24,
   "metadata": {},
   "outputs": [
    {
     "data": {
      "text/plain": [
       "[2.8641499657014426, 1.8531561201728373]"
      ]
     },
     "execution_count": 24,
     "metadata": {},
     "output_type": "execute_result"
    }
   ],
   "source": [
    "min(errors)"
   ]
  },
  {
   "cell_type": "markdown",
   "metadata": {},
   "source": [
    "## Quiz"
   ]
  },
  {
   "cell_type": "code",
   "execution_count": 34,
   "metadata": {},
   "outputs": [
    {
     "data": {
      "image/png": "[encoded data removed]",
      "text/plain": [
       "<Figure size 432x288 with 1 Axes>"
      ]
     },
     "metadata": {
      "needs_background": "light"
     },
     "output_type": "display_data"
    }
   ],
   "source": [
    "df = pd.DataFrame({'x' : [-0.78768, -1.51760513, 0.74416271, -0.62288928],\n",
    "                   'y' : [-34.59703199, -30.79543532, 19.31018182, -19.44809959]})\n",
    "\n",
    "ax = plt.gca()\n",
    "\n",
    "ax.scatter(df.x, df.y)\n",
    "plt.axis('tight')\n",
    "plt.show()"
   ]
  },
  {
   "cell_type": "code",
   "execution_count": 37,
   "metadata": {},
   "outputs": [],
   "source": [
    "df['y1'] = df.x * 52\n",
    "df['y2'] = df.x * 13\n",
    "df['y3'] = df.x * 26\n",
    "df['y4'] = df.x * 32\n",
    "\n",
    "df['e1_carre'] = (df.y - df.y1)**2\n",
    "df['e2_carre'] = (df.y - df.y2)**2\n",
    "df['e3_carre'] = (df.y - df.y3)**2\n",
    "df['e4_carre'] = (df.y - df.y4)**2"
   ]
  },
  {
   "cell_type": "code",
   "execution_count": 38,
   "metadata": {},
   "outputs": [
    {
     "data": {
      "text/html": [
       "<div>\n",
       "<style scoped>\n",
       "    .dataframe tbody tr th:only-of-type {\n",
       "        vertical-align: middle;\n",
       "    }\n",
       "\n",
       "    .dataframe tbody tr th {\n",
       "        vertical-align: top;\n",
       "    }\n",
       "\n",
       "    .dataframe thead th {\n",
       "        text-align: right;\n",
       "    }\n",
       "</style>\n",
       "<table border=\"1\" class=\"dataframe\">\n",
       "  <thead>\n",
       "    <tr style=\"text-align: right;\">\n",
       "      <th></th>\n",
       "      <th>x</th>\n",
       "      <th>y</th>\n",
       "      <th>y1</th>\n",
       "      <th>y2</th>\n",
       "      <th>y3</th>\n",
       "      <th>y4</th>\n",
       "      <th>e1_carre</th>\n",
       "      <th>e2_carre</th>\n",
       "      <th>e3_carre</th>\n",
       "      <th>e4_carre</th>\n",
       "    </tr>\n",
       "  </thead>\n",
       "  <tbody>\n",
       "    <tr>\n",
       "      <th>0</th>\n",
       "      <td>-0.787680</td>\n",
       "      <td>-34.597032</td>\n",
       "      <td>-40.959360</td>\n",
       "      <td>-10.239840</td>\n",
       "      <td>-20.479680</td>\n",
       "      <td>-25.205760</td>\n",
       "      <td>40.479218</td>\n",
       "      <td>593.272802</td>\n",
       "      <td>199.299627</td>\n",
       "      <td>88.195990</td>\n",
       "    </tr>\n",
       "    <tr>\n",
       "      <th>1</th>\n",
       "      <td>-1.517605</td>\n",
       "      <td>-30.795435</td>\n",
       "      <td>-78.915467</td>\n",
       "      <td>-19.728867</td>\n",
       "      <td>-39.457733</td>\n",
       "      <td>-48.563364</td>\n",
       "      <td>2315.537426</td>\n",
       "      <td>122.468941</td>\n",
       "      <td>75.035408</td>\n",
       "      <td>315.699295</td>\n",
       "    </tr>\n",
       "    <tr>\n",
       "      <th>2</th>\n",
       "      <td>0.744163</td>\n",
       "      <td>19.310182</td>\n",
       "      <td>38.696461</td>\n",
       "      <td>9.674115</td>\n",
       "      <td>19.348230</td>\n",
       "      <td>23.813207</td>\n",
       "      <td>375.827817</td>\n",
       "      <td>92.853779</td>\n",
       "      <td>0.001448</td>\n",
       "      <td>20.277233</td>\n",
       "    </tr>\n",
       "    <tr>\n",
       "      <th>3</th>\n",
       "      <td>-0.622889</td>\n",
       "      <td>-19.448100</td>\n",
       "      <td>-32.390243</td>\n",
       "      <td>-8.097561</td>\n",
       "      <td>-16.195121</td>\n",
       "      <td>-19.932457</td>\n",
       "      <td>167.499065</td>\n",
       "      <td>128.834734</td>\n",
       "      <td>10.581868</td>\n",
       "      <td>0.234602</td>\n",
       "    </tr>\n",
       "  </tbody>\n",
       "</table>\n",
       "</div>"
      ],
      "text/plain": [
       "          x          y         y1         y2         y3         y4  \\\n",
       "0 -0.787680 -34.597032 -40.959360 -10.239840 -20.479680 -25.205760   \n",
       "1 -1.517605 -30.795435 -78.915467 -19.728867 -39.457733 -48.563364   \n",
       "2  0.744163  19.310182  38.696461   9.674115  19.348230  23.813207   \n",
       "3 -0.622889 -19.448100 -32.390243  -8.097561 -16.195121 -19.932457   \n",
       "\n",
       "      e1_carre    e2_carre    e3_carre    e4_carre  \n",
       "0    40.479218  593.272802  199.299627   88.195990  \n",
       "1  2315.537426  122.468941   75.035408  315.699295  \n",
       "2   375.827817   92.853779    0.001448   20.277233  \n",
       "3   167.499065  128.834734   10.581868    0.234602  "
      ]
     },
     "execution_count": 38,
     "metadata": {},
     "output_type": "execute_result"
    }
   ],
   "source": [
    "df"
   ]
  },
  {
   "cell_type": "code",
   "execution_count": 41,
   "metadata": {},
   "outputs": [
    {
     "data": {
      "text/plain": [
       "x            -0.546003\n",
       "y           -16.382596\n",
       "y1          -28.392152\n",
       "y2           -7.098038\n",
       "y3          -14.196076\n",
       "y4          -17.472094\n",
       "e1_carre    724.835881\n",
       "e2_carre    234.357564\n",
       "e3_carre     71.229588\n",
       "e4_carre    106.101780\n",
       "dtype: float64"
      ]
     },
     "execution_count": 41,
     "metadata": {},
     "output_type": "execute_result"
    }
   ],
   "source": [
    "df.sum(axis=0)/4"
   ]
  }
 ],
 "metadata": {
  "kernelspec": {
   "display_name": "Python 3",
   "language": "python",
   "name": "python3"
  },
  "language_info": {
   "codemirror_mode": {
    "name": "ipython",
    "version": 3
   },
   "file_extension": ".py",
   "mimetype": "text/x-python",
   "name": "python",
   "nbconvert_exporter": "python",
   "pygments_lexer": "ipython3",
   "version": "3.8.5"
  }
 },
 "nbformat": 4,
 "nbformat_minor": 4
}
